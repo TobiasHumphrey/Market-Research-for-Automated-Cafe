{
 "cells": [
  {
   "cell_type": "markdown",
   "metadata": {},
   "source": [
    "# Market Research for Automated Cafe"
   ]
  },
  {
   "cell_type": "markdown",
   "metadata": {},
   "source": [
    "In this project we will be presenting some market research using open-source data on restaurants in LA. The goal is to inform potential investors of characteristics which are predictive of success for an automated cafe."
   ]
  },
  {
   "cell_type": "markdown",
   "metadata": {},
   "source": [
    "## Download the data and prepare it for analysis"
   ]
  },
  {
   "cell_type": "markdown",
   "metadata": {},
   "source": [
    "To begin, we will import the data, take an overview and prep it for analysis."
   ]
  },
  {
   "cell_type": "markdown",
   "metadata": {},
   "source": [
    "### IMPORT LIBRARIES & DATA"
   ]
  },
  {
   "cell_type": "markdown",
   "metadata": {},
   "source": [
    "Let's import the needed libraries first."
   ]
  },
  {
   "cell_type": "code",
   "execution_count": 1,
   "metadata": {},
   "outputs": [],
   "source": [
    "import warnings\n",
    "warnings.filterwarnings('ignore')\n",
    "\n",
    "import pandas as pd\n",
    "import matplotlib.pyplot as plt\n",
    "import seaborn as sns\n",
    "import numpy as np\n",
    "import scipy.stats as stats"
   ]
  },
  {
   "cell_type": "markdown",
   "metadata": {},
   "source": [
    "Now, we will import our /datasets/rest_data_us file."
   ]
  },
  {
   "cell_type": "code",
   "execution_count": 2,
   "metadata": {},
   "outputs": [],
   "source": [
    "try:\n",
    "    rest_data = pd.read_csv('rest_data_us.csv')\n",
    "except:\n",
    "    rest_data = pd.read_csv('/datasets/rest_data_us.csv')"
   ]
  },
  {
   "cell_type": "markdown",
   "metadata": {},
   "source": [
    "### OVERVIEW"
   ]
  },
  {
   "cell_type": "code",
   "execution_count": 3,
   "metadata": {},
   "outputs": [
    {
     "name": "stdout",
     "output_type": "stream",
     "text": [
      "<class 'pandas.core.frame.DataFrame'>\n",
      "RangeIndex: 9651 entries, 0 to 9650\n",
      "Data columns (total 6 columns):\n",
      " #   Column       Non-Null Count  Dtype \n",
      "---  ------       --------------  ----- \n",
      " 0   id           9651 non-null   int64 \n",
      " 1   object_name  9651 non-null   object\n",
      " 2   address      9651 non-null   object\n",
      " 3   chain        9648 non-null   object\n",
      " 4   object_type  9651 non-null   object\n",
      " 5   number       9651 non-null   int64 \n",
      "dtypes: int64(2), object(4)\n",
      "memory usage: 452.5+ KB\n",
      "\n"
     ]
    },
    {
     "data": {
      "text/html": [
       "<div>\n",
       "<style scoped>\n",
       "    .dataframe tbody tr th:only-of-type {\n",
       "        vertical-align: middle;\n",
       "    }\n",
       "\n",
       "    .dataframe tbody tr th {\n",
       "        vertical-align: top;\n",
       "    }\n",
       "\n",
       "    .dataframe thead th {\n",
       "        text-align: right;\n",
       "    }\n",
       "</style>\n",
       "<table border=\"1\" class=\"dataframe\">\n",
       "  <thead>\n",
       "    <tr style=\"text-align: right;\">\n",
       "      <th></th>\n",
       "      <th>id</th>\n",
       "      <th>object_name</th>\n",
       "      <th>address</th>\n",
       "      <th>chain</th>\n",
       "      <th>object_type</th>\n",
       "      <th>number</th>\n",
       "    </tr>\n",
       "  </thead>\n",
       "  <tbody>\n",
       "    <tr>\n",
       "      <th>0</th>\n",
       "      <td>11786</td>\n",
       "      <td>HABITAT COFFEE SHOP</td>\n",
       "      <td>3708 N EAGLE ROCK BLVD</td>\n",
       "      <td>False</td>\n",
       "      <td>Cafe</td>\n",
       "      <td>26</td>\n",
       "    </tr>\n",
       "    <tr>\n",
       "      <th>1</th>\n",
       "      <td>11787</td>\n",
       "      <td>REILLY'S</td>\n",
       "      <td>100 WORLD WAY # 120</td>\n",
       "      <td>False</td>\n",
       "      <td>Restaurant</td>\n",
       "      <td>9</td>\n",
       "    </tr>\n",
       "    <tr>\n",
       "      <th>2</th>\n",
       "      <td>11788</td>\n",
       "      <td>STREET CHURROS</td>\n",
       "      <td>6801 HOLLYWOOD BLVD # 253</td>\n",
       "      <td>False</td>\n",
       "      <td>Fast Food</td>\n",
       "      <td>20</td>\n",
       "    </tr>\n",
       "    <tr>\n",
       "      <th>3</th>\n",
       "      <td>11789</td>\n",
       "      <td>TRINITI ECHO PARK</td>\n",
       "      <td>1814 W SUNSET BLVD</td>\n",
       "      <td>False</td>\n",
       "      <td>Restaurant</td>\n",
       "      <td>22</td>\n",
       "    </tr>\n",
       "    <tr>\n",
       "      <th>4</th>\n",
       "      <td>11790</td>\n",
       "      <td>POLLEN</td>\n",
       "      <td>2100 ECHO PARK AVE</td>\n",
       "      <td>False</td>\n",
       "      <td>Restaurant</td>\n",
       "      <td>20</td>\n",
       "    </tr>\n",
       "  </tbody>\n",
       "</table>\n",
       "</div>"
      ],
      "text/plain": [
       "      id          object_name                    address  chain object_type  \\\n",
       "0  11786  HABITAT COFFEE SHOP     3708 N EAGLE ROCK BLVD  False        Cafe   \n",
       "1  11787             REILLY'S        100 WORLD WAY # 120  False  Restaurant   \n",
       "2  11788       STREET CHURROS  6801 HOLLYWOOD BLVD # 253  False   Fast Food   \n",
       "3  11789    TRINITI ECHO PARK         1814 W SUNSET BLVD  False  Restaurant   \n",
       "4  11790               POLLEN         2100 ECHO PARK AVE  False  Restaurant   \n",
       "\n",
       "   number  \n",
       "0      26  \n",
       "1       9  \n",
       "2      20  \n",
       "3      22  \n",
       "4      20  "
      ]
     },
     "execution_count": 3,
     "metadata": {},
     "output_type": "execute_result"
    }
   ],
   "source": [
    "rest_data.info()\n",
    "print()\n",
    "rest_data.head()"
   ]
  },
  {
   "cell_type": "markdown",
   "metadata": {},
   "source": [
    "Everything in visits looks great. There are (3) missing values in the \"chains\" column we will need to address. The data displays various establishments in LA. There is a unique ID for each establishment. Other information included is the establishment name, address, chain status, establishment type and number of seats."
   ]
  },
  {
   "cell_type": "markdown",
   "metadata": {},
   "source": [
    "### PREPROCESSING"
   ]
  },
  {
   "cell_type": "markdown",
   "metadata": {},
   "source": [
    "Let's take a look at the missing values and decide how to handle them. We will also check for duplicates.\n",
    "\n",
    "Let's look at the missing values using .isnull() along with .any()."
   ]
  },
  {
   "cell_type": "code",
   "execution_count": 4,
   "metadata": {},
   "outputs": [
    {
     "data": {
      "text/html": [
       "<div>\n",
       "<style scoped>\n",
       "    .dataframe tbody tr th:only-of-type {\n",
       "        vertical-align: middle;\n",
       "    }\n",
       "\n",
       "    .dataframe tbody tr th {\n",
       "        vertical-align: top;\n",
       "    }\n",
       "\n",
       "    .dataframe thead th {\n",
       "        text-align: right;\n",
       "    }\n",
       "</style>\n",
       "<table border=\"1\" class=\"dataframe\">\n",
       "  <thead>\n",
       "    <tr style=\"text-align: right;\">\n",
       "      <th></th>\n",
       "      <th>id</th>\n",
       "      <th>object_name</th>\n",
       "      <th>address</th>\n",
       "      <th>chain</th>\n",
       "      <th>object_type</th>\n",
       "      <th>number</th>\n",
       "    </tr>\n",
       "  </thead>\n",
       "  <tbody>\n",
       "    <tr>\n",
       "      <th>7408</th>\n",
       "      <td>19194</td>\n",
       "      <td>TAQUERIA LOS 3 CARNALES</td>\n",
       "      <td>5000 E WHITTIER BLVD</td>\n",
       "      <td>NaN</td>\n",
       "      <td>Restaurant</td>\n",
       "      <td>14</td>\n",
       "    </tr>\n",
       "    <tr>\n",
       "      <th>7523</th>\n",
       "      <td>19309</td>\n",
       "      <td>JAMMIN JIMMY'S PIZZA</td>\n",
       "      <td>1641 FIRESTONE BLVD</td>\n",
       "      <td>NaN</td>\n",
       "      <td>Pizza</td>\n",
       "      <td>1</td>\n",
       "    </tr>\n",
       "    <tr>\n",
       "      <th>8648</th>\n",
       "      <td>20434</td>\n",
       "      <td>THE LEXINGTON THEATER</td>\n",
       "      <td>129 E 3RD ST</td>\n",
       "      <td>NaN</td>\n",
       "      <td>Restaurant</td>\n",
       "      <td>35</td>\n",
       "    </tr>\n",
       "  </tbody>\n",
       "</table>\n",
       "</div>"
      ],
      "text/plain": [
       "         id              object_name               address chain object_type  \\\n",
       "7408  19194  TAQUERIA LOS 3 CARNALES  5000 E WHITTIER BLVD   NaN  Restaurant   \n",
       "7523  19309     JAMMIN JIMMY'S PIZZA   1641 FIRESTONE BLVD   NaN       Pizza   \n",
       "8648  20434    THE LEXINGTON THEATER          129 E 3RD ST   NaN  Restaurant   \n",
       "\n",
       "      number  \n",
       "7408      14  \n",
       "7523       1  \n",
       "8648      35  "
      ]
     },
     "execution_count": 4,
     "metadata": {},
     "output_type": "execute_result"
    }
   ],
   "source": [
    "rest_data[rest_data.isnull().any(axis=1)]"
   ]
  },
  {
   "cell_type": "markdown",
   "metadata": {},
   "source": [
    "Are these (3) establishments chains or not? Let's see if they show up anywhere else in the data."
   ]
  },
  {
   "cell_type": "code",
   "execution_count": 5,
   "metadata": {
    "scrolled": true
   },
   "outputs": [
    {
     "data": {
      "text/html": [
       "<div>\n",
       "<style scoped>\n",
       "    .dataframe tbody tr th:only-of-type {\n",
       "        vertical-align: middle;\n",
       "    }\n",
       "\n",
       "    .dataframe tbody tr th {\n",
       "        vertical-align: top;\n",
       "    }\n",
       "\n",
       "    .dataframe thead th {\n",
       "        text-align: right;\n",
       "    }\n",
       "</style>\n",
       "<table border=\"1\" class=\"dataframe\">\n",
       "  <thead>\n",
       "    <tr style=\"text-align: right;\">\n",
       "      <th></th>\n",
       "      <th>id</th>\n",
       "      <th>object_name</th>\n",
       "      <th>address</th>\n",
       "      <th>chain</th>\n",
       "      <th>object_type</th>\n",
       "      <th>number</th>\n",
       "    </tr>\n",
       "  </thead>\n",
       "  <tbody>\n",
       "    <tr>\n",
       "      <th>7408</th>\n",
       "      <td>19194</td>\n",
       "      <td>TAQUERIA LOS 3 CARNALES</td>\n",
       "      <td>5000 E WHITTIER BLVD</td>\n",
       "      <td>NaN</td>\n",
       "      <td>Restaurant</td>\n",
       "      <td>14</td>\n",
       "    </tr>\n",
       "  </tbody>\n",
       "</table>\n",
       "</div>"
      ],
      "text/plain": [
       "         id              object_name               address chain object_type  \\\n",
       "7408  19194  TAQUERIA LOS 3 CARNALES  5000 E WHITTIER BLVD   NaN  Restaurant   \n",
       "\n",
       "      number  \n",
       "7408      14  "
      ]
     },
     "execution_count": 5,
     "metadata": {},
     "output_type": "execute_result"
    }
   ],
   "source": [
    "rest_data.loc[rest_data.loc[:,'object_name'] == 'TAQUERIA LOS 3 CARNALES']"
   ]
  },
  {
   "cell_type": "code",
   "execution_count": 6,
   "metadata": {},
   "outputs": [
    {
     "data": {
      "text/html": [
       "<div>\n",
       "<style scoped>\n",
       "    .dataframe tbody tr th:only-of-type {\n",
       "        vertical-align: middle;\n",
       "    }\n",
       "\n",
       "    .dataframe tbody tr th {\n",
       "        vertical-align: top;\n",
       "    }\n",
       "\n",
       "    .dataframe thead th {\n",
       "        text-align: right;\n",
       "    }\n",
       "</style>\n",
       "<table border=\"1\" class=\"dataframe\">\n",
       "  <thead>\n",
       "    <tr style=\"text-align: right;\">\n",
       "      <th></th>\n",
       "      <th>id</th>\n",
       "      <th>object_name</th>\n",
       "      <th>address</th>\n",
       "      <th>chain</th>\n",
       "      <th>object_type</th>\n",
       "      <th>number</th>\n",
       "    </tr>\n",
       "  </thead>\n",
       "  <tbody>\n",
       "    <tr>\n",
       "      <th>7523</th>\n",
       "      <td>19309</td>\n",
       "      <td>JAMMIN JIMMY'S PIZZA</td>\n",
       "      <td>1641 FIRESTONE BLVD</td>\n",
       "      <td>NaN</td>\n",
       "      <td>Pizza</td>\n",
       "      <td>1</td>\n",
       "    </tr>\n",
       "  </tbody>\n",
       "</table>\n",
       "</div>"
      ],
      "text/plain": [
       "         id           object_name              address chain object_type  \\\n",
       "7523  19309  JAMMIN JIMMY'S PIZZA  1641 FIRESTONE BLVD   NaN       Pizza   \n",
       "\n",
       "      number  \n",
       "7523       1  "
      ]
     },
     "execution_count": 6,
     "metadata": {},
     "output_type": "execute_result"
    }
   ],
   "source": [
    "rest_data.loc[rest_data.loc[:,'object_name'] == \"JAMMIN JIMMY'S PIZZA\"]"
   ]
  },
  {
   "cell_type": "code",
   "execution_count": 7,
   "metadata": {},
   "outputs": [
    {
     "data": {
      "text/html": [
       "<div>\n",
       "<style scoped>\n",
       "    .dataframe tbody tr th:only-of-type {\n",
       "        vertical-align: middle;\n",
       "    }\n",
       "\n",
       "    .dataframe tbody tr th {\n",
       "        vertical-align: top;\n",
       "    }\n",
       "\n",
       "    .dataframe thead th {\n",
       "        text-align: right;\n",
       "    }\n",
       "</style>\n",
       "<table border=\"1\" class=\"dataframe\">\n",
       "  <thead>\n",
       "    <tr style=\"text-align: right;\">\n",
       "      <th></th>\n",
       "      <th>id</th>\n",
       "      <th>object_name</th>\n",
       "      <th>address</th>\n",
       "      <th>chain</th>\n",
       "      <th>object_type</th>\n",
       "      <th>number</th>\n",
       "    </tr>\n",
       "  </thead>\n",
       "  <tbody>\n",
       "    <tr>\n",
       "      <th>8648</th>\n",
       "      <td>20434</td>\n",
       "      <td>THE LEXINGTON THEATER</td>\n",
       "      <td>129 E 3RD ST</td>\n",
       "      <td>NaN</td>\n",
       "      <td>Restaurant</td>\n",
       "      <td>35</td>\n",
       "    </tr>\n",
       "  </tbody>\n",
       "</table>\n",
       "</div>"
      ],
      "text/plain": [
       "         id            object_name       address chain object_type  number\n",
       "8648  20434  THE LEXINGTON THEATER  129 E 3RD ST   NaN  Restaurant      35"
      ]
     },
     "execution_count": 7,
     "metadata": {},
     "output_type": "execute_result"
    }
   ],
   "source": [
    "rest_data.loc[rest_data.loc[:,'object_name'] == 'THE LEXINGTON THEATER']"
   ]
  },
  {
   "cell_type": "markdown",
   "metadata": {},
   "source": [
    "The only show up once. This missing data must be random. We could research each of these restaurants to see if they're chains, but it is simpler to drop them from the data, since it is only (3) rows."
   ]
  },
  {
   "cell_type": "code",
   "execution_count": 8,
   "metadata": {},
   "outputs": [],
   "source": [
    "rest_data = rest_data.dropna()"
   ]
  },
  {
   "cell_type": "markdown",
   "metadata": {},
   "source": [
    "Let's move on to duplicates. First, we will create a new variable as a copy of rest_data. We will then convert the address and name columns to lowercase before searching the dataset for duplicates."
   ]
  },
  {
   "cell_type": "code",
   "execution_count": 9,
   "metadata": {},
   "outputs": [
    {
     "data": {
      "text/html": [
       "<div>\n",
       "<style scoped>\n",
       "    .dataframe tbody tr th:only-of-type {\n",
       "        vertical-align: middle;\n",
       "    }\n",
       "\n",
       "    .dataframe tbody tr th {\n",
       "        vertical-align: top;\n",
       "    }\n",
       "\n",
       "    .dataframe thead th {\n",
       "        text-align: right;\n",
       "    }\n",
       "</style>\n",
       "<table border=\"1\" class=\"dataframe\">\n",
       "  <thead>\n",
       "    <tr style=\"text-align: right;\">\n",
       "      <th></th>\n",
       "      <th>id</th>\n",
       "      <th>object_name</th>\n",
       "      <th>address</th>\n",
       "      <th>chain</th>\n",
       "      <th>object_type</th>\n",
       "      <th>number</th>\n",
       "    </tr>\n",
       "  </thead>\n",
       "  <tbody>\n",
       "    <tr>\n",
       "      <th>0</th>\n",
       "      <td>11786</td>\n",
       "      <td>habitat coffee shop</td>\n",
       "      <td>3708 n eagle rock blvd</td>\n",
       "      <td>False</td>\n",
       "      <td>Cafe</td>\n",
       "      <td>26</td>\n",
       "    </tr>\n",
       "    <tr>\n",
       "      <th>1</th>\n",
       "      <td>11787</td>\n",
       "      <td>reilly's</td>\n",
       "      <td>100 world way # 120</td>\n",
       "      <td>False</td>\n",
       "      <td>Restaurant</td>\n",
       "      <td>9</td>\n",
       "    </tr>\n",
       "    <tr>\n",
       "      <th>2</th>\n",
       "      <td>11788</td>\n",
       "      <td>street churros</td>\n",
       "      <td>6801 hollywood blvd # 253</td>\n",
       "      <td>False</td>\n",
       "      <td>Fast Food</td>\n",
       "      <td>20</td>\n",
       "    </tr>\n",
       "    <tr>\n",
       "      <th>3</th>\n",
       "      <td>11789</td>\n",
       "      <td>triniti echo park</td>\n",
       "      <td>1814 w sunset blvd</td>\n",
       "      <td>False</td>\n",
       "      <td>Restaurant</td>\n",
       "      <td>22</td>\n",
       "    </tr>\n",
       "    <tr>\n",
       "      <th>4</th>\n",
       "      <td>11790</td>\n",
       "      <td>pollen</td>\n",
       "      <td>2100 echo park ave</td>\n",
       "      <td>False</td>\n",
       "      <td>Restaurant</td>\n",
       "      <td>20</td>\n",
       "    </tr>\n",
       "  </tbody>\n",
       "</table>\n",
       "</div>"
      ],
      "text/plain": [
       "      id          object_name                    address  chain object_type  \\\n",
       "0  11786  habitat coffee shop     3708 n eagle rock blvd  False        Cafe   \n",
       "1  11787             reilly's        100 world way # 120  False  Restaurant   \n",
       "2  11788       street churros  6801 hollywood blvd # 253  False   Fast Food   \n",
       "3  11789    triniti echo park         1814 w sunset blvd  False  Restaurant   \n",
       "4  11790               pollen         2100 echo park ave  False  Restaurant   \n",
       "\n",
       "   number  \n",
       "0      26  \n",
       "1       9  \n",
       "2      20  \n",
       "3      22  \n",
       "4      20  "
      ]
     },
     "execution_count": 9,
     "metadata": {},
     "output_type": "execute_result"
    }
   ],
   "source": [
    "#Convert to lower case\n",
    "rest_data['object_name'] = rest_data['object_name'].str.lower()\n",
    "rest_data['address'] = rest_data['address'].str.lower()\n",
    "rest_data.head()"
   ]
  },
  {
   "cell_type": "markdown",
   "metadata": {},
   "source": [
    "Now let's check for duplicates using .duplicated()."
   ]
  },
  {
   "cell_type": "code",
   "execution_count": 10,
   "metadata": {},
   "outputs": [
    {
     "name": "stdout",
     "output_type": "stream",
     "text": [
      "0\n"
     ]
    }
   ],
   "source": [
    "print(rest_data.duplicated().sum())"
   ]
  },
  {
   "cell_type": "markdown",
   "metadata": {},
   "source": [
    "No duplicates found. Let's restore the columns to uppercase and move on to the data analysis."
   ]
  },
  {
   "cell_type": "code",
   "execution_count": 11,
   "metadata": {},
   "outputs": [
    {
     "data": {
      "text/html": [
       "<div>\n",
       "<style scoped>\n",
       "    .dataframe tbody tr th:only-of-type {\n",
       "        vertical-align: middle;\n",
       "    }\n",
       "\n",
       "    .dataframe tbody tr th {\n",
       "        vertical-align: top;\n",
       "    }\n",
       "\n",
       "    .dataframe thead th {\n",
       "        text-align: right;\n",
       "    }\n",
       "</style>\n",
       "<table border=\"1\" class=\"dataframe\">\n",
       "  <thead>\n",
       "    <tr style=\"text-align: right;\">\n",
       "      <th></th>\n",
       "      <th>id</th>\n",
       "      <th>object_name</th>\n",
       "      <th>address</th>\n",
       "      <th>chain</th>\n",
       "      <th>object_type</th>\n",
       "      <th>number</th>\n",
       "    </tr>\n",
       "  </thead>\n",
       "  <tbody>\n",
       "    <tr>\n",
       "      <th>0</th>\n",
       "      <td>11786</td>\n",
       "      <td>HABITAT COFFEE SHOP</td>\n",
       "      <td>3708 N EAGLE ROCK BLVD</td>\n",
       "      <td>False</td>\n",
       "      <td>Cafe</td>\n",
       "      <td>26</td>\n",
       "    </tr>\n",
       "    <tr>\n",
       "      <th>1</th>\n",
       "      <td>11787</td>\n",
       "      <td>REILLY'S</td>\n",
       "      <td>100 WORLD WAY # 120</td>\n",
       "      <td>False</td>\n",
       "      <td>Restaurant</td>\n",
       "      <td>9</td>\n",
       "    </tr>\n",
       "    <tr>\n",
       "      <th>2</th>\n",
       "      <td>11788</td>\n",
       "      <td>STREET CHURROS</td>\n",
       "      <td>6801 HOLLYWOOD BLVD # 253</td>\n",
       "      <td>False</td>\n",
       "      <td>Fast Food</td>\n",
       "      <td>20</td>\n",
       "    </tr>\n",
       "    <tr>\n",
       "      <th>3</th>\n",
       "      <td>11789</td>\n",
       "      <td>TRINITI ECHO PARK</td>\n",
       "      <td>1814 W SUNSET BLVD</td>\n",
       "      <td>False</td>\n",
       "      <td>Restaurant</td>\n",
       "      <td>22</td>\n",
       "    </tr>\n",
       "    <tr>\n",
       "      <th>4</th>\n",
       "      <td>11790</td>\n",
       "      <td>POLLEN</td>\n",
       "      <td>2100 ECHO PARK AVE</td>\n",
       "      <td>False</td>\n",
       "      <td>Restaurant</td>\n",
       "      <td>20</td>\n",
       "    </tr>\n",
       "  </tbody>\n",
       "</table>\n",
       "</div>"
      ],
      "text/plain": [
       "      id          object_name                    address  chain object_type  \\\n",
       "0  11786  HABITAT COFFEE SHOP     3708 N EAGLE ROCK BLVD  False        Cafe   \n",
       "1  11787             REILLY'S        100 WORLD WAY # 120  False  Restaurant   \n",
       "2  11788       STREET CHURROS  6801 HOLLYWOOD BLVD # 253  False   Fast Food   \n",
       "3  11789    TRINITI ECHO PARK         1814 W SUNSET BLVD  False  Restaurant   \n",
       "4  11790               POLLEN         2100 ECHO PARK AVE  False  Restaurant   \n",
       "\n",
       "   number  \n",
       "0      26  \n",
       "1       9  \n",
       "2      20  \n",
       "3      22  \n",
       "4      20  "
      ]
     },
     "execution_count": 11,
     "metadata": {},
     "output_type": "execute_result"
    }
   ],
   "source": [
    "#Convert to lower case\n",
    "rest_data['object_name'] = rest_data['object_name'].str.upper()\n",
    "rest_data['address'] = rest_data['address'].str.upper()\n",
    "rest_data.head()"
   ]
  },
  {
   "cell_type": "markdown",
   "metadata": {},
   "source": [
    "## Data analysis"
   ]
  },
  {
   "cell_type": "markdown",
   "metadata": {},
   "source": [
    "### Investigate Proportions of Establishment Types"
   ]
  },
  {
   "cell_type": "markdown",
   "metadata": {},
   "source": [
    "Let's calculate the proportion of establishment types and plot a graph showing the various proportions. First, we will calculate the total number of establishments."
   ]
  },
  {
   "cell_type": "code",
   "execution_count": 12,
   "metadata": {},
   "outputs": [
    {
     "data": {
      "text/plain": [
       "9648"
      ]
     },
     "execution_count": 12,
     "metadata": {},
     "output_type": "execute_result"
    }
   ],
   "source": [
    "total_establishments = len(rest_data)\n",
    "total_establishments"
   ]
  },
  {
   "cell_type": "markdown",
   "metadata": {},
   "source": [
    "Now, let's see what the various establishment types are."
   ]
  },
  {
   "cell_type": "code",
   "execution_count": 13,
   "metadata": {},
   "outputs": [
    {
     "data": {
      "text/plain": [
       "array(['Cafe', 'Restaurant', 'Fast Food', 'Bakery', 'Bar', 'Pizza'],\n",
       "      dtype=object)"
      ]
     },
     "execution_count": 13,
     "metadata": {},
     "output_type": "execute_result"
    }
   ],
   "source": [
    "rest_data['object_type'].unique()"
   ]
  },
  {
   "cell_type": "markdown",
   "metadata": {},
   "source": [
    "There are (6) types. Let's calculate how many there are of each."
   ]
  },
  {
   "cell_type": "code",
   "execution_count": 14,
   "metadata": {},
   "outputs": [],
   "source": [
    "total_cafes = len(rest_data.loc[rest_data.loc[:,'object_type'] == 'Cafe'])\n",
    "total_restaurants = len(rest_data.loc[rest_data.loc[:,'object_type'] == 'Restaurant'])\n",
    "total_fast_food = len(rest_data.loc[rest_data.loc[:,'object_type'] == 'Fast Food'])\n",
    "total_bakeries = len(rest_data.loc[rest_data.loc[:,'object_type'] == 'Bakery'])\n",
    "total_bars = len(rest_data.loc[rest_data.loc[:,'object_type'] == 'Bar'])\n",
    "total_pizzerias = len(rest_data.loc[rest_data.loc[:,'object_type'] == 'Pizza'])"
   ]
  },
  {
   "cell_type": "code",
   "execution_count": 15,
   "metadata": {},
   "outputs": [
    {
     "name": "stdout",
     "output_type": "stream",
     "text": [
      "total_cafes:  435\n",
      "total_restaurants:  7253\n",
      "total_fast_food:  1066\n",
      "total_bakeries:  283\n",
      "total_bars:  292\n",
      "total_pizzerias:  319\n"
     ]
    }
   ],
   "source": [
    "print('total_cafes: ', total_cafes)\n",
    "print('total_restaurants: ', total_restaurants)\n",
    "print('total_fast_food: ', total_fast_food)\n",
    "print('total_bakeries: ', total_bakeries)\n",
    "print('total_bars: ', total_bars)\n",
    "print('total_pizzerias: ', total_pizzerias)"
   ]
  },
  {
   "cell_type": "markdown",
   "metadata": {},
   "source": [
    "Now, let's calculate the proportions of each of them, dividing each by the total number of establishments."
   ]
  },
  {
   "cell_type": "code",
   "execution_count": 16,
   "metadata": {},
   "outputs": [],
   "source": [
    "cafe_proportion = total_cafes / total_establishments\n",
    "restaurant_proportion = total_restaurants / total_establishments\n",
    "fast_food_proportion = total_fast_food / total_establishments\n",
    "bakery_proportion = total_bakeries / total_establishments\n",
    "bar_proportion = total_bars / total_establishments\n",
    "pizza_proportion = total_pizzerias / total_establishments"
   ]
  },
  {
   "cell_type": "markdown",
   "metadata": {},
   "source": [
    "Now, let's store the results in the variable: proportions_data."
   ]
  },
  {
   "cell_type": "code",
   "execution_count": 17,
   "metadata": {},
   "outputs": [
    {
     "data": {
      "text/plain": [
       "[0.04508706467661692,\n",
       " 0.751762023217247,\n",
       " 0.11048922056384743,\n",
       " 0.02933250414593698,\n",
       " 0.030265339966832505,\n",
       " 0.03306384742951907]"
      ]
     },
     "execution_count": 17,
     "metadata": {},
     "output_type": "execute_result"
    }
   ],
   "source": [
    "proportions_data = [cafe_proportion, restaurant_proportion, fast_food_proportion, bakery_proportion, bar_proportion,\n",
    "                    pizza_proportion]\n",
    "proportions_data"
   ]
  },
  {
   "cell_type": "markdown",
   "metadata": {},
   "source": [
    "Now, let's plot a pie chart showing the proportions."
   ]
  },
  {
   "cell_type": "code",
   "execution_count": 18,
   "metadata": {},
   "outputs": [
    {
     "data": {
      "image/png": "[encoded data removed]",
      "text/plain": [
       "<Figure size 1152x576 with 1 Axes>"
      ]
     },
     "metadata": {},
     "output_type": "display_data"
    }
   ],
   "source": [
    "plt.figure(figsize=(16, 8))\n",
    "plt.pie(proportions_data, labels=['Cafe', 'Restaurant', 'Fast Food', 'Bakery', 'Bar', 'Pizza'], autopct='%.0f%%')\n",
    "plt.title('Establishment Type Proportions')\n",
    "plt.show()"
   ]
  },
  {
   "cell_type": "markdown",
   "metadata": {},
   "source": [
    "Around 75% of the establishments are restaurants. There are a significant amount of Fast Food establishments (over 10%), but not nearly as many as restaurants. The remaining types run around 5% each."
   ]
  },
  {
   "cell_type": "markdown",
   "metadata": {},
   "source": [
    "### Investigate Proportions of Chain Status"
   ]
  },
  {
   "cell_type": "markdown",
   "metadata": {},
   "source": [
    "Let's calculate the proportion of establishments by chain status and plot a graph showing the various proportions. This will be easier. Let's declare variables for total establishments by chain status."
   ]
  },
  {
   "cell_type": "code",
   "execution_count": 19,
   "metadata": {},
   "outputs": [
    {
     "name": "stdout",
     "output_type": "stream",
     "text": [
      "total_chains:  3676\n",
      "total_non_chains:  5972\n"
     ]
    }
   ],
   "source": [
    "total_chains = len(rest_data.loc[rest_data.loc[:,'chain'] == True])\n",
    "total_non_chains = len(rest_data.loc[rest_data.loc[:,'chain'] == False])\n",
    "print('total_chains: ', total_chains)\n",
    "print('total_non_chains: ', total_non_chains)"
   ]
  },
  {
   "cell_type": "markdown",
   "metadata": {},
   "source": [
    "Now, let's calculate proportions as we did before."
   ]
  },
  {
   "cell_type": "code",
   "execution_count": 20,
   "metadata": {},
   "outputs": [],
   "source": [
    "chain_proportion = total_chains / total_establishments\n",
    "non_chain_proportion = total_non_chains / total_establishments"
   ]
  },
  {
   "cell_type": "code",
   "execution_count": 21,
   "metadata": {},
   "outputs": [
    {
     "data": {
      "text/plain": [
       "0.38101160862354894"
      ]
     },
     "execution_count": 21,
     "metadata": {},
     "output_type": "execute_result"
    }
   ],
   "source": [
    "chain_proportion"
   ]
  },
  {
   "cell_type": "code",
   "execution_count": 22,
   "metadata": {},
   "outputs": [
    {
     "data": {
      "text/plain": [
       "0.6189883913764511"
      ]
     },
     "execution_count": 22,
     "metadata": {},
     "output_type": "execute_result"
    }
   ],
   "source": [
    "non_chain_proportion"
   ]
  },
  {
   "cell_type": "markdown",
   "metadata": {},
   "source": [
    "Now, let's plot the graph."
   ]
  },
  {
   "cell_type": "code",
   "execution_count": 23,
   "metadata": {},
   "outputs": [
    {
     "data": {
      "image/png": "[encoded data removed]",
      "text/plain": [
       "<Figure size 1152x576 with 1 Axes>"
      ]
     },
     "metadata": {
      "needs_background": "light"
     },
     "output_type": "display_data"
    }
   ],
   "source": [
    "plt.figure(figsize=(16, 8), )\n",
    "plt.bar(['Chain', 'Non-Chain'], [chain_proportion, non_chain_proportion])\n",
    "plt.title('Establishment Chain Status Proportions')\n",
    "plt.ylabel('Proportion')\n",
    "plt.xlabel('Chain Status')\n",
    "plt.show()"
   ]
  },
  {
   "cell_type": "markdown",
   "metadata": {},
   "source": [
    "There are about one and a half non-chain establishments for every chain establishment."
   ]
  },
  {
   "cell_type": "markdown",
   "metadata": {},
   "source": [
    "### Investigate Proportions of Establishment type for Chains"
   ]
  },
  {
   "cell_type": "markdown",
   "metadata": {},
   "source": [
    "Let's calculate the proportion of establishment types for chain establishments as we did above for all establishments. First, we will declare a variable for the slice of all chain establishments."
   ]
  },
  {
   "cell_type": "code",
   "execution_count": 24,
   "metadata": {},
   "outputs": [],
   "source": [
    "chain_establishments = rest_data.loc[rest_data.loc[:,'chain'] == True]"
   ]
  },
  {
   "cell_type": "markdown",
   "metadata": {},
   "source": [
    "There are (6) types of establishments. Let's calculate how many there are of each in our new chain_establishments dataset."
   ]
  },
  {
   "cell_type": "code",
   "execution_count": 25,
   "metadata": {},
   "outputs": [],
   "source": [
    "total_chain_cafes = len(chain_establishments.loc[chain_establishments.loc[:,'object_type'] == 'Cafe'])\n",
    "total_chain_restaurants = len(chain_establishments.loc[chain_establishments.loc[:,'object_type'] == 'Restaurant'])\n",
    "total_chain_fast_food = len(chain_establishments.loc[chain_establishments.loc[:,'object_type'] == 'Fast Food'])\n",
    "total_chain_bakeries = len(chain_establishments.loc[chain_establishments.loc[:,'object_type'] == 'Bakery'])\n",
    "total_chain_bars = len(chain_establishments.loc[chain_establishments.loc[:,'object_type'] == 'Bar'])\n",
    "total_chain_pizzerias = len(chain_establishments.loc[chain_establishments.loc[:,'object_type'] == 'Pizza'])"
   ]
  },
  {
   "cell_type": "code",
   "execution_count": 26,
   "metadata": {},
   "outputs": [
    {
     "name": "stdout",
     "output_type": "stream",
     "text": [
      "total_chain_cafes:  266\n",
      "total_chain_restaurants:  2292\n",
      "total_chain_fast_food:  605\n",
      "total_chain_bakeries:  283\n",
      "total_chain_bars:  77\n",
      "total_chain_pizzerias:  153\n"
     ]
    }
   ],
   "source": [
    "print('total_chain_cafes: ', total_chain_cafes)\n",
    "print('total_chain_restaurants: ', total_chain_restaurants)\n",
    "print('total_chain_fast_food: ', total_chain_fast_food)\n",
    "print('total_chain_bakeries: ', total_chain_bakeries)\n",
    "print('total_chain_bars: ', total_chain_bars)\n",
    "print('total_chain_pizzerias: ', total_chain_pizzerias)"
   ]
  },
  {
   "cell_type": "markdown",
   "metadata": {},
   "source": [
    "Now, let's calculate the proportions of each of them, dividing each by the total number of chain establishments declared to our total_chains variable above."
   ]
  },
  {
   "cell_type": "code",
   "execution_count": 27,
   "metadata": {},
   "outputs": [],
   "source": [
    "chain_cafe_proportion = total_chain_cafes / total_chains\n",
    "chain_restaurant_proportion = total_chain_restaurants / total_chains\n",
    "chain_fast_food_proportion = total_fast_food / total_chains\n",
    "chain_bakery_proportion = total_chain_bakeries / total_chains\n",
    "chain_bar_proportion = total_chain_bars / total_chains\n",
    "chain_pizza_proportion = total_chain_pizzerias / total_chains"
   ]
  },
  {
   "cell_type": "markdown",
   "metadata": {},
   "source": [
    "Now, let's store the results in the variable: chain_proportions_data."
   ]
  },
  {
   "cell_type": "code",
   "execution_count": 28,
   "metadata": {},
   "outputs": [
    {
     "data": {
      "text/plain": [
       "[0.07236126224156691,\n",
       " 0.6235038084874864,\n",
       " 0.28998911860718174,\n",
       " 0.07698585418933623,\n",
       " 0.020946681175190423,\n",
       " 0.041621327529923834]"
      ]
     },
     "execution_count": 28,
     "metadata": {},
     "output_type": "execute_result"
    }
   ],
   "source": [
    "chain_proportions_data = [chain_cafe_proportion, chain_restaurant_proportion, chain_fast_food_proportion,\n",
    "                          chain_bakery_proportion, chain_bar_proportion, chain_pizza_proportion]\n",
    "chain_proportions_data"
   ]
  },
  {
   "cell_type": "markdown",
   "metadata": {},
   "source": [
    "Now, let's plot a bar graph showing the proportions for chains alongside our previously saved proportions_data results."
   ]
  },
  {
   "cell_type": "code",
   "execution_count": 29,
   "metadata": {},
   "outputs": [
    {
     "data": {
      "image/png": "[encoded data removed]",
      "text/plain": [
       "<Figure size 1152x576 with 1 Axes>"
      ]
     },
     "metadata": {
      "needs_background": "light"
     },
     "output_type": "display_data"
    }
   ],
   "source": [
    "plt.figure(figsize=(16, 8))\n",
    "plt.bar(['Cafe', 'Restaurant', 'Fast Food', 'Bakery', 'Bar', 'Pizza'], chain_proportions_data, alpha=0.5)\n",
    "plt.bar(['Cafe', 'Restaurant', 'Fast Food', 'Bakery', 'Bar', 'Pizza'], proportions_data, alpha=0.5)\n",
    "plt.title('Establishment Type Proportions for Chains')\n",
    "plt.ylabel('Proportion')\n",
    "plt.xlabel('Chain Establishment Types')\n",
    "plt.legend(labels=['Chain Proportions', 'Proportions for All'])\n",
    "plt.show()"
   ]
  },
  {
   "cell_type": "markdown",
   "metadata": {},
   "source": [
    "These numbers differ significantly from the proportions which included non-chain establishments. Here, we see that the Restaurant type has lowered to a little of 60%. Fast Food has risen to almost 30%. The rest of the establishment types are within the 10% range. Very few Bars are chains. The type of establishment which is typically a chain is clearly Fast Food."
   ]
  },
  {
   "cell_type": "markdown",
   "metadata": {},
   "source": [
    "### Investigate Chain Location Quantity and Seating Capacity"
   ]
  },
  {
   "cell_type": "markdown",
   "metadata": {},
   "source": [
    "We would like to understand more about the nature of chain establishments in relation to the number of locations and their seating capacity. Let's use seaborn to make a scatterplot showing the number of locations per chain and the average number of seats per chain. To do this, we will first create a new table, grouping by chain (object_name) and using .agg() to find the number of locations in each chain (id) and the average number of seats (number) per chain. We will also identify the establishment type by applying \"first\"."
   ]
  },
  {
   "cell_type": "code",
   "execution_count": 30,
   "metadata": {},
   "outputs": [
    {
     "data": {
      "text/html": [
       "<div>\n",
       "<style scoped>\n",
       "    .dataframe tbody tr th:only-of-type {\n",
       "        vertical-align: middle;\n",
       "    }\n",
       "\n",
       "    .dataframe tbody tr th {\n",
       "        vertical-align: top;\n",
       "    }\n",
       "\n",
       "    .dataframe thead th {\n",
       "        text-align: right;\n",
       "    }\n",
       "</style>\n",
       "<table border=\"1\" class=\"dataframe\">\n",
       "  <thead>\n",
       "    <tr style=\"text-align: right;\">\n",
       "      <th></th>\n",
       "      <th>id</th>\n",
       "      <th>number</th>\n",
       "      <th>object_type</th>\n",
       "    </tr>\n",
       "    <tr>\n",
       "      <th>object_name</th>\n",
       "      <th></th>\n",
       "      <th></th>\n",
       "      <th></th>\n",
       "    </tr>\n",
       "  </thead>\n",
       "  <tbody>\n",
       "    <tr>\n",
       "      <th>#1 CHINESE FAST FOOD</th>\n",
       "      <td>1</td>\n",
       "      <td>6.0</td>\n",
       "      <td>Restaurant</td>\n",
       "    </tr>\n",
       "    <tr>\n",
       "      <th>1810 RESTAURANT</th>\n",
       "      <td>1</td>\n",
       "      <td>45.0</td>\n",
       "      <td>Restaurant</td>\n",
       "    </tr>\n",
       "    <tr>\n",
       "      <th>333</th>\n",
       "      <td>1</td>\n",
       "      <td>180.0</td>\n",
       "      <td>Restaurant</td>\n",
       "    </tr>\n",
       "    <tr>\n",
       "      <th>3RD ST MARKET &amp; DELI</th>\n",
       "      <td>1</td>\n",
       "      <td>7.0</td>\n",
       "      <td>Restaurant</td>\n",
       "    </tr>\n",
       "    <tr>\n",
       "      <th>4 CAMINOS RESTAURANT</th>\n",
       "      <td>1</td>\n",
       "      <td>18.0</td>\n",
       "      <td>Restaurant</td>\n",
       "    </tr>\n",
       "  </tbody>\n",
       "</table>\n",
       "</div>"
      ],
      "text/plain": [
       "                      id  number object_type\n",
       "object_name                                 \n",
       "#1 CHINESE FAST FOOD   1     6.0  Restaurant\n",
       "1810 RESTAURANT        1    45.0  Restaurant\n",
       "333                    1   180.0  Restaurant\n",
       "3RD ST MARKET & DELI   1     7.0  Restaurant\n",
       "4 CAMINOS RESTAURANT   1    18.0  Restaurant"
      ]
     },
     "execution_count": 30,
     "metadata": {},
     "output_type": "execute_result"
    }
   ],
   "source": [
    "chain_seating = chain_establishments.groupby('object_name').agg({'id': 'count', 'number': 'mean',\n",
    "                                                                 'object_type': 'first'})\n",
    "chain_seating.head()"
   ]
  },
  {
   "cell_type": "markdown",
   "metadata": {},
   "source": [
    "Now let's plot the scatter chart using seaborn. We will choose object_type for hue to see what differences may be."
   ]
  },
  {
   "cell_type": "code",
   "execution_count": 31,
   "metadata": {},
   "outputs": [
    {
     "data": {
      "image/png": "[encoded data removed]",
      "text/plain": [
       "<Figure size 1152x576 with 1 Axes>"
      ]
     },
     "metadata": {
      "needs_background": "light"
     },
     "output_type": "display_data"
    }
   ],
   "source": [
    "plt.figure(figsize=(16, 8))\n",
    "sns.scatterplot(x=chain_seating['number'], y=chain_seating['id'])\n",
    "plt.title('No. of Establishments per Chain vs. Average No. of Seats Scatterplot')\n",
    "plt.ylabel('Locations')\n",
    "plt.xlabel('Seating')\n",
    "plt.show()"
   ]
  },
  {
   "cell_type": "markdown",
   "metadata": {},
   "source": [
    "From this chart, we can conclude that most chains only have one or two locations. They can range from only a few seats to over (200). The few chains that have more locations than one or two tend to have smaller seating capacities. As such, we will characterize chains as typically having one or two locations with a wide range of seating capacity. We should keep in mind that this chart is not entirely accurate. Many of the \"object_name\" values include a wide range of identifiers that prevent them from being properly grouped with the appropriate chain. Cleaning these extra identifiers out would be no easy task. Let's remove all establishment types other than cafes and fast food to get a clearer picture. Our reasoning here is that automated cafes will most likely resemble chain cafes and chain fast food restaurants. This is due to the high initial development costs, low quantity of menu items due to the constraints of atomization, and the low overhead."
   ]
  },
  {
   "cell_type": "code",
   "execution_count": 32,
   "metadata": {},
   "outputs": [
    {
     "data": {
      "text/html": [
       "<div>\n",
       "<style scoped>\n",
       "    .dataframe tbody tr th:only-of-type {\n",
       "        vertical-align: middle;\n",
       "    }\n",
       "\n",
       "    .dataframe tbody tr th {\n",
       "        vertical-align: top;\n",
       "    }\n",
       "\n",
       "    .dataframe thead th {\n",
       "        text-align: right;\n",
       "    }\n",
       "</style>\n",
       "<table border=\"1\" class=\"dataframe\">\n",
       "  <thead>\n",
       "    <tr style=\"text-align: right;\">\n",
       "      <th></th>\n",
       "      <th>id</th>\n",
       "      <th>number</th>\n",
       "      <th>object_type</th>\n",
       "    </tr>\n",
       "    <tr>\n",
       "      <th>object_name</th>\n",
       "      <th></th>\n",
       "      <th></th>\n",
       "      <th></th>\n",
       "    </tr>\n",
       "  </thead>\n",
       "  <tbody>\n",
       "    <tr>\n",
       "      <th>AA CHINESE EXPRESS FAST FOOD</th>\n",
       "      <td>1</td>\n",
       "      <td>15.0</td>\n",
       "      <td>Fast Food</td>\n",
       "    </tr>\n",
       "    <tr>\n",
       "      <th>ABC DONUTS</th>\n",
       "      <td>2</td>\n",
       "      <td>11.0</td>\n",
       "      <td>Fast Food</td>\n",
       "    </tr>\n",
       "    <tr>\n",
       "      <th>ABC EXPRESS CHINESE FOOD</th>\n",
       "      <td>1</td>\n",
       "      <td>15.0</td>\n",
       "      <td>Fast Food</td>\n",
       "    </tr>\n",
       "    <tr>\n",
       "      <th>ALANA'S COFFEE ROASTING</th>\n",
       "      <td>1</td>\n",
       "      <td>12.0</td>\n",
       "      <td>Cafe</td>\n",
       "    </tr>\n",
       "    <tr>\n",
       "      <th>ANDANTE COFFEE ROASTERS</th>\n",
       "      <td>1</td>\n",
       "      <td>4.0</td>\n",
       "      <td>Cafe</td>\n",
       "    </tr>\n",
       "  </tbody>\n",
       "</table>\n",
       "</div>"
      ],
      "text/plain": [
       "                              id  number object_type\n",
       "object_name                                         \n",
       "AA CHINESE EXPRESS FAST FOOD   1    15.0   Fast Food\n",
       "ABC DONUTS                     2    11.0   Fast Food\n",
       "ABC EXPRESS CHINESE FOOD       1    15.0   Fast Food\n",
       "ALANA'S COFFEE ROASTING        1    12.0        Cafe\n",
       "ANDANTE COFFEE ROASTERS        1     4.0        Cafe"
      ]
     },
     "execution_count": 32,
     "metadata": {},
     "output_type": "execute_result"
    }
   ],
   "source": [
    "#Slice for Cafe only\n",
    "cafe_fast_food_chain_seating = chain_seating.loc[(chain_seating.loc[:,'object_type'] == 'Cafe') |\n",
    "                                       (chain_seating.loc[:,'object_type'] == 'Fast Food')]\n",
    "cafe_fast_food_chain_seating.head()"
   ]
  },
  {
   "cell_type": "markdown",
   "metadata": {},
   "source": [
    "Now, let's plot a scatter chart for location quantity and seating capacity for chain cafes and fast food restaurants."
   ]
  },
  {
   "cell_type": "code",
   "execution_count": 33,
   "metadata": {},
   "outputs": [
    {
     "data": {
      "image/png": "[encoded data removed]",
      "text/plain": [
       "<Figure size 1152x576 with 1 Axes>"
      ]
     },
     "metadata": {
      "needs_background": "light"
     },
     "output_type": "display_data"
    }
   ],
   "source": [
    "plt.figure(figsize=(16, 8))\n",
    "sns.scatterplot(x=cafe_fast_food_chain_seating['number'], y=cafe_fast_food_chain_seating['id'],\n",
    "                hue=cafe_fast_food_chain_seating['object_type'])\n",
    "plt.title('No. of Establishments per Chain vs. Average No. of Seats Scatterplot for Cafes and Fast Food')\n",
    "plt.ylabel('Locations')\n",
    "plt.xlabel('Seating')\n",
    "plt.show()"
   ]
  },
  {
   "cell_type": "markdown",
   "metadata": {},
   "source": [
    "Now it's a little easier to see the trends. Most chain cafes/fast food restaurants have a single location, maybe two, in LA. The seating capacity tends to fall within (50) seats. There is a lot of information on chain cafes/fast food restaurants with more than (2) locations to make a judgement about what their typical seating capacity is. Most of them also seem to fall within (50) seats."
   ]
  },
  {
   "cell_type": "markdown",
   "metadata": {},
   "source": [
    "### Investigate Seating Capacity per Establishment type."
   ]
  },
  {
   "cell_type": "markdown",
   "metadata": {},
   "source": [
    "Let's create a bar graph showing the average number of seats per establishment type. To do this, we will .groupy() obect_type and use .agg()to find the average number of seats (number). We will reset the index so that we can later plot a graph based on both columns."
   ]
  },
  {
   "cell_type": "code",
   "execution_count": 34,
   "metadata": {},
   "outputs": [
    {
     "data": {
      "text/html": [
       "<div>\n",
       "<style scoped>\n",
       "    .dataframe tbody tr th:only-of-type {\n",
       "        vertical-align: middle;\n",
       "    }\n",
       "\n",
       "    .dataframe tbody tr th {\n",
       "        vertical-align: top;\n",
       "    }\n",
       "\n",
       "    .dataframe thead th {\n",
       "        text-align: right;\n",
       "    }\n",
       "</style>\n",
       "<table border=\"1\" class=\"dataframe\">\n",
       "  <thead>\n",
       "    <tr style=\"text-align: right;\">\n",
       "      <th></th>\n",
       "      <th>object_type</th>\n",
       "      <th>number</th>\n",
       "    </tr>\n",
       "  </thead>\n",
       "  <tbody>\n",
       "    <tr>\n",
       "      <th>0</th>\n",
       "      <td>Bakery</td>\n",
       "      <td>21.773852</td>\n",
       "    </tr>\n",
       "    <tr>\n",
       "      <th>1</th>\n",
       "      <td>Bar</td>\n",
       "      <td>44.767123</td>\n",
       "    </tr>\n",
       "    <tr>\n",
       "      <th>2</th>\n",
       "      <td>Cafe</td>\n",
       "      <td>25.000000</td>\n",
       "    </tr>\n",
       "    <tr>\n",
       "      <th>3</th>\n",
       "      <td>Fast Food</td>\n",
       "      <td>31.837711</td>\n",
       "    </tr>\n",
       "    <tr>\n",
       "      <th>4</th>\n",
       "      <td>Pizza</td>\n",
       "      <td>28.545455</td>\n",
       "    </tr>\n",
       "    <tr>\n",
       "      <th>5</th>\n",
       "      <td>Restaurant</td>\n",
       "      <td>48.048807</td>\n",
       "    </tr>\n",
       "  </tbody>\n",
       "</table>\n",
       "</div>"
      ],
      "text/plain": [
       "  object_type     number\n",
       "0      Bakery  21.773852\n",
       "1         Bar  44.767123\n",
       "2        Cafe  25.000000\n",
       "3   Fast Food  31.837711\n",
       "4       Pizza  28.545455\n",
       "5  Restaurant  48.048807"
      ]
     },
     "execution_count": 34,
     "metadata": {},
     "output_type": "execute_result"
    }
   ],
   "source": [
    "seating_per_type = rest_data.groupby('object_type').agg({'number': 'mean'}).reset_index()\n",
    "seating_per_type"
   ]
  },
  {
   "cell_type": "markdown",
   "metadata": {},
   "source": [
    "Now, let's plot a bar graph useing seaborn."
   ]
  },
  {
   "cell_type": "code",
   "execution_count": 35,
   "metadata": {},
   "outputs": [
    {
     "data": {
      "image/png": "[encoded data removed]",
      "text/plain": [
       "<Figure size 1152x576 with 1 Axes>"
      ]
     },
     "metadata": {
      "needs_background": "light"
     },
     "output_type": "display_data"
    }
   ],
   "source": [
    "plt.figure(figsize=(16, 8))\n",
    "sns.barplot(x='object_type', y='number', data=seating_per_type)\n",
    "plt.title('Average Seating per Establishment Type')\n",
    "plt.ylabel('Average Seating Capacity')\n",
    "plt.xlabel('Establishment Types')\n",
    "plt.ylim([0, 50])\n",
    "plt.show()"
   ]
  },
  {
   "cell_type": "markdown",
   "metadata": {},
   "source": [
    "Restaurants tend to have the greatest seating capacity. Bars are a close second. Let's take a look at seating capacity for chains only. First, let's calculate mean seating based on our previously declared chain_establishments variable."
   ]
  },
  {
   "cell_type": "code",
   "execution_count": 36,
   "metadata": {},
   "outputs": [
    {
     "data": {
      "text/html": [
       "<div>\n",
       "<style scoped>\n",
       "    .dataframe tbody tr th:only-of-type {\n",
       "        vertical-align: middle;\n",
       "    }\n",
       "\n",
       "    .dataframe tbody tr th {\n",
       "        vertical-align: top;\n",
       "    }\n",
       "\n",
       "    .dataframe thead th {\n",
       "        text-align: right;\n",
       "    }\n",
       "</style>\n",
       "<table border=\"1\" class=\"dataframe\">\n",
       "  <thead>\n",
       "    <tr style=\"text-align: right;\">\n",
       "      <th></th>\n",
       "      <th>object_type</th>\n",
       "      <th>number</th>\n",
       "    </tr>\n",
       "  </thead>\n",
       "  <tbody>\n",
       "    <tr>\n",
       "      <th>0</th>\n",
       "      <td>Bakery</td>\n",
       "      <td>21.773852</td>\n",
       "    </tr>\n",
       "    <tr>\n",
       "      <th>1</th>\n",
       "      <td>Bar</td>\n",
       "      <td>40.259740</td>\n",
       "    </tr>\n",
       "    <tr>\n",
       "      <th>2</th>\n",
       "      <td>Cafe</td>\n",
       "      <td>25.917293</td>\n",
       "    </tr>\n",
       "    <tr>\n",
       "      <th>3</th>\n",
       "      <td>Fast Food</td>\n",
       "      <td>38.089256</td>\n",
       "    </tr>\n",
       "    <tr>\n",
       "      <th>4</th>\n",
       "      <td>Pizza</td>\n",
       "      <td>25.529412</td>\n",
       "    </tr>\n",
       "    <tr>\n",
       "      <th>5</th>\n",
       "      <td>Restaurant</td>\n",
       "      <td>44.856021</td>\n",
       "    </tr>\n",
       "  </tbody>\n",
       "</table>\n",
       "</div>"
      ],
      "text/plain": [
       "  object_type     number\n",
       "0      Bakery  21.773852\n",
       "1         Bar  40.259740\n",
       "2        Cafe  25.917293\n",
       "3   Fast Food  38.089256\n",
       "4       Pizza  25.529412\n",
       "5  Restaurant  44.856021"
      ]
     },
     "execution_count": 36,
     "metadata": {},
     "output_type": "execute_result"
    }
   ],
   "source": [
    "chain_seating_per_type = chain_establishments.groupby('object_type').agg({'number': 'mean'}).reset_index()\n",
    "chain_seating_per_type"
   ]
  },
  {
   "cell_type": "markdown",
   "metadata": {},
   "source": [
    "Now, let's plot the bar chart. We will set the range to 50 average seating capacity for ease of comparison with previous graph."
   ]
  },
  {
   "cell_type": "code",
   "execution_count": 37,
   "metadata": {},
   "outputs": [
    {
     "data": {
      "image/png": "[encoded data removed]",
      "text/plain": [
       "<Figure size 1152x576 with 1 Axes>"
      ]
     },
     "metadata": {
      "needs_background": "light"
     },
     "output_type": "display_data"
    }
   ],
   "source": [
    "plt.figure(figsize=(16, 8))\n",
    "sns.barplot(x='object_type', y='number', data=chain_seating_per_type)\n",
    "plt.title('Average Seating per Establishment Type for Chains')\n",
    "plt.ylabel('Average Seating Capacity')\n",
    "plt.xlabel('Establishment Types')\n",
    "plt.ylim([0, 50])\n",
    "plt.show()"
   ]
  },
  {
   "cell_type": "markdown",
   "metadata": {},
   "source": [
    "There is a slight increase in seating capacity for chain cafes and a significant increase for fast food chains."
   ]
  },
  {
   "cell_type": "markdown",
   "metadata": {},
   "source": [
    "### Create Street Name Column"
   ]
  },
  {
   "cell_type": "markdown",
   "metadata": {},
   "source": [
    "We will now create a new column to store the street names for each establishment. We will use the data from the \"address\" column, and clean out everything but the street names using regular expressions. First, let's create a copy of the \"address\" column named \"street_name\"."
   ]
  },
  {
   "cell_type": "code",
   "execution_count": 38,
   "metadata": {},
   "outputs": [],
   "source": [
    "rest_data['street_name'] = rest_data['address']"
   ]
  },
  {
   "cell_type": "markdown",
   "metadata": {},
   "source": [
    "Now let's run the regular expressions, replacing all undesired instances with nothing, ''."
   ]
  },
  {
   "cell_type": "code",
   "execution_count": 39,
   "metadata": {},
   "outputs": [],
   "source": [
    "#Remove the beginning numbers along with the following space\n",
    "rest_data['street_name'] = rest_data['street_name'].str.replace('^\\d+ ', '')"
   ]
  },
  {
   "cell_type": "code",
   "execution_count": 40,
   "metadata": {},
   "outputs": [],
   "source": [
    "#Remove all instances of a space followed by \"#\" and whatever comes after\n",
    "rest_data['street_name'] = rest_data['street_name'].str.replace(' #.+', '')\n",
    "rest_data['street_name'] = rest_data['street_name'].str.replace(' # .+', '')"
   ]
  },
  {
   "cell_type": "code",
   "execution_count": 41,
   "metadata": {},
   "outputs": [],
   "source": [
    "#Remove all instances of a space followed by \"STE\" and whatever comes after\n",
    "rest_data['street_name'] = rest_data['street_name'].str.replace(' STE.+', '')\n",
    "rest_data['street_name'] = rest_data['street_name'].str.replace(' STE .+', '')\n",
    "rest_data['street_name'] = rest_data['street_name'].str.replace(' STE', '')"
   ]
  },
  {
   "cell_type": "code",
   "execution_count": 42,
   "metadata": {},
   "outputs": [],
   "source": [
    "#Remove all instances of a space followed by \"UNIT\" and whatever comes after\n",
    "rest_data['street_name'] = rest_data['street_name'].str.replace(' UNIT.+', '')\n",
    "rest_data['street_name'] = rest_data['street_name'].str.replace(' UNIT .+', '')\n",
    "rest_data['street_name'] = rest_data['street_name'].str.replace(' UNIT', '')"
   ]
  },
  {
   "cell_type": "code",
   "execution_count": 43,
   "metadata": {},
   "outputs": [],
   "source": [
    "#Remove all instances of a space followed by \"LVL\" and whatever comes after\n",
    "rest_data['street_name'] = rest_data['street_name'].str.replace(' LVL.+', '')\n",
    "rest_data['street_name'] = rest_data['street_name'].str.replace(' LVL .+', '')\n",
    "rest_data['street_name'] = rest_data['street_name'].str.replace(' LVL', '')"
   ]
  },
  {
   "cell_type": "code",
   "execution_count": 44,
   "metadata": {},
   "outputs": [
    {
     "data": {
      "text/html": [
       "<div>\n",
       "<style scoped>\n",
       "    .dataframe tbody tr th:only-of-type {\n",
       "        vertical-align: middle;\n",
       "    }\n",
       "\n",
       "    .dataframe tbody tr th {\n",
       "        vertical-align: top;\n",
       "    }\n",
       "\n",
       "    .dataframe thead th {\n",
       "        text-align: right;\n",
       "    }\n",
       "</style>\n",
       "<table border=\"1\" class=\"dataframe\">\n",
       "  <thead>\n",
       "    <tr style=\"text-align: right;\">\n",
       "      <th></th>\n",
       "      <th>id</th>\n",
       "      <th>object_name</th>\n",
       "      <th>address</th>\n",
       "      <th>chain</th>\n",
       "      <th>object_type</th>\n",
       "      <th>number</th>\n",
       "      <th>street_name</th>\n",
       "    </tr>\n",
       "  </thead>\n",
       "  <tbody>\n",
       "    <tr>\n",
       "      <th>0</th>\n",
       "      <td>11786</td>\n",
       "      <td>HABITAT COFFEE SHOP</td>\n",
       "      <td>3708 N EAGLE ROCK BLVD</td>\n",
       "      <td>False</td>\n",
       "      <td>Cafe</td>\n",
       "      <td>26</td>\n",
       "      <td>N EAGLE ROCK BLVD</td>\n",
       "    </tr>\n",
       "    <tr>\n",
       "      <th>1</th>\n",
       "      <td>11787</td>\n",
       "      <td>REILLY'S</td>\n",
       "      <td>100 WORLD WAY # 120</td>\n",
       "      <td>False</td>\n",
       "      <td>Restaurant</td>\n",
       "      <td>9</td>\n",
       "      <td>WORLD WAY</td>\n",
       "    </tr>\n",
       "    <tr>\n",
       "      <th>2</th>\n",
       "      <td>11788</td>\n",
       "      <td>STREET CHURROS</td>\n",
       "      <td>6801 HOLLYWOOD BLVD # 253</td>\n",
       "      <td>False</td>\n",
       "      <td>Fast Food</td>\n",
       "      <td>20</td>\n",
       "      <td>HOLLYWOOD BLVD</td>\n",
       "    </tr>\n",
       "    <tr>\n",
       "      <th>3</th>\n",
       "      <td>11789</td>\n",
       "      <td>TRINITI ECHO PARK</td>\n",
       "      <td>1814 W SUNSET BLVD</td>\n",
       "      <td>False</td>\n",
       "      <td>Restaurant</td>\n",
       "      <td>22</td>\n",
       "      <td>W SUNSET BLVD</td>\n",
       "    </tr>\n",
       "    <tr>\n",
       "      <th>4</th>\n",
       "      <td>11790</td>\n",
       "      <td>POLLEN</td>\n",
       "      <td>2100 ECHO PARK AVE</td>\n",
       "      <td>False</td>\n",
       "      <td>Restaurant</td>\n",
       "      <td>20</td>\n",
       "      <td>ECHO PARK AVE</td>\n",
       "    </tr>\n",
       "  </tbody>\n",
       "</table>\n",
       "</div>"
      ],
      "text/plain": [
       "      id          object_name                    address  chain object_type  \\\n",
       "0  11786  HABITAT COFFEE SHOP     3708 N EAGLE ROCK BLVD  False        Cafe   \n",
       "1  11787             REILLY'S        100 WORLD WAY # 120  False  Restaurant   \n",
       "2  11788       STREET CHURROS  6801 HOLLYWOOD BLVD # 253  False   Fast Food   \n",
       "3  11789    TRINITI ECHO PARK         1814 W SUNSET BLVD  False  Restaurant   \n",
       "4  11790               POLLEN         2100 ECHO PARK AVE  False  Restaurant   \n",
       "\n",
       "   number        street_name  \n",
       "0      26  N EAGLE ROCK BLVD  \n",
       "1       9          WORLD WAY  \n",
       "2      20     HOLLYWOOD BLVD  \n",
       "3      22      W SUNSET BLVD  \n",
       "4      20      ECHO PARK AVE  "
      ]
     },
     "execution_count": 44,
     "metadata": {},
     "output_type": "execute_result"
    }
   ],
   "source": [
    "rest_data.head()"
   ]
  },
  {
   "cell_type": "markdown",
   "metadata": {},
   "source": [
    "We can see the cleaned \"street_name\" column on the right here. There may be a few that are not completely rid of unwanted address identifiers. However, this should catch the majority."
   ]
  },
  {
   "cell_type": "markdown",
   "metadata": {},
   "source": [
    "### Top Ten Streets"
   ]
  },
  {
   "cell_type": "markdown",
   "metadata": {},
   "source": [
    "Let's find the streets with the most establishments and plot a graph showing the results. We will group by street and select the top ten in descending order."
   ]
  },
  {
   "cell_type": "code",
   "execution_count": 45,
   "metadata": {},
   "outputs": [
    {
     "data": {
      "text/html": [
       "<div>\n",
       "<style scoped>\n",
       "    .dataframe tbody tr th:only-of-type {\n",
       "        vertical-align: middle;\n",
       "    }\n",
       "\n",
       "    .dataframe tbody tr th {\n",
       "        vertical-align: top;\n",
       "    }\n",
       "\n",
       "    .dataframe thead th {\n",
       "        text-align: right;\n",
       "    }\n",
       "</style>\n",
       "<table border=\"1\" class=\"dataframe\">\n",
       "  <thead>\n",
       "    <tr style=\"text-align: right;\">\n",
       "      <th></th>\n",
       "      <th>street_name</th>\n",
       "      <th>id</th>\n",
       "    </tr>\n",
       "  </thead>\n",
       "  <tbody>\n",
       "    <tr>\n",
       "      <th>0</th>\n",
       "      <td>WILSHIRE BLVD</td>\n",
       "      <td>371</td>\n",
       "    </tr>\n",
       "    <tr>\n",
       "      <th>1</th>\n",
       "      <td>W SUNSET BLVD</td>\n",
       "      <td>360</td>\n",
       "    </tr>\n",
       "    <tr>\n",
       "      <th>2</th>\n",
       "      <td>W PICO BLVD</td>\n",
       "      <td>338</td>\n",
       "    </tr>\n",
       "    <tr>\n",
       "      <th>3</th>\n",
       "      <td>S WESTERN AVE</td>\n",
       "      <td>263</td>\n",
       "    </tr>\n",
       "    <tr>\n",
       "      <th>4</th>\n",
       "      <td>SANTA MONICA BLVD</td>\n",
       "      <td>257</td>\n",
       "    </tr>\n",
       "    <tr>\n",
       "      <th>5</th>\n",
       "      <td>HOLLYWOOD BLVD</td>\n",
       "      <td>239</td>\n",
       "    </tr>\n",
       "    <tr>\n",
       "      <th>6</th>\n",
       "      <td>W OLYMPIC BLVD</td>\n",
       "      <td>227</td>\n",
       "    </tr>\n",
       "    <tr>\n",
       "      <th>7</th>\n",
       "      <td>S FIGUEROA ST</td>\n",
       "      <td>220</td>\n",
       "    </tr>\n",
       "    <tr>\n",
       "      <th>8</th>\n",
       "      <td>W 3RD ST</td>\n",
       "      <td>217</td>\n",
       "    </tr>\n",
       "    <tr>\n",
       "      <th>9</th>\n",
       "      <td>W 6TH ST</td>\n",
       "      <td>209</td>\n",
       "    </tr>\n",
       "  </tbody>\n",
       "</table>\n",
       "</div>"
      ],
      "text/plain": [
       "         street_name   id\n",
       "0      WILSHIRE BLVD  371\n",
       "1      W SUNSET BLVD  360\n",
       "2        W PICO BLVD  338\n",
       "3      S WESTERN AVE  263\n",
       "4  SANTA MONICA BLVD  257\n",
       "5     HOLLYWOOD BLVD  239\n",
       "6     W OLYMPIC BLVD  227\n",
       "7      S FIGUEROA ST  220\n",
       "8           W 3RD ST  217\n",
       "9           W 6TH ST  209"
      ]
     },
     "execution_count": 45,
     "metadata": {},
     "output_type": "execute_result"
    }
   ],
   "source": [
    "top_ten_streets = rest_data.groupby('street_name').agg({'id' : 'count'}).sort_values('id', ascending=False).head(10).reset_index()\n",
    "top_ten_streets"
   ]
  },
  {
   "cell_type": "markdown",
   "metadata": {},
   "source": [
    "Now, let's plot a bar graph showing the results."
   ]
  },
  {
   "cell_type": "code",
   "execution_count": 46,
   "metadata": {},
   "outputs": [
    {
     "data": {
      "image/png": "[encoded data removed]",
      "text/plain": [
       "<Figure size 1152x576 with 1 Axes>"
      ]
     },
     "metadata": {
      "needs_background": "light"
     },
     "output_type": "display_data"
    }
   ],
   "source": [
    "plt.figure(figsize=(16, 8))\n",
    "sns.barplot(x='street_name', y='id', data=top_ten_streets)\n",
    "plt.title('Top Ten Streets')\n",
    "plt.ylabel('No. of Establishments')\n",
    "plt.xlabel('Street Names')\n",
    "plt.xticks(rotation = 45)\n",
    "plt.show()"
   ]
  },
  {
   "cell_type": "markdown",
   "metadata": {},
   "source": [
    "The top ten streets have anywhere between (200) and (400) establishments. Wilshire Blvd has the most at around (375)."
   ]
  },
  {
   "cell_type": "markdown",
   "metadata": {},
   "source": [
    "### Single Establishment Streets"
   ]
  },
  {
   "cell_type": "markdown",
   "metadata": {},
   "source": [
    "Let's find the number of streets that only have one establishment. We will group by street name as before."
   ]
  },
  {
   "cell_type": "code",
   "execution_count": 47,
   "metadata": {},
   "outputs": [
    {
     "data": {
      "text/html": [
       "<div>\n",
       "<style scoped>\n",
       "    .dataframe tbody tr th:only-of-type {\n",
       "        vertical-align: middle;\n",
       "    }\n",
       "\n",
       "    .dataframe tbody tr th {\n",
       "        vertical-align: top;\n",
       "    }\n",
       "\n",
       "    .dataframe thead th {\n",
       "        text-align: right;\n",
       "    }\n",
       "</style>\n",
       "<table border=\"1\" class=\"dataframe\">\n",
       "  <thead>\n",
       "    <tr style=\"text-align: right;\">\n",
       "      <th></th>\n",
       "      <th>id</th>\n",
       "    </tr>\n",
       "    <tr>\n",
       "      <th>street_name</th>\n",
       "      <th></th>\n",
       "    </tr>\n",
       "  </thead>\n",
       "  <tbody>\n",
       "    <tr>\n",
       "      <th>1/2 3RD ST</th>\n",
       "      <td>1</td>\n",
       "    </tr>\n",
       "    <tr>\n",
       "      <th>S BROADWAY ST 101E1</th>\n",
       "      <td>1</td>\n",
       "    </tr>\n",
       "    <tr>\n",
       "      <th>S BROADWAY ST E3</th>\n",
       "      <td>1</td>\n",
       "    </tr>\n",
       "    <tr>\n",
       "      <th>S BROADWAY ST F9- F10</th>\n",
       "      <td>1</td>\n",
       "    </tr>\n",
       "    <tr>\n",
       "      <th>S BROXTON AVE</th>\n",
       "      <td>1</td>\n",
       "    </tr>\n",
       "  </tbody>\n",
       "</table>\n",
       "</div>"
      ],
      "text/plain": [
       "                       id\n",
       "street_name              \n",
       "1/2 3RD ST              1\n",
       "S BROADWAY ST 101E1     1\n",
       "S BROADWAY ST E3        1\n",
       "S BROADWAY ST F9- F10   1\n",
       "S BROXTON AVE           1"
      ]
     },
     "execution_count": 47,
     "metadata": {},
     "output_type": "execute_result"
    }
   ],
   "source": [
    "single_streets = rest_data.groupby('street_name').agg({'id' : 'count'}).sort_values('id')\n",
    "single_streets.head()"
   ]
  },
  {
   "cell_type": "markdown",
   "metadata": {},
   "source": [
    "Now, let's make a slice of the streets with on establishment (id count)."
   ]
  },
  {
   "cell_type": "code",
   "execution_count": 48,
   "metadata": {},
   "outputs": [
    {
     "name": "stdout",
     "output_type": "stream",
     "text": [
      "Number of streets with only one establishment:  578\n"
     ]
    },
    {
     "data": {
      "text/html": [
       "<div>\n",
       "<style scoped>\n",
       "    .dataframe tbody tr th:only-of-type {\n",
       "        vertical-align: middle;\n",
       "    }\n",
       "\n",
       "    .dataframe tbody tr th {\n",
       "        vertical-align: top;\n",
       "    }\n",
       "\n",
       "    .dataframe thead th {\n",
       "        text-align: right;\n",
       "    }\n",
       "</style>\n",
       "<table border=\"1\" class=\"dataframe\">\n",
       "  <thead>\n",
       "    <tr style=\"text-align: right;\">\n",
       "      <th></th>\n",
       "      <th>id</th>\n",
       "    </tr>\n",
       "    <tr>\n",
       "      <th>street_name</th>\n",
       "      <th></th>\n",
       "    </tr>\n",
       "  </thead>\n",
       "  <tbody>\n",
       "    <tr>\n",
       "      <th>1/2 3RD ST</th>\n",
       "      <td>1</td>\n",
       "    </tr>\n",
       "    <tr>\n",
       "      <th>S BROADWAY ST 101E1</th>\n",
       "      <td>1</td>\n",
       "    </tr>\n",
       "    <tr>\n",
       "      <th>S BROADWAY ST E3</th>\n",
       "      <td>1</td>\n",
       "    </tr>\n",
       "    <tr>\n",
       "      <th>S BROADWAY ST F9- F10</th>\n",
       "      <td>1</td>\n",
       "    </tr>\n",
       "    <tr>\n",
       "      <th>S BROXTON AVE</th>\n",
       "      <td>1</td>\n",
       "    </tr>\n",
       "  </tbody>\n",
       "</table>\n",
       "</div>"
      ],
      "text/plain": [
       "                       id\n",
       "street_name              \n",
       "1/2 3RD ST              1\n",
       "S BROADWAY ST 101E1     1\n",
       "S BROADWAY ST E3        1\n",
       "S BROADWAY ST F9- F10   1\n",
       "S BROXTON AVE           1"
      ]
     },
     "execution_count": 48,
     "metadata": {},
     "output_type": "execute_result"
    }
   ],
   "source": [
    "single_streets = single_streets.loc[single_streets.loc[:,'id'] == 1]\n",
    "print('Number of streets with only one establishment: ', len(single_streets))\n",
    "single_streets.head()"
   ]
  },
  {
   "cell_type": "markdown",
   "metadata": {},
   "source": [
    "There are (591) streets which have only one establishment. Let's look at a histogram as well to get an idea of how establishment quantities are distributed among various streets. First, we will make a groupby() list again to count the number of establishments per street."
   ]
  },
  {
   "cell_type": "code",
   "execution_count": 49,
   "metadata": {},
   "outputs": [
    {
     "data": {
      "text/html": [
       "<div>\n",
       "<style scoped>\n",
       "    .dataframe tbody tr th:only-of-type {\n",
       "        vertical-align: middle;\n",
       "    }\n",
       "\n",
       "    .dataframe tbody tr th {\n",
       "        vertical-align: top;\n",
       "    }\n",
       "\n",
       "    .dataframe thead th {\n",
       "        text-align: right;\n",
       "    }\n",
       "</style>\n",
       "<table border=\"1\" class=\"dataframe\">\n",
       "  <thead>\n",
       "    <tr style=\"text-align: right;\">\n",
       "      <th></th>\n",
       "      <th>street_name</th>\n",
       "      <th>id</th>\n",
       "    </tr>\n",
       "  </thead>\n",
       "  <tbody>\n",
       "    <tr>\n",
       "      <th>0</th>\n",
       "      <td>1/2 3RD ST</td>\n",
       "      <td>1</td>\n",
       "    </tr>\n",
       "    <tr>\n",
       "      <th>1</th>\n",
       "      <td>S BROADWAY ST 101E1</td>\n",
       "      <td>1</td>\n",
       "    </tr>\n",
       "    <tr>\n",
       "      <th>2</th>\n",
       "      <td>S BROADWAY ST E3</td>\n",
       "      <td>1</td>\n",
       "    </tr>\n",
       "    <tr>\n",
       "      <th>3</th>\n",
       "      <td>S BROADWAY ST F9- F10</td>\n",
       "      <td>1</td>\n",
       "    </tr>\n",
       "    <tr>\n",
       "      <th>4</th>\n",
       "      <td>S BROXTON AVE</td>\n",
       "      <td>1</td>\n",
       "    </tr>\n",
       "  </tbody>\n",
       "</table>\n",
       "</div>"
      ],
      "text/plain": [
       "             street_name  id\n",
       "0             1/2 3RD ST   1\n",
       "1    S BROADWAY ST 101E1   1\n",
       "2       S BROADWAY ST E3   1\n",
       "3  S BROADWAY ST F9- F10   1\n",
       "4          S BROXTON AVE   1"
      ]
     },
     "execution_count": 49,
     "metadata": {},
     "output_type": "execute_result"
    }
   ],
   "source": [
    "seating_distribution = rest_data.groupby('street_name').agg({'id' : 'count'}).sort_values('id').reset_index()\n",
    "seating_distribution.head()"
   ]
  },
  {
   "cell_type": "markdown",
   "metadata": {},
   "source": [
    "Now we can plot the histogram."
   ]
  },
  {
   "cell_type": "code",
   "execution_count": 50,
   "metadata": {},
   "outputs": [
    {
     "data": {
      "image/png": "[encoded data removed]",
      "text/plain": [
       "<Figure size 1152x576 with 1 Axes>"
      ]
     },
     "metadata": {
      "needs_background": "light"
     },
     "output_type": "display_data"
    }
   ],
   "source": [
    "plt.figure(figsize=(16, 8))\n",
    "plt.hist(data=seating_distribution, x='id', bins=(100))\n",
    "plt.title('Distribution of Locations per Street')\n",
    "plt.ylabel('No. of Streets')\n",
    "plt.xlabel('No. of Locations')\n",
    "plt.show()"
   ]
  },
  {
   "cell_type": "markdown",
   "metadata": {},
   "source": [
    "Here we can see that the majority of establishments are located at a small number of streets which barely register on the histogram."
   ]
  },
  {
   "cell_type": "markdown",
   "metadata": {},
   "source": [
    "### Seating Capacities for Popular Streets"
   ]
  },
  {
   "cell_type": "markdown",
   "metadata": {},
   "source": [
    "Let's take a look at how differences in seating capacity are distributed for the ten busiest streets. To do this, we will first make a slice of the ten streets with the most establishments. We will use .query() and choose the ten streets that we discovered and stored in our top_ten_streets variable."
   ]
  },
  {
   "cell_type": "code",
   "execution_count": 51,
   "metadata": {},
   "outputs": [
    {
     "data": {
      "text/html": [
       "<div>\n",
       "<style scoped>\n",
       "    .dataframe tbody tr th:only-of-type {\n",
       "        vertical-align: middle;\n",
       "    }\n",
       "\n",
       "    .dataframe tbody tr th {\n",
       "        vertical-align: top;\n",
       "    }\n",
       "\n",
       "    .dataframe thead th {\n",
       "        text-align: right;\n",
       "    }\n",
       "</style>\n",
       "<table border=\"1\" class=\"dataframe\">\n",
       "  <thead>\n",
       "    <tr style=\"text-align: right;\">\n",
       "      <th></th>\n",
       "      <th>id</th>\n",
       "      <th>object_name</th>\n",
       "      <th>address</th>\n",
       "      <th>chain</th>\n",
       "      <th>object_type</th>\n",
       "      <th>number</th>\n",
       "      <th>street_name</th>\n",
       "    </tr>\n",
       "  </thead>\n",
       "  <tbody>\n",
       "    <tr>\n",
       "      <th>2</th>\n",
       "      <td>11788</td>\n",
       "      <td>STREET CHURROS</td>\n",
       "      <td>6801 HOLLYWOOD BLVD # 253</td>\n",
       "      <td>False</td>\n",
       "      <td>Fast Food</td>\n",
       "      <td>20</td>\n",
       "      <td>HOLLYWOOD BLVD</td>\n",
       "    </tr>\n",
       "    <tr>\n",
       "      <th>3</th>\n",
       "      <td>11789</td>\n",
       "      <td>TRINITI ECHO PARK</td>\n",
       "      <td>1814 W SUNSET BLVD</td>\n",
       "      <td>False</td>\n",
       "      <td>Restaurant</td>\n",
       "      <td>22</td>\n",
       "      <td>W SUNSET BLVD</td>\n",
       "    </tr>\n",
       "    <tr>\n",
       "      <th>7</th>\n",
       "      <td>11793</td>\n",
       "      <td>PHO LALA</td>\n",
       "      <td>3500 W 6TH ST STE 226</td>\n",
       "      <td>False</td>\n",
       "      <td>Restaurant</td>\n",
       "      <td>7</td>\n",
       "      <td>W 6TH ST</td>\n",
       "    </tr>\n",
       "    <tr>\n",
       "      <th>10</th>\n",
       "      <td>11796</td>\n",
       "      <td>EL POLLO LOCO</td>\n",
       "      <td>5319 W SUNSET BLVD</td>\n",
       "      <td>True</td>\n",
       "      <td>Restaurant</td>\n",
       "      <td>38</td>\n",
       "      <td>W SUNSET BLVD</td>\n",
       "    </tr>\n",
       "    <tr>\n",
       "      <th>11</th>\n",
       "      <td>11797</td>\n",
       "      <td>POONG NYUN BAKERY</td>\n",
       "      <td>928 S WESTERN AVE STE 109</td>\n",
       "      <td>True</td>\n",
       "      <td>Bakery</td>\n",
       "      <td>17</td>\n",
       "      <td>S WESTERN AVE</td>\n",
       "    </tr>\n",
       "  </tbody>\n",
       "</table>\n",
       "</div>"
      ],
      "text/plain": [
       "       id        object_name                    address  chain object_type  \\\n",
       "2   11788     STREET CHURROS  6801 HOLLYWOOD BLVD # 253  False   Fast Food   \n",
       "3   11789  TRINITI ECHO PARK         1814 W SUNSET BLVD  False  Restaurant   \n",
       "7   11793           PHO LALA      3500 W 6TH ST STE 226  False  Restaurant   \n",
       "10  11796      EL POLLO LOCO         5319 W SUNSET BLVD   True  Restaurant   \n",
       "11  11797  POONG NYUN BAKERY  928 S WESTERN AVE STE 109   True      Bakery   \n",
       "\n",
       "    number     street_name  \n",
       "2       20  HOLLYWOOD BLVD  \n",
       "3       22   W SUNSET BLVD  \n",
       "7        7        W 6TH ST  \n",
       "10      38   W SUNSET BLVD  \n",
       "11      17   S WESTERN AVE  "
      ]
     },
     "execution_count": 51,
     "metadata": {},
     "output_type": "execute_result"
    }
   ],
   "source": [
    "popular_streets = rest_data.query('street_name == \"WILSHIRE BLVD\" | street_name == \"W SUNSET BLVD\" |\\\n",
    "street_name == \"W PICO BLVD\" | street_name == \"S WESTERN AVE\" | street_name == \"SANTA MONICA BLVD\" |\\\n",
    "street_name == \"HOLLYWOOD BLVD\" | street_name == \"W OLYMPIC BLVD\" | street_name == \"S FIGUEROA ST\" |\\\n",
    "street_name == \"W 3RD ST\" | street_name == \"W 6TH ST\"')\n",
    "popular_streets.head()"
   ]
  },
  {
   "cell_type": "markdown",
   "metadata": {},
   "source": [
    "Now, we will plot a histogram showing the distribution in seating capacities."
   ]
  },
  {
   "cell_type": "code",
   "execution_count": 52,
   "metadata": {
    "scrolled": true
   },
   "outputs": [
    {
     "data": {
      "image/png": "[encoded data removed]",
      "text/plain": [
       "<Figure size 1152x576 with 1 Axes>"
      ]
     },
     "metadata": {
      "needs_background": "light"
     },
     "output_type": "display_data"
    }
   ],
   "source": [
    "plt.figure(figsize=(16, 8))\n",
    "plt.hist(data=popular_streets, x='number', bins=(50))\n",
    "plt.title('Distribution of Seating Capacities for Ten Most Popular Streets')\n",
    "plt.ylabel('Frequency')\n",
    "plt.xlabel('Seating Capacity')\n",
    "plt.show()"
   ]
  },
  {
   "cell_type": "markdown",
   "metadata": {},
   "source": [
    "Most establishments located on popular streets have within 50 seats. There is a minority with a fairly even distribution from about 60 to well over 200 seats.\n",
    "\n",
    "Since we are primarily interested in chain cafes and fast food restaurants, let's look at the distribution for these type specifically. First, we will make the appropriate slice from popular_streets."
   ]
  },
  {
   "cell_type": "code",
   "execution_count": 53,
   "metadata": {},
   "outputs": [
    {
     "data": {
      "text/html": [
       "<div>\n",
       "<style scoped>\n",
       "    .dataframe tbody tr th:only-of-type {\n",
       "        vertical-align: middle;\n",
       "    }\n",
       "\n",
       "    .dataframe tbody tr th {\n",
       "        vertical-align: top;\n",
       "    }\n",
       "\n",
       "    .dataframe thead th {\n",
       "        text-align: right;\n",
       "    }\n",
       "</style>\n",
       "<table border=\"1\" class=\"dataframe\">\n",
       "  <thead>\n",
       "    <tr style=\"text-align: right;\">\n",
       "      <th></th>\n",
       "      <th>id</th>\n",
       "      <th>object_name</th>\n",
       "      <th>address</th>\n",
       "      <th>chain</th>\n",
       "      <th>object_type</th>\n",
       "      <th>number</th>\n",
       "      <th>street_name</th>\n",
       "    </tr>\n",
       "  </thead>\n",
       "  <tbody>\n",
       "    <tr>\n",
       "      <th>150</th>\n",
       "      <td>11936</td>\n",
       "      <td>PANDA EXPRESS #1212</td>\n",
       "      <td>5543 W SUNSET BLVD</td>\n",
       "      <td>True</td>\n",
       "      <td>Fast Food</td>\n",
       "      <td>45</td>\n",
       "      <td>W SUNSET BLVD</td>\n",
       "    </tr>\n",
       "    <tr>\n",
       "      <th>156</th>\n",
       "      <td>11942</td>\n",
       "      <td>ANDANTE COFFEE ROASTERS</td>\n",
       "      <td>2201 W SUNSET BLVD</td>\n",
       "      <td>True</td>\n",
       "      <td>Cafe</td>\n",
       "      <td>4</td>\n",
       "      <td>W SUNSET BLVD</td>\n",
       "    </tr>\n",
       "    <tr>\n",
       "      <th>182</th>\n",
       "      <td>11968</td>\n",
       "      <td>SUBWAY #1763</td>\n",
       "      <td>3959 WILSHIRE BLVD STE B-7</td>\n",
       "      <td>True</td>\n",
       "      <td>Fast Food</td>\n",
       "      <td>17</td>\n",
       "      <td>WILSHIRE BLVD</td>\n",
       "    </tr>\n",
       "    <tr>\n",
       "      <th>239</th>\n",
       "      <td>12025</td>\n",
       "      <td>DOWNTOWN FATBURGER</td>\n",
       "      <td>888 S FIGUEROA ST</td>\n",
       "      <td>True</td>\n",
       "      <td>Fast Food</td>\n",
       "      <td>15</td>\n",
       "      <td>S FIGUEROA ST</td>\n",
       "    </tr>\n",
       "    <tr>\n",
       "      <th>255</th>\n",
       "      <td>12041</td>\n",
       "      <td>SUBWAY</td>\n",
       "      <td>1205 W 3RD ST</td>\n",
       "      <td>True</td>\n",
       "      <td>Fast Food</td>\n",
       "      <td>14</td>\n",
       "      <td>W 3RD ST</td>\n",
       "    </tr>\n",
       "  </tbody>\n",
       "</table>\n",
       "</div>"
      ],
      "text/plain": [
       "        id              object_name                     address chain  \\\n",
       "150  11936      PANDA EXPRESS #1212          5543 W SUNSET BLVD  True   \n",
       "156  11942  ANDANTE COFFEE ROASTERS          2201 W SUNSET BLVD  True   \n",
       "182  11968             SUBWAY #1763  3959 WILSHIRE BLVD STE B-7  True   \n",
       "239  12025       DOWNTOWN FATBURGER           888 S FIGUEROA ST  True   \n",
       "255  12041                   SUBWAY               1205 W 3RD ST  True   \n",
       "\n",
       "    object_type  number    street_name  \n",
       "150   Fast Food      45  W SUNSET BLVD  \n",
       "156        Cafe       4  W SUNSET BLVD  \n",
       "182   Fast Food      17  WILSHIRE BLVD  \n",
       "239   Fast Food      15  S FIGUEROA ST  \n",
       "255   Fast Food      14       W 3RD ST  "
      ]
     },
     "execution_count": 53,
     "metadata": {},
     "output_type": "execute_result"
    }
   ],
   "source": [
    "cafe_fast_food_popular_streets = popular_streets.loc[((popular_streets.loc[:,'object_type'] == 'Cafe') |\n",
    "                                       (popular_streets.loc[:,'object_type'] == 'Fast Food')) &\n",
    "                                                     (popular_streets.loc[:,'chain'] == True)]\n",
    "cafe_fast_food_popular_streets.head()"
   ]
  },
  {
   "cell_type": "markdown",
   "metadata": {},
   "source": [
    "Now let's plot the bar graph."
   ]
  },
  {
   "cell_type": "code",
   "execution_count": 54,
   "metadata": {
    "scrolled": false
   },
   "outputs": [
    {
     "data": {
      "image/png": "[encoded data removed]",
      "text/plain": [
       "<Figure size 1152x576 with 1 Axes>"
      ]
     },
     "metadata": {
      "needs_background": "light"
     },
     "output_type": "display_data"
    }
   ],
   "source": [
    "plt.figure(figsize=(16, 8))\n",
    "\n",
    "plt.hist(data=cafe_fast_food_popular_streets.loc[cafe_fast_food_popular_streets.loc[:,'street_name'] ==\n",
    "                                            'WILSHIRE BLVD'], x='number', bins=(50), alpha=0.5, range=[0, 200])\n",
    "plt.hist(data=cafe_fast_food_popular_streets.loc[cafe_fast_food_popular_streets.loc[:,'street_name'] ==\n",
    "                                            'W SUNSET BLVD'], x='number', bins=(50), alpha=0.5, range=[0, 200])\n",
    "plt.hist(data=cafe_fast_food_popular_streets.loc[cafe_fast_food_popular_streets.loc[:,'street_name'] ==\n",
    "                                            'W PICO BLVD'], x='number', bins=(50), alpha=0.5, range=[0, 200])\n",
    "plt.hist(data=cafe_fast_food_popular_streets.loc[cafe_fast_food_popular_streets.loc[:,'street_name'] ==\n",
    "                                            'S WESTERN AVE'], x='number', bins=(50), alpha=0.5, range=[0, 200])\n",
    "plt.hist(data=cafe_fast_food_popular_streets.loc[cafe_fast_food_popular_streets.loc[:,'street_name'] ==\n",
    "                                            'SANTA MONICA BLVD'], x='number', bins=(50), alpha=0.5, range=[0, 200])\n",
    "plt.hist(data=cafe_fast_food_popular_streets.loc[cafe_fast_food_popular_streets.loc[:,'street_name'] ==\n",
    "                                            'HOLLYWOOD BLVD'], x='number', bins=(50), alpha=0.5, range=[0, 200])\n",
    "plt.hist(data=cafe_fast_food_popular_streets.loc[cafe_fast_food_popular_streets.loc[:,'street_name'] ==\n",
    "                                            'W OLYMPIC BLVD'], x='number', bins=(50), alpha=0.5, range=[0, 200])\n",
    "plt.hist(data=cafe_fast_food_popular_streets.loc[cafe_fast_food_popular_streets.loc[:,'street_name'] ==\n",
    "                                            'S FIGUEROA ST'], x='number', bins=(50), alpha=0.5, range=[0, 200])\n",
    "plt.hist(data=cafe_fast_food_popular_streets.loc[cafe_fast_food_popular_streets.loc[:,'street_name'] ==\n",
    "                                            'W 3RD ST'], x='number', bins=(50), alpha=0.5, range=[0, 200])\n",
    "plt.hist(data=cafe_fast_food_popular_streets.loc[cafe_fast_food_popular_streets.loc[:,'street_name'] ==\n",
    "                                            'W 6TH ST'], x='number', bins=(50), alpha=0.5, range=[0, 200])\n",
    "\n",
    "plt.title('Distribution of Seating Capacities for Chain Cafes and Fast Food Restaurants on Ten Most Popular Streets')\n",
    "plt.ylabel('Frequency')\n",
    "plt.xlabel('Seating Capacity')\n",
    "plt.legend(labels=['WILSHIRE BLVD', 'W SUNSET BLVD', 'W PICO BLVD', 'S WESTERN AVE', 'SANTA MONICA BLVD',\n",
    "                  'HOLLYWOOD BLVD', 'W OLYMPIC BLVD', 'S FIGUEROA ST', 'W 3RD ST', 'W 6TH ST'])\n",
    "plt.show()"
   ]
  },
  {
   "cell_type": "markdown",
   "metadata": {},
   "source": [
    "For chain cafes and fast food restaurants on popular streets, seating capacity peaks around 25 and drops sharply after."
   ]
  },
  {
   "cell_type": "markdown",
   "metadata": {},
   "source": [
    "### Data analysis Summary"
   ]
  },
  {
   "cell_type": "markdown",
   "metadata": {},
   "source": [
    "Successful automated cafes will most likely imitate existing cafes and fast food establishments.\n",
    "\n",
    "Existing cafes and fast food establishments have greater market proportions as chains when compared to other chains (they typically fair better as chains compared to other establishment types).\n",
    "\n",
    "Existing establishments predominately succeed on a small number of popular streets.\n",
    "\n",
    "Cafes and fast food chains with multiple locations (preferable for capitalization on high initial investment and low long term overhead) typically fall within a seating capacity of 20 to 40 seats.\n",
    "\n",
    "For the ten busiest streets, the seating capacity for relevant establishments peaks at 25 seats and drops sharply after.\n",
    "\n",
    "Successful automated cafes will most likely be chains, located on the most popular streets, with a seating capacity of around 25 or less seats."
   ]
  },
  {
   "cell_type": "markdown",
   "metadata": {},
   "source": [
    "Presentation: <https://drive.google.com/file/d/1iVsZncXsHqIsbnfHjK9aiHwfhJQmitjU/view?usp=sharing> "
   ]
  }
 ],
 "metadata": {
  "ExecuteTimeLog": [
   {
    "duration": 1253,
    "start_time": "2021-12-28T19:06:26.414Z"
   },
   {
    "duration": 36,
    "start_time": "2021-12-28T19:10:39.475Z"
   },
   {
    "duration": 864,
    "start_time": "2021-12-28T19:12:26.280Z"
   },
   {
    "duration": 28,
    "start_time": "2021-12-28T19:12:30.622Z"
   },
   {
    "duration": 21,
    "start_time": "2021-12-28T19:12:31.437Z"
   },
   {
    "duration": 23,
    "start_time": "2021-12-28T19:20:21.255Z"
   },
   {
    "duration": 12,
    "start_time": "2021-12-28T19:20:59.449Z"
   },
   {
    "duration": 271,
    "start_time": "2021-12-28T19:21:35.942Z"
   },
   {
    "duration": 12,
    "start_time": "2021-12-28T19:21:42.630Z"
   },
   {
    "duration": 9,
    "start_time": "2021-12-28T19:22:53.151Z"
   },
   {
    "duration": 10,
    "start_time": "2021-12-28T19:23:36.191Z"
   },
   {
    "duration": 9,
    "start_time": "2021-12-28T19:23:37.421Z"
   },
   {
    "duration": 5,
    "start_time": "2021-12-28T19:24:11.348Z"
   },
   {
    "duration": 6,
    "start_time": "2021-12-28T19:24:21.485Z"
   },
   {
    "duration": 7,
    "start_time": "2021-12-28T19:25:19.600Z"
   },
   {
    "duration": 10,
    "start_time": "2021-12-28T19:25:28.510Z"
   },
   {
    "duration": 8,
    "start_time": "2021-12-28T19:26:09.575Z"
   },
   {
    "duration": 10,
    "start_time": "2021-12-28T19:29:34.300Z"
   },
   {
    "duration": 298,
    "start_time": "2021-12-28T19:31:50.261Z"
   },
   {
    "duration": 255,
    "start_time": "2021-12-28T19:32:12.105Z"
   },
   {
    "duration": 2,
    "start_time": "2021-12-28T19:32:21.355Z"
   },
   {
    "duration": 3,
    "start_time": "2021-12-28T19:32:25.417Z"
   },
   {
    "duration": 28,
    "start_time": "2021-12-28T19:32:47.084Z"
   },
   {
    "duration": 18,
    "start_time": "2021-12-28T19:33:00.510Z"
   },
   {
    "duration": 8,
    "start_time": "2021-12-28T19:33:13.484Z"
   },
   {
    "duration": 8,
    "start_time": "2021-12-28T19:33:27.148Z"
   },
   {
    "duration": 8,
    "start_time": "2021-12-28T19:33:28.576Z"
   },
   {
    "duration": 9,
    "start_time": "2021-12-28T19:34:11.356Z"
   },
   {
    "duration": 14,
    "start_time": "2021-12-28T19:45:58.305Z"
   },
   {
    "duration": 6,
    "start_time": "2021-12-28T19:46:24.616Z"
   },
   {
    "duration": 260,
    "start_time": "2021-12-28T19:48:11.527Z"
   },
   {
    "duration": 4,
    "start_time": "2021-12-28T19:48:46.755Z"
   },
   {
    "duration": 256,
    "start_time": "2021-12-28T19:49:27.265Z"
   },
   {
    "duration": 5,
    "start_time": "2021-12-28T19:49:46.997Z"
   },
   {
    "duration": 7,
    "start_time": "2021-12-28T19:53:15.750Z"
   },
   {
    "duration": 13,
    "start_time": "2021-12-28T19:55:21.816Z"
   },
   {
    "duration": 82,
    "start_time": "2021-12-28T19:55:23.908Z"
   },
   {
    "duration": 4,
    "start_time": "2021-12-28T19:55:40.188Z"
   },
   {
    "duration": 4,
    "start_time": "2021-12-28T19:56:10.695Z"
   },
   {
    "duration": 4,
    "start_time": "2021-12-28T19:59:32.884Z"
   },
   {
    "duration": 31,
    "start_time": "2021-12-28T19:59:32.892Z"
   },
   {
    "duration": 17,
    "start_time": "2021-12-28T19:59:32.924Z"
   },
   {
    "duration": 12,
    "start_time": "2021-12-28T19:59:32.944Z"
   },
   {
    "duration": 11,
    "start_time": "2021-12-28T19:59:32.959Z"
   },
   {
    "duration": 13,
    "start_time": "2021-12-28T19:59:32.972Z"
   },
   {
    "duration": 10,
    "start_time": "2021-12-28T19:59:32.987Z"
   },
   {
    "duration": 8,
    "start_time": "2021-12-28T19:59:32.998Z"
   },
   {
    "duration": 9,
    "start_time": "2021-12-28T19:59:33.008Z"
   },
   {
    "duration": 4,
    "start_time": "2021-12-28T19:59:33.019Z"
   },
   {
    "duration": 40,
    "start_time": "2021-12-28T19:59:33.024Z"
   },
   {
    "duration": 17,
    "start_time": "2021-12-28T19:59:33.066Z"
   },
   {
    "duration": 13,
    "start_time": "2021-12-28T19:59:33.085Z"
   },
   {
    "duration": 3,
    "start_time": "2021-12-28T19:59:33.100Z"
   },
   {
    "duration": 137,
    "start_time": "2021-12-28T20:01:57.508Z"
   },
   {
    "duration": 153,
    "start_time": "2021-12-28T20:02:53.820Z"
   },
   {
    "duration": 397,
    "start_time": "2021-12-28T20:04:33.478Z"
   },
   {
    "duration": 238,
    "start_time": "2021-12-28T20:04:43.288Z"
   },
   {
    "duration": 3,
    "start_time": "2021-12-28T20:06:56.889Z"
   },
   {
    "duration": 3,
    "start_time": "2021-12-28T20:07:05.981Z"
   },
   {
    "duration": 4,
    "start_time": "2021-12-28T20:07:09.282Z"
   },
   {
    "duration": 4,
    "start_time": "2021-12-28T20:07:12.499Z"
   },
   {
    "duration": 3,
    "start_time": "2021-12-28T20:07:15.950Z"
   },
   {
    "duration": 4,
    "start_time": "2021-12-28T20:07:18.826Z"
   },
   {
    "duration": 9,
    "start_time": "2021-12-28T20:12:17.901Z"
   },
   {
    "duration": 231,
    "start_time": "2021-12-28T20:13:15.676Z"
   },
   {
    "duration": 780,
    "start_time": "2021-12-28T20:14:08.989Z"
   },
   {
    "duration": 4,
    "start_time": "2021-12-28T20:14:34.456Z"
   },
   {
    "duration": 32,
    "start_time": "2021-12-28T20:14:34.463Z"
   },
   {
    "duration": 19,
    "start_time": "2021-12-28T20:14:34.497Z"
   },
   {
    "duration": 12,
    "start_time": "2021-12-28T20:14:34.518Z"
   },
   {
    "duration": 12,
    "start_time": "2021-12-28T20:14:34.531Z"
   },
   {
    "duration": 9,
    "start_time": "2021-12-28T20:14:34.561Z"
   },
   {
    "duration": 14,
    "start_time": "2021-12-28T20:14:34.571Z"
   },
   {
    "duration": 9,
    "start_time": "2021-12-28T20:14:34.587Z"
   },
   {
    "duration": 10,
    "start_time": "2021-12-28T20:14:34.597Z"
   },
   {
    "duration": 4,
    "start_time": "2021-12-28T20:14:34.659Z"
   },
   {
    "duration": 13,
    "start_time": "2021-12-28T20:14:34.664Z"
   },
   {
    "duration": 19,
    "start_time": "2021-12-28T20:14:34.678Z"
   },
   {
    "duration": 17,
    "start_time": "2021-12-28T20:14:34.699Z"
   },
   {
    "duration": 14,
    "start_time": "2021-12-28T20:14:34.717Z"
   },
   {
    "duration": 270,
    "start_time": "2021-12-28T20:14:34.733Z"
   },
   {
    "duration": 9,
    "start_time": "2021-12-28T20:14:35.005Z"
   },
   {
    "duration": 699,
    "start_time": "2021-12-28T20:14:35.015Z"
   },
   {
    "duration": 4,
    "start_time": "2021-12-28T20:14:54.771Z"
   },
   {
    "duration": 691,
    "start_time": "2021-12-28T20:15:19.396Z"
   },
   {
    "duration": 631,
    "start_time": "2021-12-28T20:16:28.837Z"
   },
   {
    "duration": 646,
    "start_time": "2021-12-28T20:16:39.619Z"
   },
   {
    "duration": 3,
    "start_time": "2021-12-28T20:18:01.025Z"
   },
   {
    "duration": 261,
    "start_time": "2021-12-28T20:18:06.678Z"
   },
   {
    "duration": 3,
    "start_time": "2021-12-28T20:18:28.305Z"
   },
   {
    "duration": 299,
    "start_time": "2021-12-28T20:18:33.116Z"
   },
   {
    "duration": 4,
    "start_time": "2021-12-28T20:18:41.242Z"
   },
   {
    "duration": 4,
    "start_time": "2021-12-28T20:18:42.490Z"
   },
   {
    "duration": 3,
    "start_time": "2021-12-28T20:18:48.968Z"
   },
   {
    "duration": 134,
    "start_time": "2021-12-28T20:19:27.898Z"
   },
   {
    "duration": 231,
    "start_time": "2021-12-28T20:21:35.631Z"
   },
   {
    "duration": 239,
    "start_time": "2021-12-28T20:21:43.721Z"
   },
   {
    "duration": 239,
    "start_time": "2021-12-28T20:22:02.405Z"
   },
   {
    "duration": 317,
    "start_time": "2021-12-28T20:27:57.731Z"
   },
   {
    "duration": 6,
    "start_time": "2021-12-28T20:27:59.880Z"
   },
   {
    "duration": 12,
    "start_time": "2021-12-28T20:28:02.034Z"
   },
   {
    "duration": 4,
    "start_time": "2021-12-28T20:28:03.982Z"
   },
   {
    "duration": 3,
    "start_time": "2021-12-28T20:29:53.566Z"
   },
   {
    "duration": 256,
    "start_time": "2021-12-28T20:29:55.392Z"
   },
   {
    "duration": 261,
    "start_time": "2021-12-28T22:09:05.128Z"
   },
   {
    "duration": 264,
    "start_time": "2021-12-28T22:10:05.285Z"
   },
   {
    "duration": 5130,
    "start_time": "2021-12-28T22:10:12.941Z"
   },
   {
    "duration": 6722,
    "start_time": "2021-12-28T22:11:47.942Z"
   },
   {
    "duration": 294,
    "start_time": "2021-12-28T22:12:24.286Z"
   },
   {
    "duration": 65555,
    "start_time": "2021-12-28T22:12:46.353Z"
   },
   {
    "duration": 10,
    "start_time": "2021-12-28T22:22:04.422Z"
   },
   {
    "duration": 13,
    "start_time": "2021-12-28T22:22:14.171Z"
   },
   {
    "duration": 13,
    "start_time": "2021-12-28T22:22:47.433Z"
   },
   {
    "duration": 8,
    "start_time": "2021-12-28T22:23:19.358Z"
   },
   {
    "duration": 262,
    "start_time": "2021-12-28T22:23:38.300Z"
   },
   {
    "duration": 1215,
    "start_time": "2021-12-28T22:24:06.518Z"
   },
   {
    "duration": 248,
    "start_time": "2021-12-28T22:24:37.798Z"
   },
   {
    "duration": 278,
    "start_time": "2021-12-28T22:24:49.608Z"
   },
   {
    "duration": 8,
    "start_time": "2021-12-28T22:25:19.737Z"
   },
   {
    "duration": 10,
    "start_time": "2021-12-28T22:25:23.516Z"
   },
   {
    "duration": 17,
    "start_time": "2021-12-28T22:25:44.520Z"
   },
   {
    "duration": 583,
    "start_time": "2021-12-28T22:27:53.894Z"
   },
   {
    "duration": 506,
    "start_time": "2021-12-28T22:28:28.334Z"
   },
   {
    "duration": 1114,
    "start_time": "2021-12-28T22:29:40.088Z"
   },
   {
    "duration": 6620,
    "start_time": "2021-12-28T22:31:06.208Z"
   },
   {
    "duration": 253,
    "start_time": "2021-12-28T22:33:09.776Z"
   },
   {
    "duration": 247,
    "start_time": "2021-12-28T22:33:18.680Z"
   },
   {
    "duration": 273,
    "start_time": "2021-12-28T22:34:03.618Z"
   },
   {
    "duration": 271,
    "start_time": "2021-12-28T22:34:11.928Z"
   },
   {
    "duration": 374,
    "start_time": "2021-12-28T22:34:18.993Z"
   },
   {
    "duration": 17,
    "start_time": "2021-12-28T22:34:30.097Z"
   },
   {
    "duration": 251,
    "start_time": "2021-12-28T22:34:39.209Z"
   },
   {
    "duration": 598,
    "start_time": "2021-12-28T22:35:06.932Z"
   },
   {
    "duration": 449,
    "start_time": "2021-12-28T22:35:54.746Z"
   },
   {
    "duration": 10,
    "start_time": "2021-12-28T22:47:20.308Z"
   },
   {
    "duration": 253,
    "start_time": "2021-12-28T22:47:51.097Z"
   },
   {
    "duration": 88,
    "start_time": "2021-12-28T22:48:50.037Z"
   },
   {
    "duration": 6326,
    "start_time": "2021-12-28T22:49:01.882Z"
   },
   {
    "duration": 272,
    "start_time": "2021-12-28T22:50:20.758Z"
   },
   {
    "duration": 11,
    "start_time": "2021-12-28T22:50:48.706Z"
   },
   {
    "duration": 267,
    "start_time": "2021-12-28T22:50:51.568Z"
   },
   {
    "duration": 270,
    "start_time": "2021-12-28T22:51:01.412Z"
   },
   {
    "duration": 262,
    "start_time": "2021-12-28T22:51:45.038Z"
   },
   {
    "duration": 5,
    "start_time": "2021-12-29T20:30:47.039Z"
   },
   {
    "duration": 46,
    "start_time": "2021-12-29T20:30:47.046Z"
   },
   {
    "duration": 25,
    "start_time": "2021-12-29T20:30:47.095Z"
   },
   {
    "duration": 11,
    "start_time": "2021-12-29T20:30:47.122Z"
   },
   {
    "duration": 15,
    "start_time": "2021-12-29T20:30:47.135Z"
   },
   {
    "duration": 33,
    "start_time": "2021-12-29T20:30:47.152Z"
   },
   {
    "duration": 21,
    "start_time": "2021-12-29T20:30:47.257Z"
   },
   {
    "duration": 15,
    "start_time": "2021-12-29T20:30:47.281Z"
   },
   {
    "duration": 14,
    "start_time": "2021-12-29T20:30:47.299Z"
   },
   {
    "duration": 11,
    "start_time": "2021-12-29T20:30:47.315Z"
   },
   {
    "duration": 8,
    "start_time": "2021-12-29T20:30:47.328Z"
   },
   {
    "duration": 24,
    "start_time": "2021-12-29T20:30:47.338Z"
   },
   {
    "duration": 6,
    "start_time": "2021-12-29T20:30:47.365Z"
   },
   {
    "duration": 19,
    "start_time": "2021-12-29T20:30:47.373Z"
   },
   {
    "duration": 327,
    "start_time": "2021-12-29T20:30:47.395Z"
   },
   {
    "duration": 11,
    "start_time": "2021-12-29T20:30:47.724Z"
   },
   {
    "duration": 8,
    "start_time": "2021-12-29T20:30:47.736Z"
   },
   {
    "duration": 18,
    "start_time": "2021-12-29T20:30:47.747Z"
   },
   {
    "duration": 29,
    "start_time": "2021-12-29T20:30:47.767Z"
   },
   {
    "duration": 278,
    "start_time": "2021-12-29T20:30:47.798Z"
   },
   {
    "duration": 8,
    "start_time": "2021-12-29T20:30:48.078Z"
   },
   {
    "duration": 12,
    "start_time": "2021-12-29T20:30:48.088Z"
   },
   {
    "duration": 8,
    "start_time": "2021-12-29T20:30:48.102Z"
   },
   {
    "duration": 3,
    "start_time": "2021-12-29T20:30:48.112Z"
   },
   {
    "duration": 339,
    "start_time": "2021-12-29T20:30:48.117Z"
   },
   {
    "duration": 22,
    "start_time": "2021-12-29T20:30:48.462Z"
   },
   {
    "duration": 452,
    "start_time": "2021-12-29T20:30:48.487Z"
   },
   {
    "duration": 22,
    "start_time": "2021-12-29T20:30:48.941Z"
   },
   {
    "duration": 318,
    "start_time": "2021-12-29T20:30:48.965Z"
   },
   {
    "duration": 17,
    "start_time": "2021-12-29T20:30:49.285Z"
   },
   {
    "duration": 134,
    "start_time": "2021-12-29T20:31:01.044Z"
   },
   {
    "duration": 18,
    "start_time": "2021-12-29T20:31:08.425Z"
   },
   {
    "duration": 13,
    "start_time": "2021-12-29T20:41:02.584Z"
   },
   {
    "duration": 29,
    "start_time": "2021-12-29T20:41:15.367Z"
   },
   {
    "duration": 16,
    "start_time": "2021-12-29T20:42:54.678Z"
   },
   {
    "duration": 22,
    "start_time": "2021-12-29T20:42:57.210Z"
   },
   {
    "duration": 9,
    "start_time": "2021-12-29T20:44:20.242Z"
   },
   {
    "duration": 20,
    "start_time": "2021-12-29T20:44:21.651Z"
   },
   {
    "duration": 36,
    "start_time": "2021-12-29T20:44:54.025Z"
   },
   {
    "duration": 10,
    "start_time": "2021-12-29T20:44:57.777Z"
   },
   {
    "duration": 22,
    "start_time": "2021-12-29T20:44:59.851Z"
   },
   {
    "duration": 9,
    "start_time": "2021-12-29T20:45:31.903Z"
   },
   {
    "duration": 24,
    "start_time": "2021-12-29T20:45:33.561Z"
   },
   {
    "duration": 9,
    "start_time": "2021-12-29T20:46:12.278Z"
   },
   {
    "duration": 8,
    "start_time": "2021-12-29T20:46:19.995Z"
   },
   {
    "duration": 9,
    "start_time": "2021-12-29T20:46:46.249Z"
   },
   {
    "duration": 12,
    "start_time": "2021-12-29T20:46:47.057Z"
   },
   {
    "duration": 9,
    "start_time": "2021-12-29T20:46:47.836Z"
   },
   {
    "duration": 9,
    "start_time": "2021-12-29T20:46:48.626Z"
   },
   {
    "duration": 24,
    "start_time": "2021-12-29T20:46:50.654Z"
   },
   {
    "duration": 9,
    "start_time": "2021-12-29T20:47:40.974Z"
   },
   {
    "duration": 9,
    "start_time": "2021-12-29T20:47:41.749Z"
   },
   {
    "duration": 14,
    "start_time": "2021-12-29T20:47:42.464Z"
   },
   {
    "duration": 9,
    "start_time": "2021-12-29T20:47:43.184Z"
   },
   {
    "duration": 21,
    "start_time": "2021-12-29T20:47:46.309Z"
   },
   {
    "duration": 29,
    "start_time": "2021-12-29T20:50:09.281Z"
   },
   {
    "duration": 14,
    "start_time": "2021-12-29T20:50:13.501Z"
   },
   {
    "duration": 11,
    "start_time": "2021-12-29T20:50:27.187Z"
   },
   {
    "duration": 18,
    "start_time": "2021-12-29T20:50:28.877Z"
   },
   {
    "duration": 11,
    "start_time": "2021-12-29T20:51:02.596Z"
   },
   {
    "duration": 15,
    "start_time": "2021-12-29T20:51:05.346Z"
   },
   {
    "duration": 9,
    "start_time": "2021-12-29T20:51:26.188Z"
   },
   {
    "duration": 20,
    "start_time": "2021-12-29T20:51:27.718Z"
   },
   {
    "duration": 10,
    "start_time": "2021-12-29T20:52:36.097Z"
   },
   {
    "duration": 15,
    "start_time": "2021-12-29T20:52:39.096Z"
   },
   {
    "duration": 11,
    "start_time": "2021-12-29T20:53:56.041Z"
   },
   {
    "duration": 14,
    "start_time": "2021-12-29T20:53:58.193Z"
   },
   {
    "duration": 31,
    "start_time": "2021-12-29T20:54:44.723Z"
   },
   {
    "duration": 15,
    "start_time": "2021-12-29T20:54:47.191Z"
   },
   {
    "duration": 17,
    "start_time": "2021-12-29T20:54:49.817Z"
   },
   {
    "duration": 18,
    "start_time": "2021-12-29T20:55:00.286Z"
   },
   {
    "duration": 15,
    "start_time": "2021-12-29T20:55:01.255Z"
   },
   {
    "duration": 12,
    "start_time": "2021-12-29T20:55:01.911Z"
   },
   {
    "duration": 10,
    "start_time": "2021-12-29T20:55:02.317Z"
   },
   {
    "duration": 10,
    "start_time": "2021-12-29T20:55:02.598Z"
   },
   {
    "duration": 13,
    "start_time": "2021-12-29T20:55:02.881Z"
   },
   {
    "duration": 11,
    "start_time": "2021-12-29T20:55:03.133Z"
   },
   {
    "duration": 10,
    "start_time": "2021-12-29T20:55:03.382Z"
   },
   {
    "duration": 9,
    "start_time": "2021-12-29T20:55:03.630Z"
   },
   {
    "duration": 15,
    "start_time": "2021-12-29T20:55:03.877Z"
   },
   {
    "duration": 16,
    "start_time": "2021-12-29T20:55:04.159Z"
   },
   {
    "duration": 10,
    "start_time": "2021-12-29T20:55:04.487Z"
   },
   {
    "duration": 15,
    "start_time": "2021-12-29T20:55:04.856Z"
   },
   {
    "duration": 28,
    "start_time": "2021-12-29T20:55:05.694Z"
   },
   {
    "duration": 4,
    "start_time": "2021-12-29T21:11:30.436Z"
   },
   {
    "duration": 55,
    "start_time": "2021-12-29T21:11:30.444Z"
   },
   {
    "duration": 19,
    "start_time": "2021-12-29T21:11:30.501Z"
   },
   {
    "duration": 13,
    "start_time": "2021-12-29T21:11:30.522Z"
   },
   {
    "duration": 19,
    "start_time": "2021-12-29T21:11:30.537Z"
   },
   {
    "duration": 12,
    "start_time": "2021-12-29T21:11:30.650Z"
   },
   {
    "duration": 48,
    "start_time": "2021-12-29T21:11:30.664Z"
   },
   {
    "duration": 33,
    "start_time": "2021-12-29T21:11:30.714Z"
   },
   {
    "duration": 22,
    "start_time": "2021-12-29T21:11:30.749Z"
   },
   {
    "duration": 24,
    "start_time": "2021-12-29T21:11:30.774Z"
   },
   {
    "duration": 5,
    "start_time": "2021-12-29T21:37:55.079Z"
   },
   {
    "duration": 4,
    "start_time": "2021-12-29T21:39:35.961Z"
   },
   {
    "duration": 41,
    "start_time": "2021-12-29T21:39:35.976Z"
   },
   {
    "duration": 19,
    "start_time": "2021-12-29T21:39:36.019Z"
   },
   {
    "duration": 15,
    "start_time": "2021-12-29T21:39:36.040Z"
   },
   {
    "duration": 13,
    "start_time": "2021-12-29T21:39:36.057Z"
   },
   {
    "duration": 14,
    "start_time": "2021-12-29T21:39:36.179Z"
   },
   {
    "duration": 19,
    "start_time": "2021-12-29T21:39:36.195Z"
   },
   {
    "duration": 13,
    "start_time": "2021-12-29T21:39:36.216Z"
   },
   {
    "duration": 21,
    "start_time": "2021-12-29T21:39:36.231Z"
   },
   {
    "duration": 24,
    "start_time": "2021-12-29T21:39:36.255Z"
   },
   {
    "duration": 5,
    "start_time": "2021-12-29T21:39:36.281Z"
   },
   {
    "duration": 11,
    "start_time": "2021-12-29T21:39:36.399Z"
   },
   {
    "duration": 12,
    "start_time": "2021-12-29T21:39:36.412Z"
   },
   {
    "duration": 12,
    "start_time": "2021-12-29T21:39:36.427Z"
   },
   {
    "duration": 12,
    "start_time": "2021-12-29T21:39:36.441Z"
   },
   {
    "duration": 15,
    "start_time": "2021-12-29T21:39:36.454Z"
   },
   {
    "duration": 22,
    "start_time": "2021-12-29T21:39:36.472Z"
   },
   {
    "duration": 14,
    "start_time": "2021-12-29T21:39:36.610Z"
   },
   {
    "duration": 11,
    "start_time": "2021-12-29T21:39:36.626Z"
   },
   {
    "duration": 11,
    "start_time": "2021-12-29T21:39:36.639Z"
   },
   {
    "duration": 13,
    "start_time": "2021-12-29T21:39:36.652Z"
   },
   {
    "duration": 24,
    "start_time": "2021-12-29T21:39:36.668Z"
   },
   {
    "duration": 12,
    "start_time": "2021-12-29T21:39:36.694Z"
   },
   {
    "duration": 12,
    "start_time": "2021-12-29T21:39:36.822Z"
   },
   {
    "duration": 15,
    "start_time": "2021-12-29T21:39:36.835Z"
   },
   {
    "duration": 25,
    "start_time": "2021-12-29T21:39:36.852Z"
   },
   {
    "duration": 13,
    "start_time": "2021-12-29T21:41:32.587Z"
   },
   {
    "duration": 19,
    "start_time": "2021-12-29T21:41:34.373Z"
   },
   {
    "duration": 4,
    "start_time": "2021-12-29T21:44:25.247Z"
   },
   {
    "duration": 37,
    "start_time": "2021-12-29T21:44:25.275Z"
   },
   {
    "duration": 23,
    "start_time": "2021-12-29T21:44:25.315Z"
   },
   {
    "duration": 10,
    "start_time": "2021-12-29T21:44:25.341Z"
   },
   {
    "duration": 16,
    "start_time": "2021-12-29T21:44:25.353Z"
   },
   {
    "duration": 11,
    "start_time": "2021-12-29T21:44:25.477Z"
   },
   {
    "duration": 10,
    "start_time": "2021-12-29T21:44:25.490Z"
   },
   {
    "duration": 8,
    "start_time": "2021-12-29T21:44:25.505Z"
   },
   {
    "duration": 9,
    "start_time": "2021-12-29T21:44:25.515Z"
   },
   {
    "duration": 15,
    "start_time": "2021-12-29T21:44:25.526Z"
   },
   {
    "duration": 19,
    "start_time": "2021-12-29T21:44:25.543Z"
   },
   {
    "duration": 10,
    "start_time": "2021-12-29T21:44:25.687Z"
   },
   {
    "duration": 13,
    "start_time": "2021-12-29T21:44:25.699Z"
   },
   {
    "duration": 11,
    "start_time": "2021-12-29T21:44:25.715Z"
   },
   {
    "duration": 11,
    "start_time": "2021-12-29T21:44:25.728Z"
   },
   {
    "duration": 11,
    "start_time": "2021-12-29T21:44:25.740Z"
   },
   {
    "duration": 14,
    "start_time": "2021-12-29T21:44:25.753Z"
   },
   {
    "duration": 14,
    "start_time": "2021-12-29T21:44:25.915Z"
   },
   {
    "duration": 9,
    "start_time": "2021-12-29T21:44:25.931Z"
   },
   {
    "duration": 8,
    "start_time": "2021-12-29T21:44:25.948Z"
   },
   {
    "duration": 25,
    "start_time": "2021-12-29T21:44:25.957Z"
   },
   {
    "duration": 22,
    "start_time": "2021-12-29T21:44:25.984Z"
   },
   {
    "duration": 11,
    "start_time": "2021-12-29T21:44:26.008Z"
   },
   {
    "duration": 9,
    "start_time": "2021-12-29T21:44:26.143Z"
   },
   {
    "duration": 17,
    "start_time": "2021-12-29T21:44:26.153Z"
   },
   {
    "duration": 19,
    "start_time": "2021-12-29T21:44:26.173Z"
   },
   {
    "duration": 25,
    "start_time": "2021-12-29T21:44:26.195Z"
   },
   {
    "duration": 4,
    "start_time": "2021-12-29T21:44:26.222Z"
   },
   {
    "duration": 9,
    "start_time": "2021-12-29T21:44:26.227Z"
   },
   {
    "duration": 15,
    "start_time": "2021-12-29T21:44:26.377Z"
   },
   {
    "duration": 5,
    "start_time": "2021-12-29T21:44:26.395Z"
   },
   {
    "duration": 5,
    "start_time": "2021-12-29T21:44:26.402Z"
   },
   {
    "duration": 301,
    "start_time": "2021-12-29T21:44:26.409Z"
   },
   {
    "duration": 10,
    "start_time": "2021-12-29T21:44:26.712Z"
   },
   {
    "duration": 5,
    "start_time": "2021-12-29T21:44:26.725Z"
   },
   {
    "duration": 6,
    "start_time": "2021-12-29T21:44:26.731Z"
   },
   {
    "duration": 4,
    "start_time": "2021-12-29T21:44:26.761Z"
   },
   {
    "duration": 277,
    "start_time": "2021-12-29T21:44:26.767Z"
   },
   {
    "duration": 19,
    "start_time": "2021-12-29T21:44:27.046Z"
   },
   {
    "duration": 25,
    "start_time": "2021-12-29T21:44:27.067Z"
   },
   {
    "duration": 6,
    "start_time": "2021-12-29T21:44:27.094Z"
   },
   {
    "duration": 6,
    "start_time": "2021-12-29T21:44:27.103Z"
   },
   {
    "duration": 292,
    "start_time": "2021-12-29T21:44:27.111Z"
   },
   {
    "duration": 18,
    "start_time": "2021-12-29T21:44:27.405Z"
   },
   {
    "duration": 483,
    "start_time": "2021-12-29T21:44:27.425Z"
   },
   {
    "duration": 10,
    "start_time": "2021-12-29T21:44:27.910Z"
   },
   {
    "duration": 312,
    "start_time": "2021-12-29T21:44:27.922Z"
   },
   {
    "duration": 4,
    "start_time": "2021-12-29T21:47:07.388Z"
   },
   {
    "duration": 53,
    "start_time": "2021-12-29T21:47:07.394Z"
   },
   {
    "duration": 25,
    "start_time": "2021-12-29T21:47:07.449Z"
   },
   {
    "duration": 17,
    "start_time": "2021-12-29T21:47:07.476Z"
   },
   {
    "duration": 12,
    "start_time": "2021-12-29T21:47:07.496Z"
   },
   {
    "duration": 13,
    "start_time": "2021-12-29T21:47:07.599Z"
   },
   {
    "duration": 23,
    "start_time": "2021-12-29T21:47:07.614Z"
   },
   {
    "duration": 8,
    "start_time": "2021-12-29T21:47:07.639Z"
   },
   {
    "duration": 40,
    "start_time": "2021-12-29T21:47:07.649Z"
   },
   {
    "duration": 34,
    "start_time": "2021-12-29T21:47:07.690Z"
   },
   {
    "duration": 14,
    "start_time": "2021-12-29T21:47:07.726Z"
   },
   {
    "duration": 4,
    "start_time": "2021-12-29T21:47:07.820Z"
   },
   {
    "duration": 17,
    "start_time": "2021-12-29T21:47:07.827Z"
   },
   {
    "duration": 40,
    "start_time": "2021-12-29T21:47:07.846Z"
   },
   {
    "duration": 22,
    "start_time": "2021-12-29T21:47:07.888Z"
   },
   {
    "duration": 23,
    "start_time": "2021-12-29T21:47:07.912Z"
   },
   {
    "duration": 27,
    "start_time": "2021-12-29T21:47:07.936Z"
   },
   {
    "duration": 10,
    "start_time": "2021-12-29T21:47:08.025Z"
   },
   {
    "duration": 11,
    "start_time": "2021-12-29T21:47:08.037Z"
   },
   {
    "duration": 42,
    "start_time": "2021-12-29T21:47:08.051Z"
   },
   {
    "duration": 43,
    "start_time": "2021-12-29T21:47:08.095Z"
   },
   {
    "duration": 16,
    "start_time": "2021-12-29T21:47:08.140Z"
   },
   {
    "duration": 41,
    "start_time": "2021-12-29T21:47:08.157Z"
   },
   {
    "duration": 10,
    "start_time": "2021-12-29T21:47:08.245Z"
   },
   {
    "duration": 31,
    "start_time": "2021-12-29T21:47:08.257Z"
   },
   {
    "duration": 34,
    "start_time": "2021-12-29T21:47:08.291Z"
   },
   {
    "duration": 27,
    "start_time": "2021-12-29T21:47:08.328Z"
   },
   {
    "duration": 49,
    "start_time": "2021-12-29T21:47:08.357Z"
   },
   {
    "duration": 15,
    "start_time": "2021-12-29T21:47:08.408Z"
   },
   {
    "duration": 4,
    "start_time": "2021-12-29T21:47:08.457Z"
   },
   {
    "duration": 45,
    "start_time": "2021-12-29T21:47:08.463Z"
   },
   {
    "duration": 20,
    "start_time": "2021-12-29T21:47:08.510Z"
   },
   {
    "duration": 23,
    "start_time": "2021-12-29T21:47:08.532Z"
   },
   {
    "duration": 34,
    "start_time": "2021-12-29T21:47:08.557Z"
   },
   {
    "duration": 303,
    "start_time": "2021-12-29T21:47:08.666Z"
   },
   {
    "duration": 14,
    "start_time": "2021-12-29T21:47:08.971Z"
   },
   {
    "duration": 8,
    "start_time": "2021-12-29T21:47:08.988Z"
   },
   {
    "duration": 22,
    "start_time": "2021-12-29T21:47:08.998Z"
   },
   {
    "duration": 34,
    "start_time": "2021-12-29T21:47:09.021Z"
   },
   {
    "duration": 323,
    "start_time": "2021-12-29T21:47:09.057Z"
   },
   {
    "duration": 6,
    "start_time": "2021-12-29T21:47:09.383Z"
   },
   {
    "duration": 25,
    "start_time": "2021-12-29T21:47:09.391Z"
   },
   {
    "duration": 29,
    "start_time": "2021-12-29T21:47:09.420Z"
   },
   {
    "duration": 32,
    "start_time": "2021-12-29T21:47:09.451Z"
   },
   {
    "duration": 325,
    "start_time": "2021-12-29T21:47:09.486Z"
   },
   {
    "duration": 16,
    "start_time": "2021-12-29T21:47:09.813Z"
   },
   {
    "duration": 510,
    "start_time": "2021-12-29T21:47:09.831Z"
   },
   {
    "duration": 25,
    "start_time": "2021-12-29T21:47:10.343Z"
   },
   {
    "duration": 313,
    "start_time": "2021-12-29T21:47:10.370Z"
   },
   {
    "duration": 28,
    "start_time": "2021-12-29T21:47:10.686Z"
   },
   {
    "duration": 14,
    "start_time": "2021-12-29T21:47:10.716Z"
   },
   {
    "duration": 22,
    "start_time": "2021-12-29T21:47:10.732Z"
   },
   {
    "duration": 295,
    "start_time": "2021-12-29T21:47:56.618Z"
   },
   {
    "duration": 91,
    "start_time": "2021-12-29T21:49:16.618Z"
   },
   {
    "duration": 30,
    "start_time": "2021-12-29T21:49:21.747Z"
   },
   {
    "duration": 34,
    "start_time": "2021-12-29T21:49:42.461Z"
   },
   {
    "duration": 3,
    "start_time": "2021-12-29T21:50:28.323Z"
   },
   {
    "duration": 40,
    "start_time": "2021-12-29T21:50:28.328Z"
   },
   {
    "duration": 20,
    "start_time": "2021-12-29T21:50:28.371Z"
   },
   {
    "duration": 13,
    "start_time": "2021-12-29T21:50:28.392Z"
   },
   {
    "duration": 21,
    "start_time": "2021-12-29T21:50:28.407Z"
   },
   {
    "duration": 12,
    "start_time": "2021-12-29T21:50:28.578Z"
   },
   {
    "duration": 12,
    "start_time": "2021-12-29T21:50:28.592Z"
   },
   {
    "duration": 14,
    "start_time": "2021-12-29T21:50:28.606Z"
   },
   {
    "duration": 11,
    "start_time": "2021-12-29T21:50:28.622Z"
   },
   {
    "duration": 33,
    "start_time": "2021-12-29T21:50:28.635Z"
   },
   {
    "duration": 20,
    "start_time": "2021-12-29T21:50:28.670Z"
   },
   {
    "duration": 4,
    "start_time": "2021-12-29T21:50:28.791Z"
   },
   {
    "duration": 18,
    "start_time": "2021-12-29T21:50:28.797Z"
   },
   {
    "duration": 13,
    "start_time": "2021-12-29T21:50:28.817Z"
   },
   {
    "duration": 11,
    "start_time": "2021-12-29T21:50:28.832Z"
   },
   {
    "duration": 15,
    "start_time": "2021-12-29T21:50:28.845Z"
   },
   {
    "duration": 23,
    "start_time": "2021-12-29T21:50:28.867Z"
   },
   {
    "duration": 11,
    "start_time": "2021-12-29T21:50:29.011Z"
   },
   {
    "duration": 12,
    "start_time": "2021-12-29T21:50:29.024Z"
   },
   {
    "duration": 9,
    "start_time": "2021-12-29T21:50:29.038Z"
   },
   {
    "duration": 9,
    "start_time": "2021-12-29T21:50:29.049Z"
   },
   {
    "duration": 24,
    "start_time": "2021-12-29T21:50:29.060Z"
   },
   {
    "duration": 16,
    "start_time": "2021-12-29T21:50:29.086Z"
   },
   {
    "duration": 12,
    "start_time": "2021-12-29T21:50:29.219Z"
   },
   {
    "duration": 12,
    "start_time": "2021-12-29T21:50:29.232Z"
   },
   {
    "duration": 13,
    "start_time": "2021-12-29T21:50:29.246Z"
   },
   {
    "duration": 24,
    "start_time": "2021-12-29T21:50:29.260Z"
   },
   {
    "duration": 34,
    "start_time": "2021-12-29T21:50:29.287Z"
   },
   {
    "duration": 19,
    "start_time": "2021-12-29T21:50:29.323Z"
   },
   {
    "duration": 33,
    "start_time": "2021-12-29T21:55:01.310Z"
   },
   {
    "duration": 16,
    "start_time": "2021-12-29T21:55:02.848Z"
   },
   {
    "duration": 803,
    "start_time": "2021-12-29T21:56:36.000Z"
   },
   {
    "duration": 21,
    "start_time": "2021-12-29T21:56:37.254Z"
   },
   {
    "duration": 7639,
    "start_time": "2021-12-29T21:57:37.280Z"
   },
   {
    "duration": -286,
    "start_time": "2021-12-29T21:57:45.208Z"
   },
   {
    "duration": 6,
    "start_time": "2021-12-29T21:57:53.169Z"
   },
   {
    "duration": 25,
    "start_time": "2021-12-29T21:57:54.061Z"
   },
   {
    "duration": 18,
    "start_time": "2021-12-29T21:57:55.718Z"
   },
   {
    "duration": 10,
    "start_time": "2021-12-29T21:58:32.536Z"
   },
   {
    "duration": 30,
    "start_time": "2021-12-29T21:59:34.690Z"
   },
   {
    "duration": 26,
    "start_time": "2021-12-29T21:59:35.158Z"
   },
   {
    "duration": 4,
    "start_time": "2021-12-29T21:59:38.218Z"
   },
   {
    "duration": 22,
    "start_time": "2021-12-29T21:59:39.532Z"
   },
   {
    "duration": 13,
    "start_time": "2021-12-29T21:59:39.919Z"
   },
   {
    "duration": 16,
    "start_time": "2021-12-29T21:59:40.260Z"
   },
   {
    "duration": 8,
    "start_time": "2021-12-29T21:59:40.534Z"
   },
   {
    "duration": 13,
    "start_time": "2021-12-29T21:59:40.881Z"
   },
   {
    "duration": 10,
    "start_time": "2021-12-29T21:59:41.281Z"
   },
   {
    "duration": 17,
    "start_time": "2021-12-29T21:59:43.440Z"
   },
   {
    "duration": 29,
    "start_time": "2021-12-29T22:00:10.785Z"
   },
   {
    "duration": 8206,
    "start_time": "2021-12-29T22:00:13.188Z"
   },
   {
    "duration": -327,
    "start_time": "2021-12-29T22:00:21.723Z"
   },
   {
    "duration": -331,
    "start_time": "2021-12-29T22:00:21.728Z"
   },
   {
    "duration": 10264,
    "start_time": "2021-12-29T22:00:22.252Z"
   },
   {
    "duration": -288,
    "start_time": "2021-12-29T22:00:32.807Z"
   },
   {
    "duration": 5,
    "start_time": "2021-12-29T22:01:11.910Z"
   },
   {
    "duration": 22,
    "start_time": "2021-12-29T22:01:13.314Z"
   },
   {
    "duration": 18,
    "start_time": "2021-12-29T22:01:15.149Z"
   },
   {
    "duration": 9,
    "start_time": "2021-12-29T22:01:32.819Z"
   },
   {
    "duration": 18,
    "start_time": "2021-12-29T22:01:34.076Z"
   },
   {
    "duration": 9,
    "start_time": "2021-12-29T22:01:53.816Z"
   },
   {
    "duration": 16,
    "start_time": "2021-12-29T22:01:54.817Z"
   },
   {
    "duration": 13,
    "start_time": "2021-12-29T22:02:22.699Z"
   },
   {
    "duration": 18,
    "start_time": "2021-12-29T22:02:24.541Z"
   },
   {
    "duration": 8,
    "start_time": "2021-12-29T22:02:58.879Z"
   },
   {
    "duration": 21,
    "start_time": "2021-12-29T22:03:02.945Z"
   },
   {
    "duration": 31,
    "start_time": "2021-12-29T22:05:06.272Z"
   },
   {
    "duration": 4,
    "start_time": "2021-12-29T22:05:08.706Z"
   },
   {
    "duration": 21,
    "start_time": "2021-12-29T22:05:10.354Z"
   },
   {
    "duration": 18,
    "start_time": "2021-12-29T22:05:12.476Z"
   },
   {
    "duration": 38,
    "start_time": "2021-12-29T22:05:45.074Z"
   },
   {
    "duration": 5,
    "start_time": "2021-12-29T22:05:48.602Z"
   },
   {
    "duration": 14,
    "start_time": "2021-12-29T22:05:50.632Z"
   },
   {
    "duration": 16,
    "start_time": "2021-12-29T22:05:53.228Z"
   },
   {
    "duration": 10,
    "start_time": "2021-12-29T22:06:29.008Z"
   },
   {
    "duration": 11,
    "start_time": "2021-12-29T22:06:30.229Z"
   },
   {
    "duration": 12,
    "start_time": "2021-12-29T22:06:31.195Z"
   },
   {
    "duration": 10,
    "start_time": "2021-12-29T22:06:31.820Z"
   },
   {
    "duration": 22,
    "start_time": "2021-12-29T22:06:32.918Z"
   },
   {
    "duration": 14,
    "start_time": "2021-12-29T22:07:32.474Z"
   },
   {
    "duration": 15,
    "start_time": "2021-12-29T22:07:33.605Z"
   },
   {
    "duration": 30,
    "start_time": "2021-12-29T22:07:51.010Z"
   },
   {
    "duration": 4,
    "start_time": "2021-12-29T22:07:53.634Z"
   },
   {
    "duration": 18,
    "start_time": "2021-12-29T22:07:54.351Z"
   },
   {
    "duration": 16,
    "start_time": "2021-12-29T22:07:56.540Z"
   },
   {
    "duration": 10,
    "start_time": "2021-12-29T22:08:20.575Z"
   },
   {
    "duration": 17,
    "start_time": "2021-12-29T22:08:22.536Z"
   },
   {
    "duration": 42,
    "start_time": "2021-12-29T22:09:11.852Z"
   },
   {
    "duration": 4,
    "start_time": "2021-12-29T22:09:13.729Z"
   },
   {
    "duration": 18,
    "start_time": "2021-12-29T22:09:15.012Z"
   },
   {
    "duration": 9,
    "start_time": "2021-12-29T22:09:15.322Z"
   },
   {
    "duration": 9,
    "start_time": "2021-12-29T22:09:15.665Z"
   },
   {
    "duration": 13,
    "start_time": "2021-12-29T22:09:15.982Z"
   },
   {
    "duration": 13,
    "start_time": "2021-12-29T22:09:16.478Z"
   },
   {
    "duration": 11,
    "start_time": "2021-12-29T22:09:17.198Z"
   },
   {
    "duration": 19,
    "start_time": "2021-12-29T22:09:18.697Z"
   },
   {
    "duration": 32,
    "start_time": "2021-12-29T22:10:26.886Z"
   },
   {
    "duration": 6,
    "start_time": "2021-12-29T22:10:29.261Z"
   },
   {
    "duration": 16,
    "start_time": "2021-12-29T22:10:30.293Z"
   },
   {
    "duration": 10,
    "start_time": "2021-12-29T22:10:30.608Z"
   },
   {
    "duration": 10,
    "start_time": "2021-12-29T22:10:31.011Z"
   },
   {
    "duration": 10,
    "start_time": "2021-12-29T22:10:31.385Z"
   },
   {
    "duration": 12,
    "start_time": "2021-12-29T22:10:31.824Z"
   },
   {
    "duration": 17,
    "start_time": "2021-12-29T22:10:35.825Z"
   },
   {
    "duration": 9,
    "start_time": "2021-12-29T22:11:43.746Z"
   },
   {
    "duration": 29,
    "start_time": "2021-12-29T22:11:43.757Z"
   },
   {
    "duration": 14,
    "start_time": "2021-12-29T22:12:10.301Z"
   },
   {
    "duration": 16,
    "start_time": "2021-12-29T22:12:13.331Z"
   },
   {
    "duration": 9,
    "start_time": "2021-12-29T22:12:47.326Z"
   },
   {
    "duration": 35,
    "start_time": "2021-12-29T22:14:15.441Z"
   },
   {
    "duration": 5,
    "start_time": "2021-12-29T22:14:18.498Z"
   },
   {
    "duration": 15,
    "start_time": "2021-12-29T22:14:18.558Z"
   },
   {
    "duration": 10,
    "start_time": "2021-12-29T22:14:18.877Z"
   },
   {
    "duration": 9,
    "start_time": "2021-12-29T22:14:19.139Z"
   },
   {
    "duration": 10,
    "start_time": "2021-12-29T22:14:20.449Z"
   },
   {
    "duration": 29,
    "start_time": "2021-12-29T22:14:20.461Z"
   },
   {
    "duration": 13,
    "start_time": "2021-12-29T22:14:21.020Z"
   },
   {
    "duration": 12,
    "start_time": "2021-12-29T22:14:21.036Z"
   },
   {
    "duration": 13,
    "start_time": "2021-12-29T22:14:21.050Z"
   },
   {
    "duration": 10,
    "start_time": "2021-12-29T22:14:22.377Z"
   },
   {
    "duration": 17,
    "start_time": "2021-12-29T22:14:24.333Z"
   },
   {
    "duration": 30,
    "start_time": "2021-12-29T22:14:39.861Z"
   },
   {
    "duration": 31,
    "start_time": "2021-12-29T22:16:04.986Z"
   },
   {
    "duration": 10,
    "start_time": "2021-12-29T22:16:06.891Z"
   },
   {
    "duration": 14,
    "start_time": "2021-12-29T22:16:07.709Z"
   },
   {
    "duration": 9,
    "start_time": "2021-12-29T22:16:07.931Z"
   },
   {
    "duration": 10,
    "start_time": "2021-12-29T22:16:08.145Z"
   },
   {
    "duration": 13,
    "start_time": "2021-12-29T22:16:08.299Z"
   },
   {
    "duration": 11,
    "start_time": "2021-12-29T22:16:08.521Z"
   },
   {
    "duration": 9,
    "start_time": "2021-12-29T22:16:08.706Z"
   },
   {
    "duration": 13,
    "start_time": "2021-12-29T22:16:08.893Z"
   },
   {
    "duration": 13,
    "start_time": "2021-12-29T22:16:09.093Z"
   },
   {
    "duration": 10,
    "start_time": "2021-12-29T22:16:09.277Z"
   },
   {
    "duration": 9,
    "start_time": "2021-12-29T22:16:09.547Z"
   },
   {
    "duration": 10,
    "start_time": "2021-12-29T22:16:09.975Z"
   },
   {
    "duration": 16,
    "start_time": "2021-12-29T22:16:12.330Z"
   },
   {
    "duration": 38,
    "start_time": "2021-12-29T22:17:42.050Z"
   },
   {
    "duration": 7254,
    "start_time": "2021-12-29T22:17:46.795Z"
   },
   {
    "duration": 4,
    "start_time": "2021-12-29T22:17:56.235Z"
   },
   {
    "duration": 12,
    "start_time": "2021-12-29T22:17:57.675Z"
   },
   {
    "duration": 18,
    "start_time": "2021-12-29T22:17:59.522Z"
   },
   {
    "duration": 16,
    "start_time": "2021-12-29T22:18:24.417Z"
   },
   {
    "duration": 16,
    "start_time": "2021-12-29T22:18:26.397Z"
   },
   {
    "duration": 10,
    "start_time": "2021-12-29T22:19:11.335Z"
   },
   {
    "duration": 17,
    "start_time": "2021-12-29T22:19:14.181Z"
   },
   {
    "duration": 32,
    "start_time": "2021-12-29T22:20:18.333Z"
   },
   {
    "duration": 4,
    "start_time": "2021-12-29T22:20:20.551Z"
   },
   {
    "duration": 15,
    "start_time": "2021-12-29T22:20:21.238Z"
   },
   {
    "duration": 9,
    "start_time": "2021-12-29T22:20:21.492Z"
   },
   {
    "duration": 14,
    "start_time": "2021-12-29T22:20:21.801Z"
   },
   {
    "duration": 9,
    "start_time": "2021-12-29T22:20:22.145Z"
   },
   {
    "duration": 10,
    "start_time": "2021-12-29T22:20:22.520Z"
   },
   {
    "duration": 21,
    "start_time": "2021-12-29T22:20:24.489Z"
   },
   {
    "duration": 18,
    "start_time": "2021-12-29T22:20:43.239Z"
   },
   {
    "duration": 29,
    "start_time": "2021-12-29T22:23:15.429Z"
   },
   {
    "duration": 6761,
    "start_time": "2021-12-29T22:23:17.717Z"
   },
   {
    "duration": -256,
    "start_time": "2021-12-29T22:23:24.736Z"
   },
   {
    "duration": -259,
    "start_time": "2021-12-29T22:23:24.740Z"
   },
   {
    "duration": -262,
    "start_time": "2021-12-29T22:23:24.744Z"
   },
   {
    "duration": -264,
    "start_time": "2021-12-29T22:23:24.747Z"
   },
   {
    "duration": 6620,
    "start_time": "2021-12-29T22:23:26.460Z"
   },
   {
    "duration": -241,
    "start_time": "2021-12-29T22:23:33.324Z"
   },
   {
    "duration": -243,
    "start_time": "2021-12-29T22:23:33.328Z"
   },
   {
    "duration": -245,
    "start_time": "2021-12-29T22:23:33.331Z"
   },
   {
    "duration": -246,
    "start_time": "2021-12-29T22:23:33.334Z"
   },
   {
    "duration": -248,
    "start_time": "2021-12-29T22:23:33.337Z"
   },
   {
    "duration": -250,
    "start_time": "2021-12-29T22:23:33.340Z"
   },
   {
    "duration": -251,
    "start_time": "2021-12-29T22:23:33.343Z"
   },
   {
    "duration": -253,
    "start_time": "2021-12-29T22:23:33.346Z"
   },
   {
    "duration": -254,
    "start_time": "2021-12-29T22:23:33.348Z"
   },
   {
    "duration": 4,
    "start_time": "2021-12-29T22:23:44.085Z"
   },
   {
    "duration": 14,
    "start_time": "2021-12-29T22:23:45.437Z"
   },
   {
    "duration": 9,
    "start_time": "2021-12-29T22:23:46.097Z"
   },
   {
    "duration": 10,
    "start_time": "2021-12-29T22:23:46.429Z"
   },
   {
    "duration": 13,
    "start_time": "2021-12-29T22:23:46.715Z"
   },
   {
    "duration": 15,
    "start_time": "2021-12-29T22:23:46.959Z"
   },
   {
    "duration": 13,
    "start_time": "2021-12-29T22:23:47.277Z"
   },
   {
    "duration": 10,
    "start_time": "2021-12-29T22:23:47.552Z"
   },
   {
    "duration": 9,
    "start_time": "2021-12-29T22:23:47.930Z"
   },
   {
    "duration": 10,
    "start_time": "2021-12-29T22:23:48.339Z"
   },
   {
    "duration": 21,
    "start_time": "2021-12-29T22:23:50.524Z"
   },
   {
    "duration": 15,
    "start_time": "2021-12-29T22:27:13.073Z"
   },
   {
    "duration": 17,
    "start_time": "2021-12-29T22:27:15.570Z"
   },
   {
    "duration": 15,
    "start_time": "2021-12-29T22:53:13.480Z"
   },
   {
    "duration": 323,
    "start_time": "2021-12-29T22:57:27.858Z"
   },
   {
    "duration": 14,
    "start_time": "2021-12-29T22:58:35.203Z"
   },
   {
    "duration": 12,
    "start_time": "2021-12-29T22:58:52.673Z"
   },
   {
    "duration": 15,
    "start_time": "2021-12-29T22:59:09.985Z"
   },
   {
    "duration": 13,
    "start_time": "2021-12-29T23:06:03.553Z"
   },
   {
    "duration": 345,
    "start_time": "2021-12-29T23:06:58.740Z"
   },
   {
    "duration": 287,
    "start_time": "2021-12-29T23:07:31.461Z"
   },
   {
    "duration": 282,
    "start_time": "2021-12-29T23:08:12.678Z"
   },
   {
    "duration": 323,
    "start_time": "2021-12-29T23:08:23.475Z"
   },
   {
    "duration": 335,
    "start_time": "2021-12-29T23:09:39.028Z"
   },
   {
    "duration": 1619,
    "start_time": "2021-12-29T23:09:53.617Z"
   },
   {
    "duration": 316,
    "start_time": "2021-12-29T23:10:26.242Z"
   },
   {
    "duration": 419,
    "start_time": "2021-12-29T23:10:41.841Z"
   },
   {
    "duration": 357,
    "start_time": "2021-12-29T23:11:20.124Z"
   },
   {
    "duration": 381,
    "start_time": "2021-12-29T23:12:16.472Z"
   },
   {
    "duration": 12,
    "start_time": "2021-12-29T23:13:36.524Z"
   },
   {
    "duration": 10,
    "start_time": "2021-12-29T23:20:06.536Z"
   },
   {
    "duration": 11,
    "start_time": "2021-12-29T23:21:05.219Z"
   },
   {
    "duration": 354,
    "start_time": "2021-12-30T20:09:24.436Z"
   },
   {
    "duration": 1393,
    "start_time": "2021-12-30T20:09:32.672Z"
   },
   {
    "duration": 32,
    "start_time": "2021-12-30T20:09:34.068Z"
   },
   {
    "duration": 38,
    "start_time": "2021-12-30T20:09:34.103Z"
   },
   {
    "duration": 17,
    "start_time": "2021-12-30T20:09:34.143Z"
   },
   {
    "duration": 16,
    "start_time": "2021-12-30T20:09:34.162Z"
   },
   {
    "duration": 42,
    "start_time": "2021-12-30T20:09:34.181Z"
   },
   {
    "duration": 14,
    "start_time": "2021-12-30T20:09:34.225Z"
   },
   {
    "duration": 9,
    "start_time": "2021-12-30T20:09:34.241Z"
   },
   {
    "duration": 13,
    "start_time": "2021-12-30T20:09:34.255Z"
   },
   {
    "duration": 5,
    "start_time": "2021-12-30T20:09:34.271Z"
   },
   {
    "duration": 47,
    "start_time": "2021-12-30T20:09:34.278Z"
   },
   {
    "duration": 19,
    "start_time": "2021-12-30T20:09:34.327Z"
   },
   {
    "duration": 8,
    "start_time": "2021-12-30T20:09:34.348Z"
   },
   {
    "duration": 4,
    "start_time": "2021-12-30T20:09:34.358Z"
   },
   {
    "duration": 449,
    "start_time": "2021-12-30T20:09:34.365Z"
   },
   {
    "duration": 12,
    "start_time": "2021-12-30T20:09:34.824Z"
   },
   {
    "duration": 4,
    "start_time": "2021-12-30T20:09:34.838Z"
   },
   {
    "duration": 11,
    "start_time": "2021-12-30T20:09:34.844Z"
   },
   {
    "duration": 11,
    "start_time": "2021-12-30T20:09:34.857Z"
   },
   {
    "duration": 389,
    "start_time": "2021-12-30T20:09:34.871Z"
   },
   {
    "duration": 7,
    "start_time": "2021-12-30T20:09:35.263Z"
   },
   {
    "duration": 15,
    "start_time": "2021-12-30T20:09:35.272Z"
   },
   {
    "duration": 7,
    "start_time": "2021-12-30T20:09:35.289Z"
   },
   {
    "duration": 4,
    "start_time": "2021-12-30T20:09:35.324Z"
   },
   {
    "duration": 423,
    "start_time": "2021-12-30T20:09:35.330Z"
   },
   {
    "duration": 22,
    "start_time": "2021-12-30T20:09:35.756Z"
   },
   {
    "duration": 588,
    "start_time": "2021-12-30T20:09:35.782Z"
   },
   {
    "duration": 17,
    "start_time": "2021-12-30T20:09:36.373Z"
   },
   {
    "duration": 440,
    "start_time": "2021-12-30T20:09:36.392Z"
   },
   {
    "duration": 5,
    "start_time": "2021-12-30T20:09:36.836Z"
   },
   {
    "duration": 21,
    "start_time": "2021-12-30T20:09:36.844Z"
   },
   {
    "duration": 23,
    "start_time": "2021-12-30T20:09:36.867Z"
   },
   {
    "duration": 52,
    "start_time": "2021-12-30T20:09:36.892Z"
   },
   {
    "duration": 28,
    "start_time": "2021-12-30T20:09:36.947Z"
   },
   {
    "duration": 50,
    "start_time": "2021-12-30T20:09:36.978Z"
   },
   {
    "duration": 21,
    "start_time": "2021-12-30T20:09:37.031Z"
   },
   {
    "duration": 23,
    "start_time": "2021-12-30T20:09:37.055Z"
   },
   {
    "duration": 512,
    "start_time": "2021-12-30T20:09:37.080Z"
   },
   {
    "duration": 29,
    "start_time": "2021-12-30T20:09:37.594Z"
   },
   {
    "duration": 14,
    "start_time": "2021-12-30T20:09:37.625Z"
   },
   {
    "duration": 39,
    "start_time": "2021-12-30T20:09:37.641Z"
   },
   {
    "duration": 96,
    "start_time": "2021-12-30T20:14:39.158Z"
   },
   {
    "duration": 441,
    "start_time": "2021-12-30T20:14:47.565Z"
   },
   {
    "duration": 302,
    "start_time": "2021-12-30T20:15:08.586Z"
   },
   {
    "duration": 288,
    "start_time": "2021-12-30T20:16:43.620Z"
   },
   {
    "duration": 316,
    "start_time": "2021-12-30T20:17:12.060Z"
   },
   {
    "duration": 314,
    "start_time": "2021-12-30T20:17:18.776Z"
   },
   {
    "duration": 513,
    "start_time": "2021-12-30T20:17:25.967Z"
   },
   {
    "duration": 696,
    "start_time": "2021-12-30T20:18:50.655Z"
   },
   {
    "duration": 651,
    "start_time": "2021-12-30T20:19:22.558Z"
   },
   {
    "duration": 548,
    "start_time": "2021-12-30T20:19:39.217Z"
   },
   {
    "duration": 77,
    "start_time": "2021-12-31T17:12:13.363Z"
   },
   {
    "duration": 265,
    "start_time": "2021-12-31T17:12:27.256Z"
   },
   {
    "duration": 1152,
    "start_time": "2021-12-31T17:12:34.055Z"
   },
   {
    "duration": 31,
    "start_time": "2021-12-31T17:12:35.209Z"
   },
   {
    "duration": 19,
    "start_time": "2021-12-31T17:12:35.242Z"
   },
   {
    "duration": 12,
    "start_time": "2021-12-31T17:12:35.263Z"
   },
   {
    "duration": 13,
    "start_time": "2021-12-31T17:12:35.277Z"
   },
   {
    "duration": 12,
    "start_time": "2021-12-31T17:12:35.292Z"
   },
   {
    "duration": 11,
    "start_time": "2021-12-31T17:12:35.306Z"
   },
   {
    "duration": 8,
    "start_time": "2021-12-31T17:12:35.342Z"
   },
   {
    "duration": 9,
    "start_time": "2021-12-31T17:12:35.352Z"
   },
   {
    "duration": 4,
    "start_time": "2021-12-31T17:12:35.363Z"
   },
   {
    "duration": 9,
    "start_time": "2021-12-31T17:12:35.368Z"
   },
   {
    "duration": 14,
    "start_time": "2021-12-31T17:12:35.379Z"
   },
   {
    "duration": 5,
    "start_time": "2021-12-31T17:12:35.395Z"
   },
   {
    "duration": 7,
    "start_time": "2021-12-31T17:12:35.401Z"
   },
   {
    "duration": 292,
    "start_time": "2021-12-31T17:12:35.410Z"
   },
   {
    "duration": 9,
    "start_time": "2021-12-31T17:12:35.704Z"
   },
   {
    "duration": 2,
    "start_time": "2021-12-31T17:12:35.715Z"
   },
   {
    "duration": 8,
    "start_time": "2021-12-31T17:12:35.719Z"
   },
   {
    "duration": 3,
    "start_time": "2021-12-31T17:12:35.742Z"
   },
   {
    "duration": 234,
    "start_time": "2021-12-31T17:12:35.747Z"
   },
   {
    "duration": 5,
    "start_time": "2021-12-31T17:12:35.983Z"
   },
   {
    "duration": 11,
    "start_time": "2021-12-31T17:12:35.989Z"
   },
   {
    "duration": 11,
    "start_time": "2021-12-31T17:12:36.003Z"
   },
   {
    "duration": 6,
    "start_time": "2021-12-31T17:12:36.015Z"
   },
   {
    "duration": 254,
    "start_time": "2021-12-31T17:12:36.022Z"
   },
   {
    "duration": 13,
    "start_time": "2021-12-31T17:12:36.277Z"
   },
   {
    "duration": 364,
    "start_time": "2021-12-31T17:12:36.292Z"
   },
   {
    "duration": 5980,
    "start_time": "2021-12-31T17:12:36.658Z"
   },
   {
    "duration": 15,
    "start_time": "2021-12-31T17:13:45.386Z"
   },
   {
    "duration": 419,
    "start_time": "2021-12-31T17:13:48.219Z"
   },
   {
    "duration": 523,
    "start_time": "2021-12-31T17:13:51.097Z"
   },
   {
    "duration": 589,
    "start_time": "2021-12-31T17:15:14.483Z"
   },
   {
    "duration": 294,
    "start_time": "2021-12-31T17:21:03.665Z"
   },
   {
    "duration": 360,
    "start_time": "2021-12-31T17:21:18.851Z"
   },
   {
    "duration": 1679,
    "start_time": "2021-12-31T23:16:59.215Z"
   },
   {
    "duration": 42,
    "start_time": "2021-12-31T23:17:00.897Z"
   },
   {
    "duration": 36,
    "start_time": "2021-12-31T23:17:00.942Z"
   },
   {
    "duration": 41,
    "start_time": "2021-12-31T23:17:00.982Z"
   },
   {
    "duration": 18,
    "start_time": "2021-12-31T23:17:01.025Z"
   },
   {
    "duration": 33,
    "start_time": "2021-12-31T23:17:01.045Z"
   },
   {
    "duration": 35,
    "start_time": "2021-12-31T23:17:01.081Z"
   },
   {
    "duration": 10,
    "start_time": "2021-12-31T23:17:01.121Z"
   },
   {
    "duration": 18,
    "start_time": "2021-12-31T23:17:01.134Z"
   },
   {
    "duration": 6,
    "start_time": "2021-12-31T23:17:01.155Z"
   },
   {
    "duration": 12,
    "start_time": "2021-12-31T23:17:01.164Z"
   },
   {
    "duration": 56,
    "start_time": "2021-12-31T23:17:01.179Z"
   },
   {
    "duration": 7,
    "start_time": "2021-12-31T23:17:01.241Z"
   },
   {
    "duration": 20,
    "start_time": "2021-12-31T23:17:01.251Z"
   },
   {
    "duration": 496,
    "start_time": "2021-12-31T23:17:01.274Z"
   },
   {
    "duration": 13,
    "start_time": "2021-12-31T23:17:01.773Z"
   },
   {
    "duration": 30,
    "start_time": "2021-12-31T23:17:01.789Z"
   },
   {
    "duration": 10,
    "start_time": "2021-12-31T23:17:01.822Z"
   },
   {
    "duration": 10,
    "start_time": "2021-12-31T23:17:01.834Z"
   },
   {
    "duration": 436,
    "start_time": "2021-12-31T23:17:01.848Z"
   },
   {
    "duration": 8,
    "start_time": "2021-12-31T23:17:02.286Z"
   },
   {
    "duration": 35,
    "start_time": "2021-12-31T23:17:02.297Z"
   },
   {
    "duration": 8,
    "start_time": "2021-12-31T23:17:02.337Z"
   },
   {
    "duration": 5,
    "start_time": "2021-12-31T23:17:02.348Z"
   },
   {
    "duration": 477,
    "start_time": "2021-12-31T23:17:02.356Z"
   },
   {
    "duration": 31,
    "start_time": "2021-12-31T23:17:02.836Z"
   },
   {
    "duration": 902,
    "start_time": "2021-12-31T23:17:02.869Z"
   },
   {
    "duration": 446,
    "start_time": "2021-12-31T23:17:14.158Z"
   },
   {
    "duration": 316,
    "start_time": "2021-12-31T23:18:05.783Z"
   },
   {
    "duration": 287,
    "start_time": "2021-12-31T23:18:12.729Z"
   },
   {
    "duration": 290,
    "start_time": "2021-12-31T23:18:19.816Z"
   },
   {
    "duration": 8,
    "start_time": "2021-12-31T23:19:18.441Z"
   },
   {
    "duration": 11,
    "start_time": "2021-12-31T23:19:47.479Z"
   },
   {
    "duration": 290,
    "start_time": "2021-12-31T23:19:56.328Z"
   },
   {
    "duration": 27,
    "start_time": "2021-12-31T23:20:10.817Z"
   },
   {
    "duration": 663,
    "start_time": "2021-12-31T23:20:17.254Z"
   },
   {
    "duration": 588,
    "start_time": "2021-12-31T23:22:09.632Z"
   },
   {
    "duration": 20,
    "start_time": "2021-12-31T23:25:58.635Z"
   },
   {
    "duration": 452,
    "start_time": "2021-12-31T23:26:07.478Z"
   },
   {
    "duration": 309,
    "start_time": "2021-12-31T23:26:57.356Z"
   },
   {
    "duration": 14,
    "start_time": "2021-12-31T23:27:07.798Z"
   },
   {
    "duration": 571,
    "start_time": "2021-12-31T23:27:09.446Z"
   },
   {
    "duration": 5,
    "start_time": "2021-12-31T23:27:41.038Z"
   },
   {
    "duration": 36,
    "start_time": "2021-12-31T23:27:41.046Z"
   },
   {
    "duration": 31,
    "start_time": "2021-12-31T23:27:41.085Z"
   },
   {
    "duration": 20,
    "start_time": "2021-12-31T23:27:41.119Z"
   },
   {
    "duration": 17,
    "start_time": "2021-12-31T23:27:41.142Z"
   },
   {
    "duration": 61,
    "start_time": "2021-12-31T23:27:41.161Z"
   },
   {
    "duration": 14,
    "start_time": "2021-12-31T23:27:41.226Z"
   },
   {
    "duration": 14,
    "start_time": "2021-12-31T23:27:41.245Z"
   },
   {
    "duration": 56,
    "start_time": "2021-12-31T23:27:41.261Z"
   },
   {
    "duration": 6,
    "start_time": "2021-12-31T23:27:41.319Z"
   },
   {
    "duration": 7,
    "start_time": "2021-12-31T23:27:41.328Z"
   },
   {
    "duration": 19,
    "start_time": "2021-12-31T23:27:41.337Z"
   },
   {
    "duration": 7,
    "start_time": "2021-12-31T23:27:41.358Z"
   },
   {
    "duration": 52,
    "start_time": "2021-12-31T23:27:41.367Z"
   },
   {
    "duration": 505,
    "start_time": "2021-12-31T23:27:41.423Z"
   },
   {
    "duration": 15,
    "start_time": "2021-12-31T23:27:41.931Z"
   },
   {
    "duration": 4,
    "start_time": "2021-12-31T23:27:41.949Z"
   },
   {
    "duration": 8,
    "start_time": "2021-12-31T23:27:41.956Z"
   },
   {
    "duration": 5,
    "start_time": "2021-12-31T23:27:41.968Z"
   },
   {
    "duration": 460,
    "start_time": "2021-12-31T23:27:42.018Z"
   },
   {
    "duration": 8,
    "start_time": "2021-12-31T23:27:42.480Z"
   },
   {
    "duration": 38,
    "start_time": "2021-12-31T23:27:42.491Z"
   },
   {
    "duration": 8,
    "start_time": "2021-12-31T23:27:42.532Z"
   },
   {
    "duration": 4,
    "start_time": "2021-12-31T23:27:42.543Z"
   },
   {
    "duration": 475,
    "start_time": "2021-12-31T23:27:42.549Z"
   },
   {
    "duration": 31,
    "start_time": "2021-12-31T23:27:43.027Z"
   },
   {
    "duration": 669,
    "start_time": "2021-12-31T23:27:43.061Z"
   },
   {
    "duration": 22,
    "start_time": "2021-12-31T23:27:43.733Z"
   },
   {
    "duration": 783,
    "start_time": "2021-12-31T23:27:43.758Z"
   },
   {
    "duration": 16,
    "start_time": "2021-12-31T23:27:44.543Z"
   },
   {
    "duration": 578,
    "start_time": "2021-12-31T23:27:44.562Z"
   },
   {
    "duration": 16,
    "start_time": "2021-12-31T23:27:45.143Z"
   },
   {
    "duration": 483,
    "start_time": "2021-12-31T23:27:45.162Z"
   },
   {
    "duration": 469,
    "start_time": "2021-12-31T23:34:00.589Z"
   },
   {
    "duration": 671,
    "start_time": "2021-12-31T23:36:01.641Z"
   },
   {
    "duration": 481,
    "start_time": "2021-12-31T23:49:19.723Z"
   },
   {
    "duration": 316,
    "start_time": "2022-01-01T00:28:31.793Z"
   },
   {
    "duration": 4,
    "start_time": "2022-01-01T00:28:43.602Z"
   },
   {
    "duration": 38,
    "start_time": "2022-01-01T00:28:43.609Z"
   },
   {
    "duration": 25,
    "start_time": "2022-01-01T00:28:43.650Z"
   },
   {
    "duration": 40,
    "start_time": "2022-01-01T00:28:43.679Z"
   },
   {
    "duration": 17,
    "start_time": "2022-01-01T00:28:43.723Z"
   },
   {
    "duration": 15,
    "start_time": "2022-01-01T00:28:43.743Z"
   },
   {
    "duration": 136,
    "start_time": "2022-01-01T00:28:43.761Z"
   },
   {
    "duration": 28,
    "start_time": "2022-01-01T00:28:43.900Z"
   },
   {
    "duration": 13,
    "start_time": "2022-01-01T00:28:43.934Z"
   },
   {
    "duration": 6,
    "start_time": "2022-01-01T00:28:43.950Z"
   },
   {
    "duration": 7,
    "start_time": "2022-01-01T00:28:43.959Z"
   },
   {
    "duration": 65,
    "start_time": "2022-01-01T00:28:43.969Z"
   },
   {
    "duration": 8,
    "start_time": "2022-01-01T00:28:44.036Z"
   },
   {
    "duration": 6,
    "start_time": "2022-01-01T00:28:44.047Z"
   },
   {
    "duration": 510,
    "start_time": "2022-01-01T00:28:44.056Z"
   },
   {
    "duration": 14,
    "start_time": "2022-01-01T00:28:44.569Z"
   },
   {
    "duration": 4,
    "start_time": "2022-01-01T00:28:44.586Z"
   },
   {
    "duration": 29,
    "start_time": "2022-01-01T00:28:44.592Z"
   },
   {
    "duration": 8,
    "start_time": "2022-01-01T00:28:44.624Z"
   },
   {
    "duration": 466,
    "start_time": "2022-01-01T00:28:44.635Z"
   },
   {
    "duration": 6,
    "start_time": "2022-01-01T00:28:45.104Z"
   },
   {
    "duration": 17,
    "start_time": "2022-01-01T00:28:45.114Z"
   },
   {
    "duration": 7,
    "start_time": "2022-01-01T00:28:45.134Z"
   },
   {
    "duration": 4,
    "start_time": "2022-01-01T00:28:45.143Z"
   },
   {
    "duration": 449,
    "start_time": "2022-01-01T00:28:45.150Z"
   },
   {
    "duration": 32,
    "start_time": "2022-01-01T00:28:45.601Z"
   },
   {
    "duration": 821,
    "start_time": "2022-01-01T00:28:45.635Z"
   },
   {
    "duration": 71,
    "start_time": "2022-01-01T00:28:46.458Z"
   },
   {
    "duration": 760,
    "start_time": "2022-01-01T00:28:46.532Z"
   },
   {
    "duration": 25,
    "start_time": "2022-01-01T00:28:47.294Z"
   },
   {
    "duration": 462,
    "start_time": "2022-01-01T00:28:47.321Z"
   },
   {
    "duration": 16,
    "start_time": "2022-01-01T00:28:47.786Z"
   },
   {
    "duration": 536,
    "start_time": "2022-01-01T00:28:47.817Z"
   },
   {
    "duration": 5,
    "start_time": "2022-01-01T00:28:48.355Z"
   },
   {
    "duration": 20,
    "start_time": "2022-01-01T00:28:48.363Z"
   },
   {
    "duration": 50,
    "start_time": "2022-01-01T00:28:48.385Z"
   },
   {
    "duration": 33,
    "start_time": "2022-01-01T00:28:48.437Z"
   },
   {
    "duration": 66,
    "start_time": "2022-01-01T00:28:48.473Z"
   },
   {
    "duration": 28,
    "start_time": "2022-01-01T00:28:48.542Z"
   },
   {
    "duration": 46,
    "start_time": "2022-01-01T00:28:48.573Z"
   },
   {
    "duration": 27,
    "start_time": "2022-01-01T00:28:48.622Z"
   },
   {
    "duration": 599,
    "start_time": "2022-01-01T00:28:48.651Z"
   },
   {
    "duration": 17,
    "start_time": "2022-01-01T00:28:49.252Z"
   },
   {
    "duration": 46,
    "start_time": "2022-01-01T00:28:49.271Z"
   },
   {
    "duration": 22,
    "start_time": "2022-01-01T00:30:03.315Z"
   },
   {
    "duration": 25,
    "start_time": "2022-01-01T00:30:15.637Z"
   },
   {
    "duration": 24,
    "start_time": "2022-01-01T00:30:28.442Z"
   },
   {
    "duration": 103,
    "start_time": "2022-01-01T00:30:49.375Z"
   },
   {
    "duration": 94,
    "start_time": "2022-01-01T00:31:05.472Z"
   },
   {
    "duration": 662,
    "start_time": "2022-01-01T00:31:34.786Z"
   },
   {
    "duration": 791,
    "start_time": "2022-01-01T00:32:53.539Z"
   },
   {
    "duration": 5,
    "start_time": "2022-01-01T00:39:04.159Z"
   },
   {
    "duration": 39,
    "start_time": "2022-01-01T00:39:04.166Z"
   },
   {
    "duration": 30,
    "start_time": "2022-01-01T00:39:04.210Z"
   },
   {
    "duration": 16,
    "start_time": "2022-01-01T00:39:04.243Z"
   },
   {
    "duration": 20,
    "start_time": "2022-01-01T00:39:04.262Z"
   },
   {
    "duration": 49,
    "start_time": "2022-01-01T00:39:04.284Z"
   },
   {
    "duration": 17,
    "start_time": "2022-01-01T00:39:04.337Z"
   },
   {
    "duration": 13,
    "start_time": "2022-01-01T00:39:04.357Z"
   },
   {
    "duration": 165,
    "start_time": "2022-01-01T00:39:04.373Z"
   },
   {
    "duration": 6,
    "start_time": "2022-01-01T00:39:04.541Z"
   },
   {
    "duration": 7,
    "start_time": "2022-01-01T00:39:04.550Z"
   },
   {
    "duration": 61,
    "start_time": "2022-01-01T00:39:04.560Z"
   },
   {
    "duration": 8,
    "start_time": "2022-01-01T00:39:04.623Z"
   },
   {
    "duration": 4,
    "start_time": "2022-01-01T00:39:04.634Z"
   },
   {
    "duration": 466,
    "start_time": "2022-01-01T00:39:04.641Z"
   },
   {
    "duration": 12,
    "start_time": "2022-01-01T00:39:05.116Z"
   },
   {
    "duration": 4,
    "start_time": "2022-01-01T00:39:05.131Z"
   },
   {
    "duration": 6,
    "start_time": "2022-01-01T00:39:05.138Z"
   },
   {
    "duration": 5,
    "start_time": "2022-01-01T00:39:05.152Z"
   },
   {
    "duration": 487,
    "start_time": "2022-01-01T00:39:05.161Z"
   },
   {
    "duration": 8,
    "start_time": "2022-01-01T00:39:05.651Z"
   },
   {
    "duration": 20,
    "start_time": "2022-01-01T00:39:05.662Z"
   },
   {
    "duration": 35,
    "start_time": "2022-01-01T00:39:05.685Z"
   },
   {
    "duration": 6,
    "start_time": "2022-01-01T00:39:05.722Z"
   },
   {
    "duration": 483,
    "start_time": "2022-01-01T00:39:05.730Z"
   },
   {
    "duration": 24,
    "start_time": "2022-01-01T00:39:06.216Z"
   },
   {
    "duration": 737,
    "start_time": "2022-01-01T00:39:06.243Z"
   },
   {
    "duration": 20,
    "start_time": "2022-01-01T00:39:06.983Z"
   },
   {
    "duration": 686,
    "start_time": "2022-01-01T00:39:07.018Z"
   },
   {
    "duration": 21,
    "start_time": "2022-01-01T00:39:07.706Z"
   },
   {
    "duration": 457,
    "start_time": "2022-01-01T00:39:07.730Z"
   },
   {
    "duration": 15,
    "start_time": "2022-01-01T00:39:08.189Z"
   },
   {
    "duration": 513,
    "start_time": "2022-01-01T00:39:08.217Z"
   },
   {
    "duration": 4,
    "start_time": "2022-01-01T00:39:08.733Z"
   },
   {
    "duration": 31,
    "start_time": "2022-01-01T00:39:08.739Z"
   },
   {
    "duration": 44,
    "start_time": "2022-01-01T00:39:08.773Z"
   },
   {
    "duration": 40,
    "start_time": "2022-01-01T00:39:08.820Z"
   },
   {
    "duration": 63,
    "start_time": "2022-01-01T00:39:08.862Z"
   },
   {
    "duration": 37,
    "start_time": "2022-01-01T00:39:08.928Z"
   },
   {
    "duration": 31,
    "start_time": "2022-01-01T00:39:08.967Z"
   },
   {
    "duration": 33,
    "start_time": "2022-01-01T00:39:09.001Z"
   },
   {
    "duration": 554,
    "start_time": "2022-01-01T00:39:09.037Z"
   },
   {
    "duration": 35,
    "start_time": "2022-01-01T00:39:09.595Z"
   },
   {
    "duration": 14,
    "start_time": "2022-01-01T00:39:09.632Z"
   },
   {
    "duration": 28,
    "start_time": "2022-01-01T00:39:09.649Z"
   },
   {
    "duration": 853,
    "start_time": "2022-01-01T00:39:09.679Z"
   },
   {
    "duration": 51,
    "start_time": "2022-01-01T00:39:10.536Z"
   },
   {
    "duration": 650,
    "start_time": "2022-01-01T00:39:10.590Z"
   },
   {
    "duration": 350,
    "start_time": "2022-01-01T00:47:51.343Z"
   },
   {
    "duration": 33,
    "start_time": "2022-01-01T00:48:37.152Z"
   },
   {
    "duration": 710,
    "start_time": "2022-01-01T00:49:16.242Z"
   },
   {
    "duration": 28,
    "start_time": "2022-01-01T00:51:09.995Z"
   },
   {
    "duration": 633,
    "start_time": "2022-01-01T00:51:11.744Z"
   },
   {
    "duration": 1614,
    "start_time": "2022-01-01T19:34:43.354Z"
   },
   {
    "duration": 190,
    "start_time": "2022-01-01T19:34:44.972Z"
   },
   {
    "duration": 34,
    "start_time": "2022-01-01T19:34:45.165Z"
   },
   {
    "duration": 18,
    "start_time": "2022-01-01T19:34:45.202Z"
   },
   {
    "duration": 44,
    "start_time": "2022-01-01T19:34:45.222Z"
   },
   {
    "duration": 14,
    "start_time": "2022-01-01T19:34:45.269Z"
   },
   {
    "duration": 17,
    "start_time": "2022-01-01T19:34:45.285Z"
   },
   {
    "duration": 9,
    "start_time": "2022-01-01T19:34:45.306Z"
   },
   {
    "duration": 48,
    "start_time": "2022-01-01T19:34:45.319Z"
   },
   {
    "duration": 5,
    "start_time": "2022-01-01T19:34:45.369Z"
   },
   {
    "duration": 7,
    "start_time": "2022-01-01T19:34:45.377Z"
   },
   {
    "duration": 19,
    "start_time": "2022-01-01T19:34:45.387Z"
   },
   {
    "duration": 7,
    "start_time": "2022-01-01T19:34:45.408Z"
   },
   {
    "duration": 4,
    "start_time": "2022-01-01T19:34:45.417Z"
   },
   {
    "duration": 502,
    "start_time": "2022-01-01T19:34:45.423Z"
   },
   {
    "duration": 12,
    "start_time": "2022-01-01T19:34:45.928Z"
   },
   {
    "duration": 24,
    "start_time": "2022-01-01T19:34:45.943Z"
   },
   {
    "duration": 6,
    "start_time": "2022-01-01T19:34:45.970Z"
   },
   {
    "duration": 7,
    "start_time": "2022-01-01T19:34:45.978Z"
   },
   {
    "duration": 424,
    "start_time": "2022-01-01T19:34:45.988Z"
   },
   {
    "duration": 7,
    "start_time": "2022-01-01T19:34:46.415Z"
   },
   {
    "duration": 16,
    "start_time": "2022-01-01T19:34:46.424Z"
   },
   {
    "duration": 10,
    "start_time": "2022-01-01T19:34:46.469Z"
   },
   {
    "duration": 6,
    "start_time": "2022-01-01T19:34:46.483Z"
   },
   {
    "duration": 448,
    "start_time": "2022-01-01T19:34:46.492Z"
   },
   {
    "duration": 32,
    "start_time": "2022-01-01T19:34:46.943Z"
   },
   {
    "duration": 603,
    "start_time": "2022-01-01T19:34:46.978Z"
   },
   {
    "duration": 19,
    "start_time": "2022-01-01T19:34:47.583Z"
   },
   {
    "duration": 698,
    "start_time": "2022-01-01T19:34:47.605Z"
   },
   {
    "duration": 14,
    "start_time": "2022-01-01T19:34:48.306Z"
   },
   {
    "duration": 468,
    "start_time": "2022-01-01T19:34:48.322Z"
   },
   {
    "duration": 14,
    "start_time": "2022-01-01T19:34:48.793Z"
   },
   {
    "duration": 462,
    "start_time": "2022-01-01T19:34:48.810Z"
   },
   {
    "duration": 6,
    "start_time": "2022-01-01T19:34:49.275Z"
   },
   {
    "duration": 21,
    "start_time": "2022-01-01T19:34:49.283Z"
   },
   {
    "duration": 22,
    "start_time": "2022-01-01T19:34:49.307Z"
   },
   {
    "duration": 62,
    "start_time": "2022-01-01T19:34:49.331Z"
   },
   {
    "duration": 30,
    "start_time": "2022-01-01T19:34:49.395Z"
   },
   {
    "duration": 48,
    "start_time": "2022-01-01T19:34:49.428Z"
   },
   {
    "duration": 105,
    "start_time": "2022-01-01T19:34:49.480Z"
   },
   {
    "duration": 22,
    "start_time": "2022-01-01T19:34:49.588Z"
   },
   {
    "duration": 562,
    "start_time": "2022-01-01T19:34:49.613Z"
   },
   {
    "duration": 16,
    "start_time": "2022-01-01T19:34:50.178Z"
   },
   {
    "duration": 14,
    "start_time": "2022-01-01T19:34:50.197Z"
   },
   {
    "duration": 60,
    "start_time": "2022-01-01T19:34:50.214Z"
   },
   {
    "duration": 754,
    "start_time": "2022-01-01T19:34:50.276Z"
   },
   {
    "duration": 52,
    "start_time": "2022-01-01T19:34:51.033Z"
   },
   {
    "duration": 594,
    "start_time": "2022-01-01T19:34:51.087Z"
   },
   {
    "duration": 28,
    "start_time": "2022-01-01T19:34:51.684Z"
   },
   {
    "duration": 635,
    "start_time": "2022-01-01T19:34:51.714Z"
   },
   {
    "duration": 1321,
    "start_time": "2022-01-02T10:29:29.965Z"
   },
   {
    "duration": 29,
    "start_time": "2022-01-02T10:29:31.288Z"
   },
   {
    "duration": 20,
    "start_time": "2022-01-02T10:29:31.321Z"
   },
   {
    "duration": 10,
    "start_time": "2022-01-02T10:29:31.343Z"
   },
   {
    "duration": 13,
    "start_time": "2022-01-02T10:29:31.354Z"
   },
   {
    "duration": 13,
    "start_time": "2022-01-02T10:29:31.368Z"
   },
   {
    "duration": 19,
    "start_time": "2022-01-02T10:29:31.383Z"
   },
   {
    "duration": 12,
    "start_time": "2022-01-02T10:29:31.403Z"
   },
   {
    "duration": 18,
    "start_time": "2022-01-02T10:29:31.417Z"
   },
   {
    "duration": 4,
    "start_time": "2022-01-02T10:29:31.440Z"
   },
   {
    "duration": 6,
    "start_time": "2022-01-02T10:29:31.446Z"
   },
   {
    "duration": 22,
    "start_time": "2022-01-02T10:29:31.454Z"
   },
   {
    "duration": 20,
    "start_time": "2022-01-02T10:29:31.477Z"
   },
   {
    "duration": 22,
    "start_time": "2022-01-02T10:29:31.499Z"
   },
   {
    "duration": 254,
    "start_time": "2022-01-02T10:29:31.522Z"
   },
   {
    "duration": 9,
    "start_time": "2022-01-02T10:29:31.778Z"
   },
   {
    "duration": 16,
    "start_time": "2022-01-02T10:29:31.789Z"
   },
   {
    "duration": 18,
    "start_time": "2022-01-02T10:29:31.806Z"
   },
   {
    "duration": 13,
    "start_time": "2022-01-02T10:29:31.826Z"
   },
   {
    "duration": 217,
    "start_time": "2022-01-02T10:29:31.840Z"
   },
   {
    "duration": 5,
    "start_time": "2022-01-02T10:29:32.059Z"
   },
   {
    "duration": 15,
    "start_time": "2022-01-02T10:29:32.067Z"
   },
   {
    "duration": 5,
    "start_time": "2022-01-02T10:29:32.084Z"
   },
   {
    "duration": 5,
    "start_time": "2022-01-02T10:29:32.091Z"
   },
   {
    "duration": 287,
    "start_time": "2022-01-02T10:29:32.098Z"
   },
   {
    "duration": 16,
    "start_time": "2022-01-02T10:29:32.386Z"
   },
   {
    "duration": 429,
    "start_time": "2022-01-02T10:29:32.403Z"
   },
   {
    "duration": 16,
    "start_time": "2022-01-02T10:29:32.834Z"
   },
   {
    "duration": 417,
    "start_time": "2022-01-02T10:29:32.851Z"
   },
   {
    "duration": 10,
    "start_time": "2022-01-02T10:29:33.269Z"
   },
   {
    "duration": 263,
    "start_time": "2022-01-02T10:29:33.280Z"
   },
   {
    "duration": 10,
    "start_time": "2022-01-02T10:29:33.544Z"
   },
   {
    "duration": 269,
    "start_time": "2022-01-02T10:29:33.556Z"
   },
   {
    "duration": 4,
    "start_time": "2022-01-02T10:29:33.826Z"
   },
   {
    "duration": 21,
    "start_time": "2022-01-02T10:29:33.831Z"
   },
   {
    "duration": 16,
    "start_time": "2022-01-02T10:29:33.853Z"
   },
   {
    "duration": 21,
    "start_time": "2022-01-02T10:29:33.871Z"
   },
   {
    "duration": 20,
    "start_time": "2022-01-02T10:29:33.894Z"
   },
   {
    "duration": 31,
    "start_time": "2022-01-02T10:29:33.916Z"
   },
   {
    "duration": 93,
    "start_time": "2022-01-02T10:29:33.949Z"
   },
   {
    "duration": 16,
    "start_time": "2022-01-02T10:29:34.044Z"
   },
   {
    "duration": 297,
    "start_time": "2022-01-02T10:29:34.061Z"
   },
   {
    "duration": 10,
    "start_time": "2022-01-02T10:29:34.360Z"
   },
   {
    "duration": 9,
    "start_time": "2022-01-02T10:29:34.372Z"
   },
   {
    "duration": 12,
    "start_time": "2022-01-02T10:29:34.383Z"
   },
   {
    "duration": 428,
    "start_time": "2022-01-02T10:29:34.397Z"
   },
   {
    "duration": 32,
    "start_time": "2022-01-02T10:29:34.826Z"
   },
   {
    "duration": 341,
    "start_time": "2022-01-02T10:29:34.860Z"
   },
   {
    "duration": 17,
    "start_time": "2022-01-02T10:29:35.203Z"
   },
   {
    "duration": 379,
    "start_time": "2022-01-02T10:29:35.222Z"
   },
   {
    "duration": 1160,
    "start_time": "2022-01-02T20:48:18.272Z"
   },
   {
    "duration": 31,
    "start_time": "2022-01-02T20:48:19.434Z"
   },
   {
    "duration": 20,
    "start_time": "2022-01-02T20:48:19.467Z"
   },
   {
    "duration": 11,
    "start_time": "2022-01-02T20:48:19.489Z"
   },
   {
    "duration": 8,
    "start_time": "2022-01-02T20:48:19.502Z"
   },
   {
    "duration": 12,
    "start_time": "2022-01-02T20:48:19.511Z"
   },
   {
    "duration": 13,
    "start_time": "2022-01-02T20:48:19.524Z"
   },
   {
    "duration": 8,
    "start_time": "2022-01-02T20:48:19.561Z"
   },
   {
    "duration": 14,
    "start_time": "2022-01-02T20:48:19.572Z"
   },
   {
    "duration": 9,
    "start_time": "2022-01-02T20:48:19.588Z"
   },
   {
    "duration": 3,
    "start_time": "2022-01-02T20:48:19.599Z"
   },
   {
    "duration": 6,
    "start_time": "2022-01-02T20:48:19.604Z"
   },
   {
    "duration": 14,
    "start_time": "2022-01-02T20:48:19.611Z"
   },
   {
    "duration": 37,
    "start_time": "2022-01-02T20:48:19.626Z"
   },
   {
    "duration": 5,
    "start_time": "2022-01-02T20:48:19.665Z"
   },
   {
    "duration": 300,
    "start_time": "2022-01-02T20:48:19.671Z"
   },
   {
    "duration": 8,
    "start_time": "2022-01-02T20:48:19.972Z"
   },
   {
    "duration": 7,
    "start_time": "2022-01-02T20:48:19.982Z"
   },
   {
    "duration": 5,
    "start_time": "2022-01-02T20:48:19.990Z"
   },
   {
    "duration": 4,
    "start_time": "2022-01-02T20:48:19.997Z"
   },
   {
    "duration": 254,
    "start_time": "2022-01-02T20:48:20.003Z"
   },
   {
    "duration": 5,
    "start_time": "2022-01-02T20:48:20.259Z"
   },
   {
    "duration": 14,
    "start_time": "2022-01-02T20:48:20.265Z"
   },
   {
    "duration": 5,
    "start_time": "2022-01-02T20:48:20.281Z"
   },
   {
    "duration": 5,
    "start_time": "2022-01-02T20:48:20.287Z"
   },
   {
    "duration": 299,
    "start_time": "2022-01-02T20:48:20.294Z"
   },
   {
    "duration": 16,
    "start_time": "2022-01-02T20:48:20.597Z"
   },
   {
    "duration": 453,
    "start_time": "2022-01-02T20:48:20.615Z"
   },
   {
    "duration": 12,
    "start_time": "2022-01-02T20:48:21.070Z"
   },
   {
    "duration": 418,
    "start_time": "2022-01-02T20:48:21.084Z"
   },
   {
    "duration": 10,
    "start_time": "2022-01-02T20:48:21.504Z"
   },
   {
    "duration": 293,
    "start_time": "2022-01-02T20:48:21.515Z"
   },
   {
    "duration": 12,
    "start_time": "2022-01-02T20:48:21.810Z"
   },
   {
    "duration": 287,
    "start_time": "2022-01-02T20:48:21.823Z"
   },
   {
    "duration": 5,
    "start_time": "2022-01-02T20:48:22.112Z"
   },
   {
    "duration": 18,
    "start_time": "2022-01-02T20:48:22.118Z"
   },
   {
    "duration": 29,
    "start_time": "2022-01-02T20:48:22.138Z"
   },
   {
    "duration": 20,
    "start_time": "2022-01-02T20:48:22.168Z"
   },
   {
    "duration": 21,
    "start_time": "2022-01-02T20:48:22.190Z"
   },
   {
    "duration": 18,
    "start_time": "2022-01-02T20:48:22.213Z"
   },
   {
    "duration": 118,
    "start_time": "2022-01-02T20:48:22.233Z"
   },
   {
    "duration": 19,
    "start_time": "2022-01-02T20:48:22.352Z"
   },
   {
    "duration": 326,
    "start_time": "2022-01-02T20:48:22.373Z"
   },
   {
    "duration": 11,
    "start_time": "2022-01-02T20:48:22.701Z"
   },
   {
    "duration": 9,
    "start_time": "2022-01-02T20:48:22.713Z"
   },
   {
    "duration": 14,
    "start_time": "2022-01-02T20:48:22.724Z"
   },
   {
    "duration": 434,
    "start_time": "2022-01-02T20:48:22.760Z"
   },
   {
    "duration": 27,
    "start_time": "2022-01-02T20:48:23.196Z"
   },
   {
    "duration": 352,
    "start_time": "2022-01-02T20:48:23.225Z"
   },
   {
    "duration": 18,
    "start_time": "2022-01-02T20:48:23.579Z"
   },
   {
    "duration": 365,
    "start_time": "2022-01-02T20:48:23.598Z"
   },
   {
    "duration": 9,
    "start_time": "2022-01-02T20:59:14.033Z"
   },
   {
    "duration": 18,
    "start_time": "2022-01-02T20:59:58.376Z"
   },
   {
    "duration": 23,
    "start_time": "2022-01-02T21:04:16.869Z"
   },
   {
    "duration": 3,
    "start_time": "2022-01-02T21:04:42.030Z"
   },
   {
    "duration": 50,
    "start_time": "2022-01-02T21:04:42.035Z"
   },
   {
    "duration": 17,
    "start_time": "2022-01-02T21:04:42.087Z"
   },
   {
    "duration": 33,
    "start_time": "2022-01-02T21:04:42.106Z"
   },
   {
    "duration": 21,
    "start_time": "2022-01-02T21:04:42.140Z"
   },
   {
    "duration": 23,
    "start_time": "2022-01-02T21:04:42.162Z"
   },
   {
    "duration": 34,
    "start_time": "2022-01-02T21:04:42.187Z"
   },
   {
    "duration": 15,
    "start_time": "2022-01-02T21:04:42.223Z"
   },
   {
    "duration": 23,
    "start_time": "2022-01-02T21:04:42.240Z"
   },
   {
    "duration": 12,
    "start_time": "2022-01-02T21:04:42.264Z"
   },
   {
    "duration": 610,
    "start_time": "2022-01-02T21:06:43.527Z"
   },
   {
    "duration": 348,
    "start_time": "2022-01-02T21:09:23.936Z"
   },
   {
    "duration": 471,
    "start_time": "2022-01-02T21:09:30.434Z"
   },
   {
    "duration": 475,
    "start_time": "2022-01-02T21:09:49.692Z"
   },
   {
    "duration": 306,
    "start_time": "2022-01-02T21:11:37.415Z"
   },
   {
    "duration": 164,
    "start_time": "2022-01-02T21:12:48.471Z"
   },
   {
    "duration": 174,
    "start_time": "2022-01-02T21:13:11.288Z"
   },
   {
    "duration": 244,
    "start_time": "2022-01-02T21:13:22.194Z"
   },
   {
    "duration": 282,
    "start_time": "2022-01-02T21:16:02.046Z"
   },
   {
    "duration": 274,
    "start_time": "2022-01-02T21:16:25.045Z"
   },
   {
    "duration": 285,
    "start_time": "2022-01-02T21:17:02.925Z"
   },
   {
    "duration": 286,
    "start_time": "2022-01-02T21:17:43.477Z"
   },
   {
    "duration": 288,
    "start_time": "2022-01-02T21:17:54.264Z"
   },
   {
    "duration": 285,
    "start_time": "2022-01-02T21:18:05.478Z"
   },
   {
    "duration": 252,
    "start_time": "2022-01-02T21:20:20.334Z"
   },
   {
    "duration": 4,
    "start_time": "2022-01-02T21:20:27.232Z"
   },
   {
    "duration": 4,
    "start_time": "2022-01-02T21:20:35.946Z"
   },
   {
    "duration": 4,
    "start_time": "2022-01-02T21:20:43.612Z"
   },
   {
    "duration": 4,
    "start_time": "2022-01-02T21:20:47.359Z"
   },
   {
    "duration": 161,
    "start_time": "2022-01-02T21:20:55.759Z"
   },
   {
    "duration": 482,
    "start_time": "2022-01-02T21:22:07.992Z"
   },
   {
    "duration": 4,
    "start_time": "2022-01-02T21:22:11.151Z"
   },
   {
    "duration": 283,
    "start_time": "2022-01-02T21:22:12.951Z"
   },
   {
    "duration": 279,
    "start_time": "2022-01-02T21:22:31.700Z"
   },
   {
    "duration": 352,
    "start_time": "2022-01-02T21:23:16.240Z"
   },
   {
    "duration": 294,
    "start_time": "2022-01-02T21:23:34.266Z"
   },
   {
    "duration": 647,
    "start_time": "2022-01-02T21:25:52.908Z"
   },
   {
    "duration": 297,
    "start_time": "2022-01-02T21:26:03.272Z"
   },
   {
    "duration": 290,
    "start_time": "2022-01-02T21:26:25.485Z"
   },
   {
    "duration": 421,
    "start_time": "2022-01-02T21:30:14.757Z"
   },
   {
    "duration": 297,
    "start_time": "2022-01-02T21:30:44.121Z"
   },
   {
    "duration": 246,
    "start_time": "2022-01-02T21:34:43.284Z"
   },
   {
    "duration": 590,
    "start_time": "2022-01-02T21:35:00.814Z"
   },
   {
    "duration": 599,
    "start_time": "2022-01-02T21:41:21.719Z"
   },
   {
    "duration": 353,
    "start_time": "2022-01-02T21:41:42.948Z"
   },
   {
    "duration": 539,
    "start_time": "2022-01-02T21:42:26.824Z"
   },
   {
    "duration": 466,
    "start_time": "2022-01-02T21:42:35.401Z"
   },
   {
    "duration": 488,
    "start_time": "2022-01-02T21:43:30.443Z"
   },
   {
    "duration": 366,
    "start_time": "2022-01-02T21:43:44.263Z"
   },
   {
    "duration": 498,
    "start_time": "2022-01-02T21:43:51.953Z"
   },
   {
    "duration": 1418,
    "start_time": "2022-01-02T21:46:59.081Z"
   },
   {
    "duration": 143,
    "start_time": "2022-01-02T21:48:15.620Z"
   },
   {
    "duration": 408,
    "start_time": "2022-01-02T21:48:31.387Z"
   },
   {
    "duration": 1551,
    "start_time": "2022-01-02T21:49:35.798Z"
   },
   {
    "duration": 4,
    "start_time": "2022-01-02T21:56:38.731Z"
   },
   {
    "duration": 34,
    "start_time": "2022-01-02T21:56:38.739Z"
   },
   {
    "duration": 17,
    "start_time": "2022-01-02T21:56:38.775Z"
   },
   {
    "duration": 12,
    "start_time": "2022-01-02T21:56:38.794Z"
   },
   {
    "duration": 9,
    "start_time": "2022-01-02T21:56:38.808Z"
   },
   {
    "duration": 10,
    "start_time": "2022-01-02T21:56:38.818Z"
   },
   {
    "duration": 11,
    "start_time": "2022-01-02T21:56:38.861Z"
   },
   {
    "duration": 14,
    "start_time": "2022-01-02T21:56:38.873Z"
   },
   {
    "duration": 22,
    "start_time": "2022-01-02T21:56:38.890Z"
   },
   {
    "duration": 9,
    "start_time": "2022-01-02T21:56:38.914Z"
   },
   {
    "duration": 3,
    "start_time": "2022-01-02T21:56:38.925Z"
   },
   {
    "duration": 34,
    "start_time": "2022-01-02T21:56:38.929Z"
   },
   {
    "duration": 12,
    "start_time": "2022-01-02T21:56:38.965Z"
   },
   {
    "duration": 5,
    "start_time": "2022-01-02T21:56:38.978Z"
   },
   {
    "duration": 3,
    "start_time": "2022-01-02T21:56:38.985Z"
   },
   {
    "duration": 10,
    "start_time": "2022-01-02T21:56:38.990Z"
   },
   {
    "duration": 196,
    "start_time": "2022-01-02T21:56:39.001Z"
   },
   {
    "duration": 7,
    "start_time": "2022-01-02T21:56:39.199Z"
   },
   {
    "duration": 3,
    "start_time": "2022-01-02T21:56:39.208Z"
   },
   {
    "duration": 6,
    "start_time": "2022-01-02T21:56:39.213Z"
   },
   {
    "duration": 5,
    "start_time": "2022-01-02T21:56:39.221Z"
   },
   {
    "duration": 252,
    "start_time": "2022-01-02T21:56:39.227Z"
   },
   {
    "duration": 6,
    "start_time": "2022-01-02T21:56:39.482Z"
   },
   {
    "duration": 11,
    "start_time": "2022-01-02T21:56:39.493Z"
   },
   {
    "duration": 5,
    "start_time": "2022-01-02T21:56:39.506Z"
   },
   {
    "duration": 3,
    "start_time": "2022-01-02T21:56:39.513Z"
   },
   {
    "duration": 22,
    "start_time": "2022-01-02T21:56:39.518Z"
   },
   {
    "duration": 295,
    "start_time": "2022-01-02T21:56:39.560Z"
   },
   {
    "duration": 17,
    "start_time": "2022-01-02T21:56:39.857Z"
   },
   {
    "duration": 409,
    "start_time": "2022-01-02T21:56:39.876Z"
   },
   {
    "duration": 14,
    "start_time": "2022-01-02T21:56:40.287Z"
   },
   {
    "duration": 421,
    "start_time": "2022-01-02T21:56:40.303Z"
   },
   {
    "duration": 13,
    "start_time": "2022-01-02T21:56:40.726Z"
   },
   {
    "duration": 278,
    "start_time": "2022-01-02T21:56:40.741Z"
   },
   {
    "duration": 11,
    "start_time": "2022-01-02T21:56:41.022Z"
   },
   {
    "duration": 282,
    "start_time": "2022-01-02T21:56:41.035Z"
   },
   {
    "duration": 5,
    "start_time": "2022-01-02T21:56:41.319Z"
   },
   {
    "duration": 14,
    "start_time": "2022-01-02T21:56:41.326Z"
   },
   {
    "duration": 28,
    "start_time": "2022-01-02T21:56:41.342Z"
   },
   {
    "duration": 22,
    "start_time": "2022-01-02T21:56:41.371Z"
   },
   {
    "duration": 18,
    "start_time": "2022-01-02T21:56:41.395Z"
   },
   {
    "duration": 20,
    "start_time": "2022-01-02T21:56:41.415Z"
   },
   {
    "duration": 37,
    "start_time": "2022-01-02T21:56:41.437Z"
   },
   {
    "duration": 14,
    "start_time": "2022-01-02T21:56:41.476Z"
   },
   {
    "duration": 324,
    "start_time": "2022-01-02T21:56:41.492Z"
   },
   {
    "duration": 13,
    "start_time": "2022-01-02T21:56:41.818Z"
   },
   {
    "duration": 10,
    "start_time": "2022-01-02T21:56:41.832Z"
   },
   {
    "duration": 28,
    "start_time": "2022-01-02T21:56:41.844Z"
   },
   {
    "duration": 551,
    "start_time": "2022-01-02T21:56:41.874Z"
   },
   {
    "duration": 18,
    "start_time": "2022-01-02T21:56:42.427Z"
   },
   {
    "duration": 345,
    "start_time": "2022-01-02T21:56:42.447Z"
   },
   {
    "duration": 10,
    "start_time": "2022-01-02T21:56:42.794Z"
   },
   {
    "duration": 345,
    "start_time": "2022-01-02T21:56:42.806Z"
   },
   {
    "duration": 1249,
    "start_time": "2022-01-02T21:56:43.154Z"
   },
   {
    "duration": 26,
    "start_time": "2022-01-02T21:57:24.895Z"
   },
   {
    "duration": 3,
    "start_time": "2022-01-02T21:58:15.691Z"
   },
   {
    "duration": 32,
    "start_time": "2022-01-02T21:58:15.696Z"
   },
   {
    "duration": 18,
    "start_time": "2022-01-02T21:58:15.731Z"
   },
   {
    "duration": 13,
    "start_time": "2022-01-02T21:58:15.751Z"
   },
   {
    "duration": 10,
    "start_time": "2022-01-02T21:58:15.766Z"
   },
   {
    "duration": 14,
    "start_time": "2022-01-02T21:58:15.777Z"
   },
   {
    "duration": 12,
    "start_time": "2022-01-02T21:58:15.792Z"
   },
   {
    "duration": 11,
    "start_time": "2022-01-02T21:58:15.806Z"
   },
   {
    "duration": 51,
    "start_time": "2022-01-02T21:58:15.820Z"
   },
   {
    "duration": 9,
    "start_time": "2022-01-02T21:58:15.873Z"
   },
   {
    "duration": 6,
    "start_time": "2022-01-02T21:58:15.883Z"
   },
   {
    "duration": 13,
    "start_time": "2022-01-02T21:58:15.890Z"
   },
   {
    "duration": 15,
    "start_time": "2022-01-02T21:58:15.905Z"
   },
   {
    "duration": 5,
    "start_time": "2022-01-02T21:58:15.922Z"
   },
   {
    "duration": 33,
    "start_time": "2022-01-02T21:58:15.928Z"
   },
   {
    "duration": 11,
    "start_time": "2022-01-02T21:58:15.963Z"
   },
   {
    "duration": 182,
    "start_time": "2022-01-02T21:58:15.976Z"
   },
   {
    "duration": 8,
    "start_time": "2022-01-02T21:58:16.161Z"
   },
   {
    "duration": 5,
    "start_time": "2022-01-02T21:58:16.171Z"
   },
   {
    "duration": 6,
    "start_time": "2022-01-02T21:58:16.178Z"
   },
   {
    "duration": 6,
    "start_time": "2022-01-02T21:58:16.185Z"
   },
   {
    "duration": 371,
    "start_time": "2022-01-02T21:58:16.193Z"
   },
   {
    "duration": 5,
    "start_time": "2022-01-02T21:58:16.566Z"
   },
   {
    "duration": 12,
    "start_time": "2022-01-02T21:58:16.573Z"
   },
   {
    "duration": 5,
    "start_time": "2022-01-02T21:58:16.587Z"
   },
   {
    "duration": 7,
    "start_time": "2022-01-02T21:58:16.594Z"
   },
   {
    "duration": 4,
    "start_time": "2022-01-02T21:58:16.605Z"
   },
   {
    "duration": 426,
    "start_time": "2022-01-02T21:58:16.612Z"
   },
   {
    "duration": 26,
    "start_time": "2022-01-02T21:58:17.039Z"
   },
   {
    "duration": 393,
    "start_time": "2022-01-02T21:58:17.067Z"
   },
   {
    "duration": 13,
    "start_time": "2022-01-02T21:58:17.462Z"
   },
   {
    "duration": 428,
    "start_time": "2022-01-02T21:58:17.477Z"
   },
   {
    "duration": 11,
    "start_time": "2022-01-02T21:58:17.907Z"
   },
   {
    "duration": 409,
    "start_time": "2022-01-02T21:58:17.919Z"
   },
   {
    "duration": 17,
    "start_time": "2022-01-02T21:58:18.337Z"
   },
   {
    "duration": 507,
    "start_time": "2022-01-02T21:58:18.356Z"
   },
   {
    "duration": 4,
    "start_time": "2022-01-02T21:58:18.864Z"
   },
   {
    "duration": 14,
    "start_time": "2022-01-02T21:58:18.870Z"
   },
   {
    "duration": 15,
    "start_time": "2022-01-02T21:58:18.886Z"
   },
   {
    "duration": 23,
    "start_time": "2022-01-02T21:58:18.902Z"
   },
   {
    "duration": 35,
    "start_time": "2022-01-02T21:58:18.927Z"
   },
   {
    "duration": 20,
    "start_time": "2022-01-02T21:58:18.964Z"
   },
   {
    "duration": 17,
    "start_time": "2022-01-02T21:58:18.985Z"
   },
   {
    "duration": 15,
    "start_time": "2022-01-02T21:58:19.004Z"
   },
   {
    "duration": 327,
    "start_time": "2022-01-02T21:58:19.020Z"
   },
   {
    "duration": 20,
    "start_time": "2022-01-02T21:58:19.349Z"
   },
   {
    "duration": 9,
    "start_time": "2022-01-02T21:58:19.370Z"
   },
   {
    "duration": 15,
    "start_time": "2022-01-02T21:58:19.381Z"
   },
   {
    "duration": 600,
    "start_time": "2022-01-02T21:58:19.398Z"
   },
   {
    "duration": 21,
    "start_time": "2022-01-02T21:58:20.001Z"
   },
   {
    "duration": 353,
    "start_time": "2022-01-02T21:58:20.023Z"
   },
   {
    "duration": 9,
    "start_time": "2022-01-02T21:58:20.377Z"
   },
   {
    "duration": 347,
    "start_time": "2022-01-02T21:58:20.388Z"
   },
   {
    "duration": 1405,
    "start_time": "2022-01-02T21:58:20.736Z"
   },
   {
    "duration": 3,
    "start_time": "2022-01-02T21:58:34.554Z"
   },
   {
    "duration": 29,
    "start_time": "2022-01-02T21:58:36.348Z"
   },
   {
    "duration": 18,
    "start_time": "2022-01-02T21:58:38.528Z"
   },
   {
    "duration": 13,
    "start_time": "2022-01-02T21:58:46.936Z"
   },
   {
    "duration": 10,
    "start_time": "2022-01-02T21:58:48.992Z"
   },
   {
    "duration": 11,
    "start_time": "2022-01-02T21:58:50.054Z"
   },
   {
    "duration": 13,
    "start_time": "2022-01-02T21:58:51.272Z"
   },
   {
    "duration": 9,
    "start_time": "2022-01-02T21:58:54.278Z"
   },
   {
    "duration": 14,
    "start_time": "2022-01-02T21:59:06.902Z"
   },
   {
    "duration": 11,
    "start_time": "2022-01-02T21:59:14.692Z"
   },
   {
    "duration": 4,
    "start_time": "2022-01-02T21:59:22.250Z"
   },
   {
    "duration": 5,
    "start_time": "2022-01-02T21:59:23.782Z"
   },
   {
    "duration": 13,
    "start_time": "2022-01-02T21:59:28.523Z"
   },
   {
    "duration": 5,
    "start_time": "2022-01-02T21:59:30.044Z"
   },
   {
    "duration": 3,
    "start_time": "2022-01-02T21:59:31.311Z"
   },
   {
    "duration": 4,
    "start_time": "2022-01-02T21:59:33.094Z"
   },
   {
    "duration": 162,
    "start_time": "2022-01-02T21:59:34.528Z"
   },
   {
    "duration": 10,
    "start_time": "2022-01-02T21:59:37.526Z"
   },
   {
    "duration": 3,
    "start_time": "2022-01-02T21:59:39.216Z"
   },
   {
    "duration": 4,
    "start_time": "2022-01-02T22:00:55.784Z"
   },
   {
    "duration": 33,
    "start_time": "2022-01-02T22:00:55.790Z"
   },
   {
    "duration": 17,
    "start_time": "2022-01-02T22:00:55.825Z"
   },
   {
    "duration": 11,
    "start_time": "2022-01-02T22:00:55.844Z"
   },
   {
    "duration": 12,
    "start_time": "2022-01-02T22:00:55.857Z"
   },
   {
    "duration": 11,
    "start_time": "2022-01-02T22:00:55.871Z"
   },
   {
    "duration": 12,
    "start_time": "2022-01-02T22:00:55.884Z"
   },
   {
    "duration": 10,
    "start_time": "2022-01-02T22:00:55.898Z"
   },
   {
    "duration": 21,
    "start_time": "2022-01-02T22:00:55.910Z"
   },
   {
    "duration": 31,
    "start_time": "2022-01-02T22:00:55.933Z"
   },
   {
    "duration": 4,
    "start_time": "2022-01-02T22:00:55.965Z"
   },
   {
    "duration": 7,
    "start_time": "2022-01-02T22:00:55.970Z"
   },
   {
    "duration": 13,
    "start_time": "2022-01-02T22:00:55.978Z"
   },
   {
    "duration": 4,
    "start_time": "2022-01-02T22:00:55.993Z"
   },
   {
    "duration": 4,
    "start_time": "2022-01-02T22:00:55.999Z"
   },
   {
    "duration": 7,
    "start_time": "2022-01-02T22:00:56.004Z"
   },
   {
    "duration": 202,
    "start_time": "2022-01-02T22:00:56.012Z"
   },
   {
    "duration": 14,
    "start_time": "2022-01-02T22:01:02.591Z"
   },
   {
    "duration": 3,
    "start_time": "2022-01-02T22:01:18.766Z"
   },
   {
    "duration": 35,
    "start_time": "2022-01-02T22:01:18.772Z"
   },
   {
    "duration": 18,
    "start_time": "2022-01-02T22:01:18.809Z"
   },
   {
    "duration": 10,
    "start_time": "2022-01-02T22:01:18.829Z"
   },
   {
    "duration": 19,
    "start_time": "2022-01-02T22:01:18.841Z"
   },
   {
    "duration": 9,
    "start_time": "2022-01-02T22:01:18.862Z"
   },
   {
    "duration": 13,
    "start_time": "2022-01-02T22:01:18.873Z"
   },
   {
    "duration": 8,
    "start_time": "2022-01-02T22:01:18.887Z"
   },
   {
    "duration": 20,
    "start_time": "2022-01-02T22:01:18.897Z"
   },
   {
    "duration": 11,
    "start_time": "2022-01-02T22:01:18.918Z"
   },
   {
    "duration": 13,
    "start_time": "2022-01-02T22:01:24.220Z"
   },
   {
    "duration": 4,
    "start_time": "2022-01-02T22:01:43.622Z"
   },
   {
    "duration": 29,
    "start_time": "2022-01-02T22:01:43.628Z"
   },
   {
    "duration": 17,
    "start_time": "2022-01-02T22:01:43.659Z"
   },
   {
    "duration": 10,
    "start_time": "2022-01-02T22:01:43.678Z"
   },
   {
    "duration": 9,
    "start_time": "2022-01-02T22:01:43.689Z"
   },
   {
    "duration": 17,
    "start_time": "2022-01-02T22:01:43.700Z"
   },
   {
    "duration": 9,
    "start_time": "2022-01-02T22:01:43.719Z"
   },
   {
    "duration": 34,
    "start_time": "2022-01-02T22:01:43.730Z"
   },
   {
    "duration": 12,
    "start_time": "2022-01-02T22:01:48.074Z"
   },
   {
    "duration": 3,
    "start_time": "2022-01-02T22:03:17.083Z"
   },
   {
    "duration": 32,
    "start_time": "2022-01-02T22:03:17.088Z"
   },
   {
    "duration": 17,
    "start_time": "2022-01-02T22:03:17.122Z"
   },
   {
    "duration": 11,
    "start_time": "2022-01-02T22:03:17.141Z"
   },
   {
    "duration": 9,
    "start_time": "2022-01-02T22:03:17.154Z"
   },
   {
    "duration": 11,
    "start_time": "2022-01-02T22:03:17.164Z"
   },
   {
    "duration": 11,
    "start_time": "2022-01-02T22:03:17.176Z"
   },
   {
    "duration": 7,
    "start_time": "2022-01-02T22:03:17.189Z"
   },
   {
    "duration": 12,
    "start_time": "2022-01-02T22:03:17.198Z"
   },
   {
    "duration": 15,
    "start_time": "2022-01-02T22:03:17.212Z"
   },
   {
    "duration": 46,
    "start_time": "2022-01-02T22:03:17.229Z"
   },
   {
    "duration": 3,
    "start_time": "2022-01-02T22:04:33.859Z"
   },
   {
    "duration": 45,
    "start_time": "2022-01-02T22:04:33.864Z"
   },
   {
    "duration": 16,
    "start_time": "2022-01-02T22:04:33.911Z"
   },
   {
    "duration": 15,
    "start_time": "2022-01-02T22:04:33.929Z"
   },
   {
    "duration": 8,
    "start_time": "2022-01-02T22:04:33.946Z"
   },
   {
    "duration": 19,
    "start_time": "2022-01-02T22:04:33.956Z"
   },
   {
    "duration": 19,
    "start_time": "2022-01-02T22:04:33.977Z"
   },
   {
    "duration": 15,
    "start_time": "2022-01-02T22:04:33.998Z"
   },
   {
    "duration": 26,
    "start_time": "2022-01-02T22:04:34.015Z"
   },
   {
    "duration": 22,
    "start_time": "2022-01-02T22:04:34.042Z"
   },
   {
    "duration": 21,
    "start_time": "2022-01-02T22:04:34.066Z"
   },
   {
    "duration": 1204,
    "start_time": "2022-01-02T22:06:17.522Z"
   },
   {
    "duration": 30,
    "start_time": "2022-01-02T22:06:18.728Z"
   },
   {
    "duration": 26,
    "start_time": "2022-01-02T22:06:18.759Z"
   },
   {
    "duration": 12,
    "start_time": "2022-01-02T22:06:18.787Z"
   },
   {
    "duration": 27,
    "start_time": "2022-01-02T22:06:18.800Z"
   },
   {
    "duration": 30,
    "start_time": "2022-01-02T22:06:18.829Z"
   },
   {
    "duration": 30,
    "start_time": "2022-01-02T22:06:18.861Z"
   },
   {
    "duration": 16,
    "start_time": "2022-01-02T22:06:18.894Z"
   },
   {
    "duration": 27,
    "start_time": "2022-01-02T22:06:18.912Z"
   },
   {
    "duration": 30,
    "start_time": "2022-01-02T22:06:18.940Z"
   },
   {
    "duration": 9,
    "start_time": "2022-01-02T22:06:18.972Z"
   },
   {
    "duration": 31,
    "start_time": "2022-01-02T22:06:18.983Z"
   },
   {
    "duration": 27,
    "start_time": "2022-01-02T22:06:19.015Z"
   },
   {
    "duration": 5,
    "start_time": "2022-01-02T22:06:19.043Z"
   },
   {
    "duration": 4,
    "start_time": "2022-01-02T22:06:19.049Z"
   },
   {
    "duration": 7,
    "start_time": "2022-01-02T22:06:19.055Z"
   },
   {
    "duration": 174,
    "start_time": "2022-01-02T22:06:19.063Z"
   },
   {
    "duration": 8,
    "start_time": "2022-01-02T22:06:19.238Z"
   },
   {
    "duration": 5,
    "start_time": "2022-01-02T22:06:19.248Z"
   },
   {
    "duration": 3,
    "start_time": "2022-01-02T22:06:19.260Z"
   },
   {
    "duration": 4,
    "start_time": "2022-01-02T22:06:19.265Z"
   },
   {
    "duration": 245,
    "start_time": "2022-01-02T22:06:19.271Z"
   },
   {
    "duration": 6,
    "start_time": "2022-01-02T22:06:19.521Z"
   },
   {
    "duration": 13,
    "start_time": "2022-01-02T22:06:19.529Z"
   },
   {
    "duration": 18,
    "start_time": "2022-01-02T22:06:19.544Z"
   },
   {
    "duration": 4,
    "start_time": "2022-01-02T22:06:19.564Z"
   },
   {
    "duration": 9,
    "start_time": "2022-01-02T22:06:19.570Z"
   },
   {
    "duration": 316,
    "start_time": "2022-01-02T22:06:19.581Z"
   },
   {
    "duration": 17,
    "start_time": "2022-01-02T22:06:19.898Z"
   },
   {
    "duration": 507,
    "start_time": "2022-01-02T22:06:19.917Z"
   },
   {
    "duration": 20,
    "start_time": "2022-01-02T22:06:20.426Z"
   },
   {
    "duration": 564,
    "start_time": "2022-01-02T22:06:20.448Z"
   },
   {
    "duration": 11,
    "start_time": "2022-01-02T22:06:21.014Z"
   },
   {
    "duration": 271,
    "start_time": "2022-01-02T22:06:21.027Z"
   },
   {
    "duration": 10,
    "start_time": "2022-01-02T22:06:21.300Z"
   },
   {
    "duration": 283,
    "start_time": "2022-01-02T22:06:21.312Z"
   },
   {
    "duration": 5,
    "start_time": "2022-01-02T22:06:21.596Z"
   },
   {
    "duration": 20,
    "start_time": "2022-01-02T22:06:21.603Z"
   },
   {
    "duration": 36,
    "start_time": "2022-01-02T22:06:21.625Z"
   },
   {
    "duration": 26,
    "start_time": "2022-01-02T22:06:21.663Z"
   },
   {
    "duration": 26,
    "start_time": "2022-01-02T22:06:21.692Z"
   },
   {
    "duration": 44,
    "start_time": "2022-01-02T22:06:21.720Z"
   },
   {
    "duration": 21,
    "start_time": "2022-01-02T22:06:21.766Z"
   },
   {
    "duration": 106,
    "start_time": "2022-01-02T22:06:21.788Z"
   },
   {
    "duration": 319,
    "start_time": "2022-01-02T22:06:21.896Z"
   },
   {
    "duration": 14,
    "start_time": "2022-01-02T22:06:22.217Z"
   },
   {
    "duration": 32,
    "start_time": "2022-01-02T22:06:22.233Z"
   },
   {
    "duration": 14,
    "start_time": "2022-01-02T22:06:22.267Z"
   },
   {
    "duration": 435,
    "start_time": "2022-01-02T22:06:22.283Z"
   },
   {
    "duration": 21,
    "start_time": "2022-01-02T22:06:22.721Z"
   },
   {
    "duration": 345,
    "start_time": "2022-01-02T22:06:22.744Z"
   },
   {
    "duration": 9,
    "start_time": "2022-01-02T22:06:23.091Z"
   },
   {
    "duration": 350,
    "start_time": "2022-01-02T22:06:23.102Z"
   },
   {
    "duration": 1354,
    "start_time": "2022-01-02T22:06:23.454Z"
   },
   {
    "duration": 3,
    "start_time": "2022-01-02T22:07:06.527Z"
   },
   {
    "duration": 31,
    "start_time": "2022-01-02T22:07:06.532Z"
   },
   {
    "duration": 13,
    "start_time": "2022-01-02T22:07:06.565Z"
   },
   {
    "duration": 3,
    "start_time": "2022-01-02T22:07:48.641Z"
   },
   {
    "duration": 32,
    "start_time": "2022-01-02T22:07:48.648Z"
   },
   {
    "duration": 17,
    "start_time": "2022-01-02T22:07:48.682Z"
   },
   {
    "duration": 11,
    "start_time": "2022-01-02T22:07:48.701Z"
   },
   {
    "duration": 8,
    "start_time": "2022-01-02T22:07:48.714Z"
   },
   {
    "duration": 11,
    "start_time": "2022-01-02T22:07:48.724Z"
   },
   {
    "duration": 35,
    "start_time": "2022-01-02T22:07:48.736Z"
   },
   {
    "duration": 9,
    "start_time": "2022-01-02T22:07:48.772Z"
   },
   {
    "duration": 19,
    "start_time": "2022-01-02T22:07:48.782Z"
   },
   {
    "duration": 12,
    "start_time": "2022-01-02T22:07:48.803Z"
   },
   {
    "duration": 20,
    "start_time": "2022-01-02T23:17:19.622Z"
   },
   {
    "duration": 10,
    "start_time": "2022-01-02T23:17:22.524Z"
   },
   {
    "duration": 21,
    "start_time": "2022-01-02T23:18:11.082Z"
   },
   {
    "duration": 3,
    "start_time": "2022-01-02T23:18:27.341Z"
   },
   {
    "duration": 29,
    "start_time": "2022-01-02T23:18:27.349Z"
   },
   {
    "duration": 17,
    "start_time": "2022-01-02T23:18:27.380Z"
   },
   {
    "duration": 11,
    "start_time": "2022-01-02T23:18:27.399Z"
   },
   {
    "duration": 9,
    "start_time": "2022-01-02T23:18:27.412Z"
   },
   {
    "duration": 10,
    "start_time": "2022-01-02T23:18:27.422Z"
   },
   {
    "duration": 35,
    "start_time": "2022-01-02T23:18:27.434Z"
   },
   {
    "duration": 7,
    "start_time": "2022-01-02T23:18:27.471Z"
   },
   {
    "duration": 21,
    "start_time": "2022-01-02T23:18:27.481Z"
   },
   {
    "duration": 9,
    "start_time": "2022-01-02T23:18:27.504Z"
   },
   {
    "duration": 61,
    "start_time": "2022-01-02T23:18:27.514Z"
   },
   {
    "duration": 3,
    "start_time": "2022-01-02T23:18:27.577Z"
   },
   {
    "duration": 6,
    "start_time": "2022-01-02T23:18:27.582Z"
   },
   {
    "duration": 15,
    "start_time": "2022-01-02T23:18:27.590Z"
   },
   {
    "duration": 6,
    "start_time": "2022-01-02T23:18:27.607Z"
   },
   {
    "duration": 4,
    "start_time": "2022-01-02T23:18:27.614Z"
   },
   {
    "duration": 42,
    "start_time": "2022-01-02T23:18:27.620Z"
   },
   {
    "duration": 173,
    "start_time": "2022-01-02T23:18:27.664Z"
   },
   {
    "duration": 27,
    "start_time": "2022-01-02T23:18:27.839Z"
   },
   {
    "duration": 3,
    "start_time": "2022-01-02T23:18:27.870Z"
   },
   {
    "duration": 12,
    "start_time": "2022-01-02T23:18:27.876Z"
   },
   {
    "duration": 5,
    "start_time": "2022-01-02T23:18:27.889Z"
   },
   {
    "duration": 236,
    "start_time": "2022-01-02T23:18:27.896Z"
   },
   {
    "duration": 5,
    "start_time": "2022-01-02T23:18:28.134Z"
   },
   {
    "duration": 21,
    "start_time": "2022-01-02T23:18:28.140Z"
   },
   {
    "duration": 4,
    "start_time": "2022-01-02T23:18:28.163Z"
   },
   {
    "duration": 12,
    "start_time": "2022-01-02T23:18:28.169Z"
   },
   {
    "duration": 6,
    "start_time": "2022-01-02T23:18:28.183Z"
   },
   {
    "duration": 293,
    "start_time": "2022-01-02T23:18:28.190Z"
   },
   {
    "duration": 16,
    "start_time": "2022-01-02T23:18:28.484Z"
   },
   {
    "duration": 380,
    "start_time": "2022-01-02T23:18:28.501Z"
   },
   {
    "duration": 12,
    "start_time": "2022-01-02T23:18:28.883Z"
   },
   {
    "duration": 402,
    "start_time": "2022-01-02T23:18:28.897Z"
   },
   {
    "duration": 10,
    "start_time": "2022-01-02T23:18:29.300Z"
   },
   {
    "duration": 260,
    "start_time": "2022-01-02T23:18:29.312Z"
   },
   {
    "duration": 10,
    "start_time": "2022-01-02T23:18:29.574Z"
   },
   {
    "duration": 274,
    "start_time": "2022-01-02T23:18:29.586Z"
   },
   {
    "duration": 4,
    "start_time": "2022-01-02T23:18:29.862Z"
   },
   {
    "duration": 19,
    "start_time": "2022-01-02T23:18:29.867Z"
   },
   {
    "duration": 20,
    "start_time": "2022-01-02T23:18:29.887Z"
   },
   {
    "duration": 24,
    "start_time": "2022-01-02T23:18:29.908Z"
   },
   {
    "duration": 38,
    "start_time": "2022-01-02T23:18:29.933Z"
   },
   {
    "duration": 19,
    "start_time": "2022-01-02T23:18:29.973Z"
   },
   {
    "duration": 26,
    "start_time": "2022-01-02T23:18:29.993Z"
   },
   {
    "duration": 34,
    "start_time": "2022-01-02T23:18:30.021Z"
   },
   {
    "duration": 326,
    "start_time": "2022-01-02T23:18:30.057Z"
   },
   {
    "duration": 11,
    "start_time": "2022-01-02T23:18:30.385Z"
   },
   {
    "duration": 17,
    "start_time": "2022-01-02T23:18:30.398Z"
   },
   {
    "duration": 19,
    "start_time": "2022-01-02T23:18:30.417Z"
   },
   {
    "duration": 427,
    "start_time": "2022-01-02T23:18:30.438Z"
   },
   {
    "duration": 24,
    "start_time": "2022-01-02T23:18:30.867Z"
   },
   {
    "duration": 345,
    "start_time": "2022-01-02T23:18:30.894Z"
   },
   {
    "duration": 21,
    "start_time": "2022-01-02T23:18:31.240Z"
   },
   {
    "duration": 469,
    "start_time": "2022-01-02T23:18:31.263Z"
   },
   {
    "duration": 1268,
    "start_time": "2022-01-02T23:18:31.734Z"
   }
  ],
  "kernelspec": {
   "display_name": "Python 3",
   "language": "python",
   "name": "python3"
  },
  "language_info": {
   "codemirror_mode": {
    "name": "ipython",
    "version": 3
   },
   "file_extension": ".py",
   "mimetype": "text/x-python",
   "name": "python",
   "nbconvert_exporter": "python",
   "pygments_lexer": "ipython3",
   "version": "3.8.8"
  },
  "toc": {
   "base_numbering": 1,
   "nav_menu": {
    "height": "376px",
    "width": "463px"
   },
   "number_sections": true,
   "sideBar": true,
   "skip_h1_title": true,
   "title_cell": "Table of Contents",
   "title_sidebar": "Contents",
   "toc_cell": false,
   "toc_position": {},
   "toc_section_display": true,
   "toc_window_display": false
  }
 },
 "nbformat": 4,
 "nbformat_minor": 2
}
